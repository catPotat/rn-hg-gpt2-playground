{
  "nbformat": 4,
  "nbformat_minor": 0,
  "metadata": {
    "colab": {
      "name": "Huggingface GPT-2 Training.ipynb",
      "provenance": [],
      "collapsed_sections": [
        "lciJaxJNIaoi",
        "ViiwieQVIexq"
      ],
      "toc_visible": true,
      "include_colab_link": true
    },
    "kernelspec": {
      "name": "python3",
      "display_name": "Python 3"
    },
    "widgets": {
      "application/vnd.jupyter.widget-state+json": {
        "12f18d7b901e4908b555636e54247320": {
          "model_module": "@jupyter-widgets/controls",
          "model_name": "HBoxModel",
          "state": {
            "_view_name": "HBoxView",
            "_dom_classes": [],
            "_model_name": "HBoxModel",
            "_view_module": "@jupyter-widgets/controls",
            "_model_module_version": "1.5.0",
            "_view_count": null,
            "_view_module_version": "1.5.0",
            "box_style": "",
            "layout": "IPY_MODEL_d9d0dede51a544b59b21af5aa303eefc",
            "_model_module": "@jupyter-widgets/controls",
            "children": [
              "IPY_MODEL_a2c53c955a5143f4ae5593c5382e27ac",
              "IPY_MODEL_e04474288c36449db1361abaa0c0c796"
            ]
          }
        },
        "d9d0dede51a544b59b21af5aa303eefc": {
          "model_module": "@jupyter-widgets/base",
          "model_name": "LayoutModel",
          "state": {
            "_view_name": "LayoutView",
            "grid_template_rows": null,
            "right": null,
            "justify_content": null,
            "_view_module": "@jupyter-widgets/base",
            "overflow": null,
            "_model_module_version": "1.2.0",
            "_view_count": null,
            "flex_flow": null,
            "width": null,
            "min_width": null,
            "border": null,
            "align_items": null,
            "bottom": null,
            "_model_module": "@jupyter-widgets/base",
            "top": null,
            "grid_column": null,
            "overflow_y": null,
            "overflow_x": null,
            "grid_auto_flow": null,
            "grid_area": null,
            "grid_template_columns": null,
            "flex": null,
            "_model_name": "LayoutModel",
            "justify_items": null,
            "grid_row": null,
            "max_height": null,
            "align_content": null,
            "visibility": null,
            "align_self": null,
            "height": null,
            "min_height": null,
            "padding": null,
            "grid_auto_rows": null,
            "grid_gap": null,
            "max_width": null,
            "order": null,
            "_view_module_version": "1.2.0",
            "grid_template_areas": null,
            "object_position": null,
            "object_fit": null,
            "grid_auto_columns": null,
            "margin": null,
            "display": null,
            "left": null
          }
        },
        "a2c53c955a5143f4ae5593c5382e27ac": {
          "model_module": "@jupyter-widgets/controls",
          "model_name": "FloatProgressModel",
          "state": {
            "_view_name": "ProgressView",
            "style": "IPY_MODEL_6f8b96c304d94f4a8b4e353a5658fd4b",
            "_dom_classes": [],
            "description": "Downloading: 100%",
            "_model_name": "FloatProgressModel",
            "bar_style": "success",
            "max": 718,
            "_view_module": "@jupyter-widgets/controls",
            "_model_module_version": "1.5.0",
            "value": 718,
            "_view_count": null,
            "_view_module_version": "1.5.0",
            "orientation": "horizontal",
            "min": 0,
            "description_tooltip": null,
            "_model_module": "@jupyter-widgets/controls",
            "layout": "IPY_MODEL_3842ccbac9844feeb90b856a80fafafb"
          }
        },
        "e04474288c36449db1361abaa0c0c796": {
          "model_module": "@jupyter-widgets/controls",
          "model_name": "HTMLModel",
          "state": {
            "_view_name": "HTMLView",
            "style": "IPY_MODEL_06d88e395db3489890450893bcdd0b96",
            "_dom_classes": [],
            "description": "",
            "_model_name": "HTMLModel",
            "placeholder": "​",
            "_view_module": "@jupyter-widgets/controls",
            "_model_module_version": "1.5.0",
            "value": " 718/718 [00:40&lt;00:00, 17.8B/s]",
            "_view_count": null,
            "_view_module_version": "1.5.0",
            "description_tooltip": null,
            "_model_module": "@jupyter-widgets/controls",
            "layout": "IPY_MODEL_ea694dc555f44966a90d6e1dfdd341ab"
          }
        },
        "6f8b96c304d94f4a8b4e353a5658fd4b": {
          "model_module": "@jupyter-widgets/controls",
          "model_name": "ProgressStyleModel",
          "state": {
            "_view_name": "StyleView",
            "_model_name": "ProgressStyleModel",
            "description_width": "initial",
            "_view_module": "@jupyter-widgets/base",
            "_model_module_version": "1.5.0",
            "_view_count": null,
            "_view_module_version": "1.2.0",
            "bar_color": null,
            "_model_module": "@jupyter-widgets/controls"
          }
        },
        "3842ccbac9844feeb90b856a80fafafb": {
          "model_module": "@jupyter-widgets/base",
          "model_name": "LayoutModel",
          "state": {
            "_view_name": "LayoutView",
            "grid_template_rows": null,
            "right": null,
            "justify_content": null,
            "_view_module": "@jupyter-widgets/base",
            "overflow": null,
            "_model_module_version": "1.2.0",
            "_view_count": null,
            "flex_flow": null,
            "width": null,
            "min_width": null,
            "border": null,
            "align_items": null,
            "bottom": null,
            "_model_module": "@jupyter-widgets/base",
            "top": null,
            "grid_column": null,
            "overflow_y": null,
            "overflow_x": null,
            "grid_auto_flow": null,
            "grid_area": null,
            "grid_template_columns": null,
            "flex": null,
            "_model_name": "LayoutModel",
            "justify_items": null,
            "grid_row": null,
            "max_height": null,
            "align_content": null,
            "visibility": null,
            "align_self": null,
            "height": null,
            "min_height": null,
            "padding": null,
            "grid_auto_rows": null,
            "grid_gap": null,
            "max_width": null,
            "order": null,
            "_view_module_version": "1.2.0",
            "grid_template_areas": null,
            "object_position": null,
            "object_fit": null,
            "grid_auto_columns": null,
            "margin": null,
            "display": null,
            "left": null
          }
        },
        "06d88e395db3489890450893bcdd0b96": {
          "model_module": "@jupyter-widgets/controls",
          "model_name": "DescriptionStyleModel",
          "state": {
            "_view_name": "StyleView",
            "_model_name": "DescriptionStyleModel",
            "description_width": "",
            "_view_module": "@jupyter-widgets/base",
            "_model_module_version": "1.5.0",
            "_view_count": null,
            "_view_module_version": "1.2.0",
            "_model_module": "@jupyter-widgets/controls"
          }
        },
        "ea694dc555f44966a90d6e1dfdd341ab": {
          "model_module": "@jupyter-widgets/base",
          "model_name": "LayoutModel",
          "state": {
            "_view_name": "LayoutView",
            "grid_template_rows": null,
            "right": null,
            "justify_content": null,
            "_view_module": "@jupyter-widgets/base",
            "overflow": null,
            "_model_module_version": "1.2.0",
            "_view_count": null,
            "flex_flow": null,
            "width": null,
            "min_width": null,
            "border": null,
            "align_items": null,
            "bottom": null,
            "_model_module": "@jupyter-widgets/base",
            "top": null,
            "grid_column": null,
            "overflow_y": null,
            "overflow_x": null,
            "grid_auto_flow": null,
            "grid_area": null,
            "grid_template_columns": null,
            "flex": null,
            "_model_name": "LayoutModel",
            "justify_items": null,
            "grid_row": null,
            "max_height": null,
            "align_content": null,
            "visibility": null,
            "align_self": null,
            "height": null,
            "min_height": null,
            "padding": null,
            "grid_auto_rows": null,
            "grid_gap": null,
            "max_width": null,
            "order": null,
            "_view_module_version": "1.2.0",
            "grid_template_areas": null,
            "object_position": null,
            "object_fit": null,
            "grid_auto_columns": null,
            "margin": null,
            "display": null,
            "left": null
          }
        },
        "6d4e2d7d40ba46b9ac734d9215de67d4": {
          "model_module": "@jupyter-widgets/controls",
          "model_name": "HBoxModel",
          "state": {
            "_view_name": "HBoxView",
            "_dom_classes": [],
            "_model_name": "HBoxModel",
            "_view_module": "@jupyter-widgets/controls",
            "_model_module_version": "1.5.0",
            "_view_count": null,
            "_view_module_version": "1.5.0",
            "box_style": "",
            "layout": "IPY_MODEL_dac3dcea2ebd4e448996f1b1b9feb639",
            "_model_module": "@jupyter-widgets/controls",
            "children": [
              "IPY_MODEL_cb71cd5b849c4d439f011f6bc836bb87",
              "IPY_MODEL_75d47faec4284789ad335ea46c30cfca"
            ]
          }
        },
        "dac3dcea2ebd4e448996f1b1b9feb639": {
          "model_module": "@jupyter-widgets/base",
          "model_name": "LayoutModel",
          "state": {
            "_view_name": "LayoutView",
            "grid_template_rows": null,
            "right": null,
            "justify_content": null,
            "_view_module": "@jupyter-widgets/base",
            "overflow": null,
            "_model_module_version": "1.2.0",
            "_view_count": null,
            "flex_flow": null,
            "width": null,
            "min_width": null,
            "border": null,
            "align_items": null,
            "bottom": null,
            "_model_module": "@jupyter-widgets/base",
            "top": null,
            "grid_column": null,
            "overflow_y": null,
            "overflow_x": null,
            "grid_auto_flow": null,
            "grid_area": null,
            "grid_template_columns": null,
            "flex": null,
            "_model_name": "LayoutModel",
            "justify_items": null,
            "grid_row": null,
            "max_height": null,
            "align_content": null,
            "visibility": null,
            "align_self": null,
            "height": null,
            "min_height": null,
            "padding": null,
            "grid_auto_rows": null,
            "grid_gap": null,
            "max_width": null,
            "order": null,
            "_view_module_version": "1.2.0",
            "grid_template_areas": null,
            "object_position": null,
            "object_fit": null,
            "grid_auto_columns": null,
            "margin": null,
            "display": null,
            "left": null
          }
        },
        "cb71cd5b849c4d439f011f6bc836bb87": {
          "model_module": "@jupyter-widgets/controls",
          "model_name": "FloatProgressModel",
          "state": {
            "_view_name": "ProgressView",
            "style": "IPY_MODEL_debd94add8c443d68e5fc69184bae902",
            "_dom_classes": [],
            "description": "Downloading: 100%",
            "_model_name": "FloatProgressModel",
            "bar_style": "success",
            "max": 1520013706,
            "_view_module": "@jupyter-widgets/controls",
            "_model_module_version": "1.5.0",
            "value": 1520013706,
            "_view_count": null,
            "_view_module_version": "1.5.0",
            "orientation": "horizontal",
            "min": 0,
            "description_tooltip": null,
            "_model_module": "@jupyter-widgets/controls",
            "layout": "IPY_MODEL_ae55e5d0eaa745d6aba8f43cc495efdb"
          }
        },
        "75d47faec4284789ad335ea46c30cfca": {
          "model_module": "@jupyter-widgets/controls",
          "model_name": "HTMLModel",
          "state": {
            "_view_name": "HTMLView",
            "style": "IPY_MODEL_28016c34913a4cc28d229b7935ab206e",
            "_dom_classes": [],
            "description": "",
            "_model_name": "HTMLModel",
            "placeholder": "​",
            "_view_module": "@jupyter-widgets/controls",
            "_model_module_version": "1.5.0",
            "value": " 1.52G/1.52G [00:28&lt;00:00, 53.2MB/s]",
            "_view_count": null,
            "_view_module_version": "1.5.0",
            "description_tooltip": null,
            "_model_module": "@jupyter-widgets/controls",
            "layout": "IPY_MODEL_7b131809259347fd870f3674e0dc596c"
          }
        },
        "debd94add8c443d68e5fc69184bae902": {
          "model_module": "@jupyter-widgets/controls",
          "model_name": "ProgressStyleModel",
          "state": {
            "_view_name": "StyleView",
            "_model_name": "ProgressStyleModel",
            "description_width": "initial",
            "_view_module": "@jupyter-widgets/base",
            "_model_module_version": "1.5.0",
            "_view_count": null,
            "_view_module_version": "1.2.0",
            "bar_color": null,
            "_model_module": "@jupyter-widgets/controls"
          }
        },
        "ae55e5d0eaa745d6aba8f43cc495efdb": {
          "model_module": "@jupyter-widgets/base",
          "model_name": "LayoutModel",
          "state": {
            "_view_name": "LayoutView",
            "grid_template_rows": null,
            "right": null,
            "justify_content": null,
            "_view_module": "@jupyter-widgets/base",
            "overflow": null,
            "_model_module_version": "1.2.0",
            "_view_count": null,
            "flex_flow": null,
            "width": null,
            "min_width": null,
            "border": null,
            "align_items": null,
            "bottom": null,
            "_model_module": "@jupyter-widgets/base",
            "top": null,
            "grid_column": null,
            "overflow_y": null,
            "overflow_x": null,
            "grid_auto_flow": null,
            "grid_area": null,
            "grid_template_columns": null,
            "flex": null,
            "_model_name": "LayoutModel",
            "justify_items": null,
            "grid_row": null,
            "max_height": null,
            "align_content": null,
            "visibility": null,
            "align_self": null,
            "height": null,
            "min_height": null,
            "padding": null,
            "grid_auto_rows": null,
            "grid_gap": null,
            "max_width": null,
            "order": null,
            "_view_module_version": "1.2.0",
            "grid_template_areas": null,
            "object_position": null,
            "object_fit": null,
            "grid_auto_columns": null,
            "margin": null,
            "display": null,
            "left": null
          }
        },
        "28016c34913a4cc28d229b7935ab206e": {
          "model_module": "@jupyter-widgets/controls",
          "model_name": "DescriptionStyleModel",
          "state": {
            "_view_name": "StyleView",
            "_model_name": "DescriptionStyleModel",
            "description_width": "",
            "_view_module": "@jupyter-widgets/base",
            "_model_module_version": "1.5.0",
            "_view_count": null,
            "_view_module_version": "1.2.0",
            "_model_module": "@jupyter-widgets/controls"
          }
        },
        "7b131809259347fd870f3674e0dc596c": {
          "model_module": "@jupyter-widgets/base",
          "model_name": "LayoutModel",
          "state": {
            "_view_name": "LayoutView",
            "grid_template_rows": null,
            "right": null,
            "justify_content": null,
            "_view_module": "@jupyter-widgets/base",
            "overflow": null,
            "_model_module_version": "1.2.0",
            "_view_count": null,
            "flex_flow": null,
            "width": null,
            "min_width": null,
            "border": null,
            "align_items": null,
            "bottom": null,
            "_model_module": "@jupyter-widgets/base",
            "top": null,
            "grid_column": null,
            "overflow_y": null,
            "overflow_x": null,
            "grid_auto_flow": null,
            "grid_area": null,
            "grid_template_columns": null,
            "flex": null,
            "_model_name": "LayoutModel",
            "justify_items": null,
            "grid_row": null,
            "max_height": null,
            "align_content": null,
            "visibility": null,
            "align_self": null,
            "height": null,
            "min_height": null,
            "padding": null,
            "grid_auto_rows": null,
            "grid_gap": null,
            "max_width": null,
            "order": null,
            "_view_module_version": "1.2.0",
            "grid_template_areas": null,
            "object_position": null,
            "object_fit": null,
            "grid_auto_columns": null,
            "margin": null,
            "display": null,
            "left": null
          }
        },
        "d9bcd59dd98d4f659d4e71812416f6aa": {
          "model_module": "@jupyter-widgets/controls",
          "model_name": "HBoxModel",
          "state": {
            "_view_name": "HBoxView",
            "_dom_classes": [],
            "_model_name": "HBoxModel",
            "_view_module": "@jupyter-widgets/controls",
            "_model_module_version": "1.5.0",
            "_view_count": null,
            "_view_module_version": "1.5.0",
            "box_style": "",
            "layout": "IPY_MODEL_5c6bb393534e4f75a8842ff052de5291",
            "_model_module": "@jupyter-widgets/controls",
            "children": [
              "IPY_MODEL_be2fc416085b431d9c1e8e88bf29420f",
              "IPY_MODEL_32024679139541a58f2252900be017af"
            ]
          }
        },
        "5c6bb393534e4f75a8842ff052de5291": {
          "model_module": "@jupyter-widgets/base",
          "model_name": "LayoutModel",
          "state": {
            "_view_name": "LayoutView",
            "grid_template_rows": null,
            "right": null,
            "justify_content": null,
            "_view_module": "@jupyter-widgets/base",
            "overflow": null,
            "_model_module_version": "1.2.0",
            "_view_count": null,
            "flex_flow": null,
            "width": null,
            "min_width": null,
            "border": null,
            "align_items": null,
            "bottom": null,
            "_model_module": "@jupyter-widgets/base",
            "top": null,
            "grid_column": null,
            "overflow_y": null,
            "overflow_x": null,
            "grid_auto_flow": null,
            "grid_area": null,
            "grid_template_columns": null,
            "flex": null,
            "_model_name": "LayoutModel",
            "justify_items": null,
            "grid_row": null,
            "max_height": null,
            "align_content": null,
            "visibility": null,
            "align_self": null,
            "height": null,
            "min_height": null,
            "padding": null,
            "grid_auto_rows": null,
            "grid_gap": null,
            "max_width": null,
            "order": null,
            "_view_module_version": "1.2.0",
            "grid_template_areas": null,
            "object_position": null,
            "object_fit": null,
            "grid_auto_columns": null,
            "margin": null,
            "display": null,
            "left": null
          }
        },
        "be2fc416085b431d9c1e8e88bf29420f": {
          "model_module": "@jupyter-widgets/controls",
          "model_name": "FloatProgressModel",
          "state": {
            "_view_name": "ProgressView",
            "style": "IPY_MODEL_95c472c100a846c39d0ac4c7fbdfc36d",
            "_dom_classes": [],
            "description": "Downloading: 100%",
            "_model_name": "FloatProgressModel",
            "bar_style": "success",
            "max": 1042301,
            "_view_module": "@jupyter-widgets/controls",
            "_model_module_version": "1.5.0",
            "value": 1042301,
            "_view_count": null,
            "_view_module_version": "1.5.0",
            "orientation": "horizontal",
            "min": 0,
            "description_tooltip": null,
            "_model_module": "@jupyter-widgets/controls",
            "layout": "IPY_MODEL_d447771ffb5145fa86a7a77212e3fe6a"
          }
        },
        "32024679139541a58f2252900be017af": {
          "model_module": "@jupyter-widgets/controls",
          "model_name": "HTMLModel",
          "state": {
            "_view_name": "HTMLView",
            "style": "IPY_MODEL_98400518894c4fae967dd1cdd84bcfc3",
            "_dom_classes": [],
            "description": "",
            "_model_name": "HTMLModel",
            "placeholder": "​",
            "_view_module": "@jupyter-widgets/controls",
            "_model_module_version": "1.5.0",
            "value": " 1.04M/1.04M [00:00&lt;00:00, 7.68MB/s]",
            "_view_count": null,
            "_view_module_version": "1.5.0",
            "description_tooltip": null,
            "_model_module": "@jupyter-widgets/controls",
            "layout": "IPY_MODEL_fccf7ca01e204b1a825ae2f37ade2f79"
          }
        },
        "95c472c100a846c39d0ac4c7fbdfc36d": {
          "model_module": "@jupyter-widgets/controls",
          "model_name": "ProgressStyleModel",
          "state": {
            "_view_name": "StyleView",
            "_model_name": "ProgressStyleModel",
            "description_width": "initial",
            "_view_module": "@jupyter-widgets/base",
            "_model_module_version": "1.5.0",
            "_view_count": null,
            "_view_module_version": "1.2.0",
            "bar_color": null,
            "_model_module": "@jupyter-widgets/controls"
          }
        },
        "d447771ffb5145fa86a7a77212e3fe6a": {
          "model_module": "@jupyter-widgets/base",
          "model_name": "LayoutModel",
          "state": {
            "_view_name": "LayoutView",
            "grid_template_rows": null,
            "right": null,
            "justify_content": null,
            "_view_module": "@jupyter-widgets/base",
            "overflow": null,
            "_model_module_version": "1.2.0",
            "_view_count": null,
            "flex_flow": null,
            "width": null,
            "min_width": null,
            "border": null,
            "align_items": null,
            "bottom": null,
            "_model_module": "@jupyter-widgets/base",
            "top": null,
            "grid_column": null,
            "overflow_y": null,
            "overflow_x": null,
            "grid_auto_flow": null,
            "grid_area": null,
            "grid_template_columns": null,
            "flex": null,
            "_model_name": "LayoutModel",
            "justify_items": null,
            "grid_row": null,
            "max_height": null,
            "align_content": null,
            "visibility": null,
            "align_self": null,
            "height": null,
            "min_height": null,
            "padding": null,
            "grid_auto_rows": null,
            "grid_gap": null,
            "max_width": null,
            "order": null,
            "_view_module_version": "1.2.0",
            "grid_template_areas": null,
            "object_position": null,
            "object_fit": null,
            "grid_auto_columns": null,
            "margin": null,
            "display": null,
            "left": null
          }
        },
        "98400518894c4fae967dd1cdd84bcfc3": {
          "model_module": "@jupyter-widgets/controls",
          "model_name": "DescriptionStyleModel",
          "state": {
            "_view_name": "StyleView",
            "_model_name": "DescriptionStyleModel",
            "description_width": "",
            "_view_module": "@jupyter-widgets/base",
            "_model_module_version": "1.5.0",
            "_view_count": null,
            "_view_module_version": "1.2.0",
            "_model_module": "@jupyter-widgets/controls"
          }
        },
        "fccf7ca01e204b1a825ae2f37ade2f79": {
          "model_module": "@jupyter-widgets/base",
          "model_name": "LayoutModel",
          "state": {
            "_view_name": "LayoutView",
            "grid_template_rows": null,
            "right": null,
            "justify_content": null,
            "_view_module": "@jupyter-widgets/base",
            "overflow": null,
            "_model_module_version": "1.2.0",
            "_view_count": null,
            "flex_flow": null,
            "width": null,
            "min_width": null,
            "border": null,
            "align_items": null,
            "bottom": null,
            "_model_module": "@jupyter-widgets/base",
            "top": null,
            "grid_column": null,
            "overflow_y": null,
            "overflow_x": null,
            "grid_auto_flow": null,
            "grid_area": null,
            "grid_template_columns": null,
            "flex": null,
            "_model_name": "LayoutModel",
            "justify_items": null,
            "grid_row": null,
            "max_height": null,
            "align_content": null,
            "visibility": null,
            "align_self": null,
            "height": null,
            "min_height": null,
            "padding": null,
            "grid_auto_rows": null,
            "grid_gap": null,
            "max_width": null,
            "order": null,
            "_view_module_version": "1.2.0",
            "grid_template_areas": null,
            "object_position": null,
            "object_fit": null,
            "grid_auto_columns": null,
            "margin": null,
            "display": null,
            "left": null
          }
        },
        "10c5eb9bab6c4571b55ff577cc07f9b4": {
          "model_module": "@jupyter-widgets/controls",
          "model_name": "HBoxModel",
          "state": {
            "_view_name": "HBoxView",
            "_dom_classes": [],
            "_model_name": "HBoxModel",
            "_view_module": "@jupyter-widgets/controls",
            "_model_module_version": "1.5.0",
            "_view_count": null,
            "_view_module_version": "1.5.0",
            "box_style": "",
            "layout": "IPY_MODEL_b2094282e9bb4f20934b65eb465a3e30",
            "_model_module": "@jupyter-widgets/controls",
            "children": [
              "IPY_MODEL_2b6ba92e8de149278ade615a598e81a0",
              "IPY_MODEL_25fbcb183fec48b5950408cc741b5707"
            ]
          }
        },
        "b2094282e9bb4f20934b65eb465a3e30": {
          "model_module": "@jupyter-widgets/base",
          "model_name": "LayoutModel",
          "state": {
            "_view_name": "LayoutView",
            "grid_template_rows": null,
            "right": null,
            "justify_content": null,
            "_view_module": "@jupyter-widgets/base",
            "overflow": null,
            "_model_module_version": "1.2.0",
            "_view_count": null,
            "flex_flow": null,
            "width": null,
            "min_width": null,
            "border": null,
            "align_items": null,
            "bottom": null,
            "_model_module": "@jupyter-widgets/base",
            "top": null,
            "grid_column": null,
            "overflow_y": null,
            "overflow_x": null,
            "grid_auto_flow": null,
            "grid_area": null,
            "grid_template_columns": null,
            "flex": null,
            "_model_name": "LayoutModel",
            "justify_items": null,
            "grid_row": null,
            "max_height": null,
            "align_content": null,
            "visibility": null,
            "align_self": null,
            "height": null,
            "min_height": null,
            "padding": null,
            "grid_auto_rows": null,
            "grid_gap": null,
            "max_width": null,
            "order": null,
            "_view_module_version": "1.2.0",
            "grid_template_areas": null,
            "object_position": null,
            "object_fit": null,
            "grid_auto_columns": null,
            "margin": null,
            "display": null,
            "left": null
          }
        },
        "2b6ba92e8de149278ade615a598e81a0": {
          "model_module": "@jupyter-widgets/controls",
          "model_name": "FloatProgressModel",
          "state": {
            "_view_name": "ProgressView",
            "style": "IPY_MODEL_a9dc4d1f78514176af42e01c510ea8b9",
            "_dom_classes": [],
            "description": "Downloading: 100%",
            "_model_name": "FloatProgressModel",
            "bar_style": "success",
            "max": 456318,
            "_view_module": "@jupyter-widgets/controls",
            "_model_module_version": "1.5.0",
            "value": 456318,
            "_view_count": null,
            "_view_module_version": "1.5.0",
            "orientation": "horizontal",
            "min": 0,
            "description_tooltip": null,
            "_model_module": "@jupyter-widgets/controls",
            "layout": "IPY_MODEL_5e6bd77226b2474dbdd52080b53219dd"
          }
        },
        "25fbcb183fec48b5950408cc741b5707": {
          "model_module": "@jupyter-widgets/controls",
          "model_name": "HTMLModel",
          "state": {
            "_view_name": "HTMLView",
            "style": "IPY_MODEL_f1016d0c2d4c447e801374b523f3f058",
            "_dom_classes": [],
            "description": "",
            "_model_name": "HTMLModel",
            "placeholder": "​",
            "_view_module": "@jupyter-widgets/controls",
            "_model_module_version": "1.5.0",
            "value": " 456k/456k [00:00&lt;00:00, 1.00MB/s]",
            "_view_count": null,
            "_view_module_version": "1.5.0",
            "description_tooltip": null,
            "_model_module": "@jupyter-widgets/controls",
            "layout": "IPY_MODEL_b6f4ea9b64a945b88390841c054c99fe"
          }
        },
        "a9dc4d1f78514176af42e01c510ea8b9": {
          "model_module": "@jupyter-widgets/controls",
          "model_name": "ProgressStyleModel",
          "state": {
            "_view_name": "StyleView",
            "_model_name": "ProgressStyleModel",
            "description_width": "initial",
            "_view_module": "@jupyter-widgets/base",
            "_model_module_version": "1.5.0",
            "_view_count": null,
            "_view_module_version": "1.2.0",
            "bar_color": null,
            "_model_module": "@jupyter-widgets/controls"
          }
        },
        "5e6bd77226b2474dbdd52080b53219dd": {
          "model_module": "@jupyter-widgets/base",
          "model_name": "LayoutModel",
          "state": {
            "_view_name": "LayoutView",
            "grid_template_rows": null,
            "right": null,
            "justify_content": null,
            "_view_module": "@jupyter-widgets/base",
            "overflow": null,
            "_model_module_version": "1.2.0",
            "_view_count": null,
            "flex_flow": null,
            "width": null,
            "min_width": null,
            "border": null,
            "align_items": null,
            "bottom": null,
            "_model_module": "@jupyter-widgets/base",
            "top": null,
            "grid_column": null,
            "overflow_y": null,
            "overflow_x": null,
            "grid_auto_flow": null,
            "grid_area": null,
            "grid_template_columns": null,
            "flex": null,
            "_model_name": "LayoutModel",
            "justify_items": null,
            "grid_row": null,
            "max_height": null,
            "align_content": null,
            "visibility": null,
            "align_self": null,
            "height": null,
            "min_height": null,
            "padding": null,
            "grid_auto_rows": null,
            "grid_gap": null,
            "max_width": null,
            "order": null,
            "_view_module_version": "1.2.0",
            "grid_template_areas": null,
            "object_position": null,
            "object_fit": null,
            "grid_auto_columns": null,
            "margin": null,
            "display": null,
            "left": null
          }
        },
        "f1016d0c2d4c447e801374b523f3f058": {
          "model_module": "@jupyter-widgets/controls",
          "model_name": "DescriptionStyleModel",
          "state": {
            "_view_name": "StyleView",
            "_model_name": "DescriptionStyleModel",
            "description_width": "",
            "_view_module": "@jupyter-widgets/base",
            "_model_module_version": "1.5.0",
            "_view_count": null,
            "_view_module_version": "1.2.0",
            "_model_module": "@jupyter-widgets/controls"
          }
        },
        "b6f4ea9b64a945b88390841c054c99fe": {
          "model_module": "@jupyter-widgets/base",
          "model_name": "LayoutModel",
          "state": {
            "_view_name": "LayoutView",
            "grid_template_rows": null,
            "right": null,
            "justify_content": null,
            "_view_module": "@jupyter-widgets/base",
            "overflow": null,
            "_model_module_version": "1.2.0",
            "_view_count": null,
            "flex_flow": null,
            "width": null,
            "min_width": null,
            "border": null,
            "align_items": null,
            "bottom": null,
            "_model_module": "@jupyter-widgets/base",
            "top": null,
            "grid_column": null,
            "overflow_y": null,
            "overflow_x": null,
            "grid_auto_flow": null,
            "grid_area": null,
            "grid_template_columns": null,
            "flex": null,
            "_model_name": "LayoutModel",
            "justify_items": null,
            "grid_row": null,
            "max_height": null,
            "align_content": null,
            "visibility": null,
            "align_self": null,
            "height": null,
            "min_height": null,
            "padding": null,
            "grid_auto_rows": null,
            "grid_gap": null,
            "max_width": null,
            "order": null,
            "_view_module_version": "1.2.0",
            "grid_template_areas": null,
            "object_position": null,
            "object_fit": null,
            "grid_auto_columns": null,
            "margin": null,
            "display": null,
            "left": null
          }
        },
        "c54deeacbf8f420dbe98c1cc638a1198": {
          "model_module": "@jupyter-widgets/controls",
          "model_name": "HBoxModel",
          "state": {
            "_view_name": "HBoxView",
            "_dom_classes": [],
            "_model_name": "HBoxModel",
            "_view_module": "@jupyter-widgets/controls",
            "_model_module_version": "1.5.0",
            "_view_count": null,
            "_view_module_version": "1.5.0",
            "box_style": "",
            "layout": "IPY_MODEL_5694b543a895465694f580869ed0d768",
            "_model_module": "@jupyter-widgets/controls",
            "children": [
              "IPY_MODEL_a018bd971e134b2dbc39139366a99f22",
              "IPY_MODEL_2f08275955544c39a8e656a343d99f7d"
            ]
          }
        },
        "5694b543a895465694f580869ed0d768": {
          "model_module": "@jupyter-widgets/base",
          "model_name": "LayoutModel",
          "state": {
            "_view_name": "LayoutView",
            "grid_template_rows": null,
            "right": null,
            "justify_content": null,
            "_view_module": "@jupyter-widgets/base",
            "overflow": null,
            "_model_module_version": "1.2.0",
            "_view_count": null,
            "flex_flow": null,
            "width": null,
            "min_width": null,
            "border": null,
            "align_items": null,
            "bottom": null,
            "_model_module": "@jupyter-widgets/base",
            "top": null,
            "grid_column": null,
            "overflow_y": null,
            "overflow_x": null,
            "grid_auto_flow": null,
            "grid_area": null,
            "grid_template_columns": null,
            "flex": null,
            "_model_name": "LayoutModel",
            "justify_items": null,
            "grid_row": null,
            "max_height": null,
            "align_content": null,
            "visibility": null,
            "align_self": null,
            "height": null,
            "min_height": null,
            "padding": null,
            "grid_auto_rows": null,
            "grid_gap": null,
            "max_width": null,
            "order": null,
            "_view_module_version": "1.2.0",
            "grid_template_areas": null,
            "object_position": null,
            "object_fit": null,
            "grid_auto_columns": null,
            "margin": null,
            "display": null,
            "left": null
          }
        },
        "a018bd971e134b2dbc39139366a99f22": {
          "model_module": "@jupyter-widgets/controls",
          "model_name": "FloatProgressModel",
          "state": {
            "_view_name": "ProgressView",
            "style": "IPY_MODEL_1c36219d7036480daaac6e886b663bb1",
            "_dom_classes": [],
            "description": "Downloading: 100%",
            "_model_name": "FloatProgressModel",
            "bar_style": "success",
            "max": 1355256,
            "_view_module": "@jupyter-widgets/controls",
            "_model_module_version": "1.5.0",
            "value": 1355256,
            "_view_count": null,
            "_view_module_version": "1.5.0",
            "orientation": "horizontal",
            "min": 0,
            "description_tooltip": null,
            "_model_module": "@jupyter-widgets/controls",
            "layout": "IPY_MODEL_852bac108cf54cae86bb6909c21fc2d7"
          }
        },
        "2f08275955544c39a8e656a343d99f7d": {
          "model_module": "@jupyter-widgets/controls",
          "model_name": "HTMLModel",
          "state": {
            "_view_name": "HTMLView",
            "style": "IPY_MODEL_5664b93974354895bbb7bc9c93f34639",
            "_dom_classes": [],
            "description": "",
            "_model_name": "HTMLModel",
            "placeholder": "​",
            "_view_module": "@jupyter-widgets/controls",
            "_model_module_version": "1.5.0",
            "value": " 1.36M/1.36M [00:00&lt;00:00, 8.86MB/s]",
            "_view_count": null,
            "_view_module_version": "1.5.0",
            "description_tooltip": null,
            "_model_module": "@jupyter-widgets/controls",
            "layout": "IPY_MODEL_8a2f768228e44d9fb4231194d8f56a31"
          }
        },
        "1c36219d7036480daaac6e886b663bb1": {
          "model_module": "@jupyter-widgets/controls",
          "model_name": "ProgressStyleModel",
          "state": {
            "_view_name": "StyleView",
            "_model_name": "ProgressStyleModel",
            "description_width": "initial",
            "_view_module": "@jupyter-widgets/base",
            "_model_module_version": "1.5.0",
            "_view_count": null,
            "_view_module_version": "1.2.0",
            "bar_color": null,
            "_model_module": "@jupyter-widgets/controls"
          }
        },
        "852bac108cf54cae86bb6909c21fc2d7": {
          "model_module": "@jupyter-widgets/base",
          "model_name": "LayoutModel",
          "state": {
            "_view_name": "LayoutView",
            "grid_template_rows": null,
            "right": null,
            "justify_content": null,
            "_view_module": "@jupyter-widgets/base",
            "overflow": null,
            "_model_module_version": "1.2.0",
            "_view_count": null,
            "flex_flow": null,
            "width": null,
            "min_width": null,
            "border": null,
            "align_items": null,
            "bottom": null,
            "_model_module": "@jupyter-widgets/base",
            "top": null,
            "grid_column": null,
            "overflow_y": null,
            "overflow_x": null,
            "grid_auto_flow": null,
            "grid_area": null,
            "grid_template_columns": null,
            "flex": null,
            "_model_name": "LayoutModel",
            "justify_items": null,
            "grid_row": null,
            "max_height": null,
            "align_content": null,
            "visibility": null,
            "align_self": null,
            "height": null,
            "min_height": null,
            "padding": null,
            "grid_auto_rows": null,
            "grid_gap": null,
            "max_width": null,
            "order": null,
            "_view_module_version": "1.2.0",
            "grid_template_areas": null,
            "object_position": null,
            "object_fit": null,
            "grid_auto_columns": null,
            "margin": null,
            "display": null,
            "left": null
          }
        },
        "5664b93974354895bbb7bc9c93f34639": {
          "model_module": "@jupyter-widgets/controls",
          "model_name": "DescriptionStyleModel",
          "state": {
            "_view_name": "StyleView",
            "_model_name": "DescriptionStyleModel",
            "description_width": "",
            "_view_module": "@jupyter-widgets/base",
            "_model_module_version": "1.5.0",
            "_view_count": null,
            "_view_module_version": "1.2.0",
            "_model_module": "@jupyter-widgets/controls"
          }
        },
        "8a2f768228e44d9fb4231194d8f56a31": {
          "model_module": "@jupyter-widgets/base",
          "model_name": "LayoutModel",
          "state": {
            "_view_name": "LayoutView",
            "grid_template_rows": null,
            "right": null,
            "justify_content": null,
            "_view_module": "@jupyter-widgets/base",
            "overflow": null,
            "_model_module_version": "1.2.0",
            "_view_count": null,
            "flex_flow": null,
            "width": null,
            "min_width": null,
            "border": null,
            "align_items": null,
            "bottom": null,
            "_model_module": "@jupyter-widgets/base",
            "top": null,
            "grid_column": null,
            "overflow_y": null,
            "overflow_x": null,
            "grid_auto_flow": null,
            "grid_area": null,
            "grid_template_columns": null,
            "flex": null,
            "_model_name": "LayoutModel",
            "justify_items": null,
            "grid_row": null,
            "max_height": null,
            "align_content": null,
            "visibility": null,
            "align_self": null,
            "height": null,
            "min_height": null,
            "padding": null,
            "grid_auto_rows": null,
            "grid_gap": null,
            "max_width": null,
            "order": null,
            "_view_module_version": "1.2.0",
            "grid_template_areas": null,
            "object_position": null,
            "object_fit": null,
            "grid_auto_columns": null,
            "margin": null,
            "display": null,
            "left": null
          }
        }
      }
    },
    "accelerator": "GPU"
  },
  "cells": [
    {
      "cell_type": "markdown",
      "metadata": {
        "id": "view-in-github",
        "colab_type": "text"
      },
      "source": [
        "<a href=\"https://colab.research.google.com/github/catPotat/rn-hg-gpt2-playground/blob/main/Huggingface_GPT_2_Training.ipynb\" target=\"_parent\"><img src=\"https://colab.research.google.com/assets/colab-badge.svg\" alt=\"Open In Colab\"/></a>"
      ]
    },
    {
      "cell_type": "markdown",
      "metadata": {
        "id": "UMFuI8iDA_TP"
      },
      "source": [
        "# About\r\n",
        "\r\n",
        "Author: *N H Long*\r\n",
        "\r\n",
        "This notebook is about testing GPT-2's ability to aid creativities.\r\n",
        "\r\n",
        "This notebook is dedicated to the SS2 class I'm taking now.\r\n",
        "\r\n",
        "The dateline for a published research is in May (more info later).\r\n",
        "\r\n",
        "<br>\r\n",
        "\r\n",
        "---\r\n",
        "\r\n",
        "<br>\r\n",
        "<img src=\"https://i.redd.it/j586af7nxvu41.jpg\" alt=\"Watching a train model\" height=300>"
      ]
    },
    {
      "cell_type": "markdown",
      "metadata": {
        "id": "zAlKPi0tc1WK"
      },
      "source": [
        "# 🏁 Initialize"
      ]
    },
    {
      "cell_type": "code",
      "metadata": {
        "colab": {
          "base_uri": "https://localhost:8080/"
        },
        "id": "3N-ZDaxkWa2V",
        "outputId": "46e0d08b-b8a6-4168-bd8b-0b84b819dab5"
      },
      "source": [
        "!nvidia-smi\r\n",
        "import torch\r\n",
        "torch.cuda.is_available()"
      ],
      "execution_count": null,
      "outputs": [
        {
          "output_type": "stream",
          "text": [
            "Fri Mar  5 08:58:20 2021       \n",
            "+-----------------------------------------------------------------------------+\n",
            "| NVIDIA-SMI 460.39       Driver Version: 460.32.03    CUDA Version: 11.2     |\n",
            "|-------------------------------+----------------------+----------------------+\n",
            "| GPU  Name        Persistence-M| Bus-Id        Disp.A | Volatile Uncorr. ECC |\n",
            "| Fan  Temp  Perf  Pwr:Usage/Cap|         Memory-Usage | GPU-Util  Compute M. |\n",
            "|                               |                      |               MIG M. |\n",
            "|===============================+======================+======================|\n",
            "|   0  Tesla T4            Off  | 00000000:00:04.0 Off |                    0 |\n",
            "| N/A   44C    P8    10W /  70W |      0MiB / 15109MiB |      0%      Default |\n",
            "|                               |                      |                  N/A |\n",
            "+-------------------------------+----------------------+----------------------+\n",
            "                                                                               \n",
            "+-----------------------------------------------------------------------------+\n",
            "| Processes:                                                                  |\n",
            "|  GPU   GI   CI        PID   Type   Process name                  GPU Memory |\n",
            "|        ID   ID                                                   Usage      |\n",
            "|=============================================================================|\n",
            "|  No running processes found                                                 |\n",
            "+-----------------------------------------------------------------------------+\n"
          ],
          "name": "stdout"
        },
        {
          "output_type": "execute_result",
          "data": {
            "text/plain": [
              "True"
            ]
          },
          "metadata": {
            "tags": []
          },
          "execution_count": 1
        }
      ]
    },
    {
      "cell_type": "code",
      "metadata": {
        "colab": {
          "base_uri": "https://localhost:8080/"
        },
        "id": "mN59cZZTcqGx",
        "outputId": "fbb088c8-fa76-4c32-a258-6545eeec4568"
      },
      "source": [
        "from google.colab import drive\n",
        "drive.mount('/content/drive')"
      ],
      "execution_count": null,
      "outputs": [
        {
          "output_type": "stream",
          "text": [
            "Mounted at /content/drive\n"
          ],
          "name": "stdout"
        }
      ]
    },
    {
      "cell_type": "code",
      "metadata": {
        "colab": {
          "base_uri": "https://localhost:8080/"
        },
        "id": "Xj_ukFCksSyb",
        "outputId": "78628861-1c2c-42a4-da27-f8d4875d782e"
      },
      "source": [
        "!pip install transformers\r\n",
        "# !pip install datasets\r\n",
        "!pip install python-dotenv\r\n",
        "from google.colab import output\r\n",
        "output.clear()\r\n",
        "import os\r\n",
        "from dotenv import load_dotenv\r\n",
        "!cp 'drive/My Drive/.env.gdrive' '.env'\r\n",
        "load_dotenv()"
      ],
      "execution_count": null,
      "outputs": [
        {
          "output_type": "execute_result",
          "data": {
            "text/plain": [
              "True"
            ]
          },
          "metadata": {
            "tags": []
          },
          "execution_count": 3
        }
      ]
    },
    {
      "cell_type": "markdown",
      "metadata": {
        "id": "xnzt-2nsfhUH"
      },
      "source": [
        "# 🔧 Tuning"
      ]
    },
    {
      "cell_type": "markdown",
      "metadata": {
        "id": "HhV4lUWt82Aj"
      },
      "source": [
        "## 🍃 Obtaining data\r\n",
        "After this you will get big text lines `text_entries`"
      ]
    },
    {
      "cell_type": "code",
      "metadata": {
        "colab": {
          "base_uri": "https://localhost:8080/"
        },
        "id": "ehIhI7-PsrJU",
        "outputId": "8b98d5ca-89b9-405b-d15c-1f8df511b1aa"
      },
      "source": [
        "MONG_USER = os.getenv('MONG_ROUSER')\n",
        "MONG_PWD  = os.getenv('MONG_ROPWD')\n",
        "MONG_HOST = os.getenv('MONG_HOST')\n",
        "MONG_PORT = os.getenv('MONG_PORT')\n",
        "\n",
        "from pymongo import MongoClient\n",
        "from bson.objectid import ObjectId\n",
        "\n",
        "uri = f\"mongodb://{MONG_USER}:{MONG_PWD}@{MONG_HOST}:{MONG_PORT}/dataDumpingGround\"\n",
        "client = MongoClient(uri)\n",
        "client"
      ],
      "execution_count": null,
      "outputs": [
        {
          "output_type": "execute_result",
          "data": {
            "text/plain": [
              "MongoClient(host=['171.244.50.232:27017'], document_class=dict, tz_aware=False, connect=True)"
            ]
          },
          "metadata": {
            "tags": []
          },
          "execution_count": 4
        }
      ]
    },
    {
      "cell_type": "markdown",
      "metadata": {
        "id": "ydMfFwtvjhJo"
      },
      "source": [
        "### Pick a source"
      ]
    },
    {
      "cell_type": "markdown",
      "metadata": {
        "id": "lciJaxJNIaoi"
      },
      "source": [
        "#### a) english pokedex"
      ]
    },
    {
      "cell_type": "code",
      "metadata": {
        "id": "40Bi2FP_321A"
      },
      "source": [
        "db = client['dataSoup']\r\n",
        "dataSoup_col = db[\"pot1\"]\r\n",
        "pokedex_text_entries_plain = dataSoup_col.find_one({'name': 'pokedex text_entries_plain'})"
      ],
      "execution_count": null,
      "outputs": []
    },
    {
      "cell_type": "code",
      "metadata": {
        "id": "ISr1D5V66h4T"
      },
      "source": [
        "text_entries = pokedex_text_entries_plain['content']\r\n",
        "# text_entries"
      ],
      "execution_count": null,
      "outputs": []
    },
    {
      "cell_type": "code",
      "metadata": {
        "id": "0WkcZdcmGYnK",
        "colab": {
          "base_uri": "https://localhost:8080/",
          "height": 265
        },
        "outputId": "2c383654-cce1-4490-d3d4-ae218781430b"
      },
      "source": [
        "entry_len = {}\n",
        "for x in range(255):\n",
        "    entry_len[x+1] = 0\n",
        " \n",
        "for entry in text_entries:\n",
        "    # if text_len := len(entry) in entry_len:\n",
        "    text_len = len(entry)\n",
        "    if text_len in entry_len:\n",
        "        entry_len[text_len] += 1\n",
        "    else:\n",
        "        entry_len[text_len] = 1\n",
        "entry_len\n",
        " \n",
        "import matplotlib.pyplot as plt\n",
        "\n",
        "plt.bar(range(len(entry_len)), list(entry_len.values()), align='center')\n",
        "plt.xticks(range(len(entry_len)), list(entry_len.keys()))\n",
        "plt.show()"
      ],
      "execution_count": null,
      "outputs": [
        {
          "output_type": "display_data",
          "data": {
            "image/png": "[encoded data removed]",
            "text/plain": [
              "<Figure size 432x288 with 1 Axes>"
            ]
          },
          "metadata": {
            "tags": [],
            "needs_background": "light"
          }
        }
      ]
    },
    {
      "cell_type": "markdown",
      "metadata": {
        "id": "ViiwieQVIexq"
      },
      "source": [
        "#### b) someone's tweets"
      ]
    },
    {
      "cell_type": "code",
      "metadata": {
        "id": "f6e98XtdIko-",
        "colab": {
          "base_uri": "https://localhost:8080/"
        },
        "outputId": "5c19c5df-2fe2-4dbe-8a30-61df5e123953"
      },
      "source": [
        "db = client['dataDumpingGround']\r\n",
        "tw_profile_col = db[\"twitterProfiles\"]\r\n",
        "tw_profile = tw_profile_col.find_one({'screen_name': 'billwurtz'})\r\n",
        "tw_profile"
      ],
      "execution_count": null,
      "outputs": [
        {
          "output_type": "execute_result",
          "data": {
            "text/plain": [
              "{'Absent keys': ['withheld_in_countries', 'withheld_scope'],\n",
              " 'Last updated': datetime.datetime(2021, 1, 21, 12, 15, 4, 208000),\n",
              " '_id': ObjectId('6004a17d0b73eae2a9b6c5b5'),\n",
              " 'created_at': 'Fri Apr 29 09:57:13 +0000 2011',\n",
              " 'default_profile': False,\n",
              " 'default_profile_image': False,\n",
              " 'description': 'is self',\n",
              " 'favourites_count': 22852,\n",
              " 'followers_count': 321129,\n",
              " 'friends_count': 81,\n",
              " 'id': 289853473,\n",
              " 'listed_count': 352,\n",
              " 'location': '',\n",
              " 'name': 'bill wurtz',\n",
              " 'profile_banner_url': 'https://pbs.twimg.com/profile_banners/289853473/1435339266',\n",
              " 'profile_image_url_https': 'https://pbs.twimg.com/profile_images/1016862391823360000/BeQ1lMU7_normal.jpg',\n",
              " 'protected': False,\n",
              " 'screen_name': 'billwurtz',\n",
              " 'statuses_count': 3095,\n",
              " 'url': 'https://t.co/WGqYlp4ab6',\n",
              " 'verified': True}"
            ]
          },
          "metadata": {
            "tags": []
          },
          "execution_count": 5
        }
      ]
    },
    {
      "cell_type": "code",
      "metadata": {
        "id": "yfkcAOHYLCAK"
      },
      "source": [
        "from pprint import pprint\r\n",
        "import re\r\n",
        "from sys import maxsize as inf\r\n",
        "text_entries = []\r\n",
        "LIMIT = inf\r\n",
        "\r\n",
        "tweet_col = db[\"twitterTweets\"]\r\n",
        "tweet_cursor = tweet_col.find({'Author_id': 289853473})\r\n",
        "for tweet in tweet_cursor.limit(LIMIT):\r\n",
        "    # pprint(tweet)\r\n",
        "    text = tweet.get('full_text')\r\n",
        "    if text.startswith('RT @'):\r\n",
        "        continue\r\n",
        "    text = re.sub(r'\\@(.*?)\\ ', '', text)\r\n",
        "    text = re.sub(r'\\#(.*?)\\ ', '', text)\r\n",
        "    text = re.sub(r'(https?:\\/\\/t.co\\/)(.*)', '', text)\r\n",
        "    text = re.sub(r'\\n\\nbill wurtz', '', text)\r\n",
        "    text = re.sub(r'\\n', '', text)\r\n",
        "    text = re.sub(r'\\'', '', text)\r\n",
        "    text_entries.append(text)\r\n",
        " \r\n",
        "# text_entries"
      ],
      "execution_count": null,
      "outputs": []
    },
    {
      "cell_type": "markdown",
      "metadata": {
        "id": "007ZMl_IMIth"
      },
      "source": [
        "Visualize our data"
      ]
    },
    {
      "cell_type": "code",
      "metadata": {
        "colab": {
          "base_uri": "https://localhost:8080/",
          "height": 265
        },
        "id": "VAI7lmsqMLCR",
        "outputId": "8219c21f-f7f2-4b7a-ad21-588c1963796a"
      },
      "source": [
        "entry_len = {}\r\n",
        "for x in range(140):\r\n",
        "    entry_len[x+1] = 0\r\n",
        " \r\n",
        "for entry in text_entries:\r\n",
        "    text_len = len(entry)\r\n",
        "    if text_len in entry_len:\r\n",
        "        entry_len[text_len] += 1\r\n",
        "    else:\r\n",
        "        entry_len[text_len] = 1\r\n",
        "entry_len\r\n",
        " \r\n",
        "import matplotlib.pyplot as plt\r\n",
        " \r\n",
        "plt.bar(range(len(entry_len)), list(entry_len.values()), align='center')\r\n",
        "plt.xticks(range(len(entry_len)), list(entry_len.keys()))\r\n",
        "plt.show()"
      ],
      "execution_count": null,
      "outputs": [
        {
          "output_type": "display_data",
          "data": {
            "image/png": "[encoded data removed]",
            "text/plain": [
              "<Figure size 432x288 with 1 Axes>"
            ]
          },
          "metadata": {
            "tags": [],
            "needs_background": "light"
          }
        }
      ]
    },
    {
      "cell_type": "markdown",
      "metadata": {
        "id": "8DZg03KQ5D7y"
      },
      "source": [
        "#### c) pictures as text\r\n",
        "\r\n",
        "[pkm refs](https://colab.research.google.com/drive/1SdgyibJJKpPmMFX9UD1r7ZOZJHJfbm1z?authuser=2#scrollTo=oLfKBltYZVeq)"
      ]
    },
    {
      "cell_type": "code",
      "metadata": {
        "id": "kocOov1poGrj",
        "colab": {
          "base_uri": "https://localhost:8080/",
          "height": 35
        },
        "outputId": "1ae3cdb8-8c25-43e3-96f0-94691d704fdc"
      },
      "source": [
        "!mkdir -p datasets/{fragments,all-pics}/\r\n",
        "# !unzip \"drive/My Drive/datasets/Eeveelutions/sap1231-251020.zip\" -d datasets/fragments/\r\n",
        "# !unzip \"drive/My Drive/datasets/Eeveelutions/evhub#evlution-pics.zip\" -d datasets/fragments/\r\n",
        "!unzip \"/content/drive/MyDrive/datasets/gpt2-experiments/synthed-pics.zip\" -d datasets/\r\n",
        "output.clear()\r\n",
        "'OK'"
      ],
      "execution_count": null,
      "outputs": [
        {
          "output_type": "execute_result",
          "data": {
            "application/vnd.google.colaboratory.intrinsic+json": {
              "type": "string"
            },
            "text/plain": [
              "'OK'"
            ]
          },
          "metadata": {
            "tags": []
          },
          "execution_count": 4
        }
      ]
    },
    {
      "cell_type": "code",
      "metadata": {
        "id": "zrRXvdashFPA"
      },
      "source": [
        "import os\r\n",
        "import shutil\r\n",
        "from tqdm import tqdm\r\n",
        "from PIL import Image\r\n",
        "import math\r\n",
        "\r\n",
        "IMG_WIDTH = 64\r\n",
        "IMG_HEIGHT = 64\r\n",
        "LINE_SPLIT_CHAR = '.'\r\n",
        "PIXEL_SPLIT_CHAR = ' '\r\n",
        "IMAGE_SPLIT_CHAR = '\\n'\r\n",
        "CHAR_CODE_SHIFT = 48 # starts from \"0\"\r\n",
        "IMAGES_PATH = 'datasets/synthed-pics/'\r\n",
        "IMG_TXT_PATH = f'drive/MyDrive/datasets/Eeveelutions/all-images-{IMG_WIDTH}.txt'\r\n",
        "IMG_TXT_PATH = f'drive/MyDrive/datasets/gpt2-experiments/synthed-poster-64-space.txt'"
      ],
      "execution_count": null,
      "outputs": []
    },
    {
      "cell_type": "code",
      "metadata": {
        "colab": {
          "base_uri": "https://localhost:8080/"
        },
        "id": "J7hB5DC-0KzJ",
        "outputId": "ff6c9b9d-dd83-4a14-e9dd-2ef004315f9d"
      },
      "source": [
        "for root, dirs, files in tqdm( os.walk('./datasets/', topdown=False) ):\r\n",
        "    for name in files:\r\n",
        "        if 'SoloEevee/Umbr' not in root: continue\r\n",
        "        if 'NotEevee' in root: continue\r\n",
        "        if 'Grouped' in root: continue\r\n",
        "        file_path = os.path.join(root, name)\r\n",
        "        # print(file_path)\r\n",
        "        shutil.copyfile(file_path, os.path.join(IMAGES_PATH, name))"
      ],
      "execution_count": null,
      "outputs": [
        {
          "output_type": "stream",
          "text": [
            "108it [00:00, 269.37it/s]\n"
          ],
          "name": "stderr"
        }
      ]
    },
    {
      "cell_type": "code",
      "metadata": {
        "colab": {
          "base_uri": "https://localhost:8080/"
        },
        "id": "o_ix2_HUEOqi",
        "outputId": "3d67f7c4-85c6-4fa5-9ec2-0c36114890bb"
      },
      "source": [
        "text_entries = []\r\n",
        "for f in tqdm( os.listdir(IMAGES_PATH) ):\r\n",
        "    if f.split('.')[-1] not in ['png', 'gif', 'jpg', 'jpeg']:\r\n",
        "      continue\r\n",
        "    image = Image.open(os.path.join(IMAGES_PATH, f)).convert('RGBA')\r\n",
        "    # ratio check\r\n",
        "    rtio = image.size[0] / image.size[1] # width/height\r\n",
        "    gndRtio = IMG_WIDTH / IMG_HEIGHT\r\n",
        "    if rtio > gndRtio*1.6 or rtio < 1/gndRtio*0.7:\r\n",
        "        continue\r\n",
        "    image = image.resize((IMG_WIDTH, IMG_HEIGHT))\r\n",
        "    pixels = image.load()\r\n",
        "    lines = []\r\n",
        "    for y in range(IMG_HEIGHT):\r\n",
        "        split = []\r\n",
        "        for x in range(IMG_WIDTH):\r\n",
        "            s = '~'\r\n",
        "            color = pixels[x, y]\r\n",
        "            if len(color) < 4 or color[3] > 128:\r\n",
        "                r, g, b = color[0:3]\r\n",
        "                mR = math.floor(r/64) # 6-bit color\r\n",
        "                mG = math.floor(g/64)\r\n",
        "                mB = math.floor(b/64)\r\n",
        "                c = 0;\r\n",
        "                c += mR\r\n",
        "                c = c << 2\r\n",
        "                c += mG\r\n",
        "                c = c << 2\r\n",
        "                c += mB\r\n",
        "                s = chr(c+CHAR_CODE_SHIFT)\r\n",
        "            split.append(s)\r\n",
        "        lines.append(PIXEL_SPLIT_CHAR.join(split))\r\n",
        "    out_ = LINE_SPLIT_CHAR.join(lines)\r\n",
        "    text_entries.append(out_)\r\n",
        "    mirrored = LINE_SPLIT_CHAR.join(\r\n",
        "        [l[::-1] for l in lines]\r\n",
        "    )\r\n",
        "    text_entries.append(mirrored)\r\n",
        "    \r\n",
        "with open(IMG_TXT_PATH, 'w+') as f:\r\n",
        "    f.write(IMAGE_SPLIT_CHAR.join(text_entries))"
      ],
      "execution_count": null,
      "outputs": [
        {
          "output_type": "stream",
          "text": [
            "100%|██████████| 8000/8000 [00:48<00:00, 164.24it/s]\n"
          ],
          "name": "stderr"
        }
      ]
    },
    {
      "cell_type": "code",
      "metadata": {
        "colab": {
          "base_uri": "https://localhost:8080/"
        },
        "id": "ract7NBwcGhy",
        "outputId": "a36e30de-8ff3-4b16-cac7-1c5eec228cec"
      },
      "source": [
        "output = ''\r\n",
        "for f in tqdm( os.listdir(IMAGES_PATH) ):\r\n",
        "    ext = f.split('.')[-1]\r\n",
        "    if ext not in ['png', 'gif', 'jpg', 'jpeg']:\r\n",
        "      continue\r\n",
        "    image = Image.open(os.path.join(IMAGES_PATH, f)).convert('RGBA')\r\n",
        "    pixels = image.load()\r\n",
        "    width = image.size[0]\r\n",
        "    height = image.size[1]\r\n",
        "    lines = []\r\n",
        "    for y in range(height):\r\n",
        "        padLength = len(str(width))\r\n",
        "        padded = str(y).zfill(padLength)\r\n",
        "        split = [padded + 'd']\r\n",
        "        for x in range(width):\r\n",
        "            color = pixels[x, y]\r\n",
        "            s = '~'\r\n",
        "            if len(color) < 4 or color[3] > 128:\r\n",
        "                r, g, b = color[0], color[1], color[2]\r\n",
        "                if r == 85 and g == 85 and b == 85:\r\n",
        "                    s = 'a' # use grayscale character 1\r\n",
        "                elif r == 170 and g == 170 and b == 170:\r\n",
        "                    s = 'b' # use grayscale character 2\r\n",
        "                else: # use one of 64 color characters\r\n",
        "                    mR = math.floor(r/64)\r\n",
        "                    mG = math.floor(g/64)\r\n",
        "                    mB = math.floor(b/64)\r\n",
        "                    c = 0;\r\n",
        "                    c += mR\r\n",
        "                    c = c << 2\r\n",
        "                    c += mG\r\n",
        "                    c = c << 2\r\n",
        "                    c += mB\r\n",
        "                    s = chr(c+33)\r\n",
        "            split.append(s)\r\n",
        "        lines.append(' '.join(split))\r\n",
        "    reversed = []\r\n",
        "    for line in lines:\r\n",
        "        reversed.insert(0, (line.replace('d ', 'u ', 1)))\r\n",
        "    output += '\\n'.join(lines)\r\n",
        "    # output += '\\n'.join(reversed)\r\n",
        "print('saving output')\r\n",
        "with open('all-images.txt', 'w') as output_file:\r\n",
        "    output_file.write(output)\r\n",
        "print('done !')"
      ],
      "execution_count": null,
      "outputs": [
        {
          "output_type": "stream",
          "text": [
            "100%|██████████| 8000/8000 [00:41<00:00, 193.15it/s]\n"
          ],
          "name": "stderr"
        },
        {
          "output_type": "stream",
          "text": [
            "saving output\n",
            "done !\n"
          ],
          "name": "stdout"
        }
      ]
    },
    {
      "cell_type": "code",
      "metadata": {
        "id": "FmHAYLh-gikk"
      },
      "source": [
        "with open(IMG_TXT_PATH, 'r') as f:\r\n",
        "    content = f.read()\r\n",
        "    text_entries = content.split(IMAGE_SPLIT_CHAR)\r\n",
        "\r\n",
        "text_entries"
      ],
      "execution_count": null,
      "outputs": []
    },
    {
      "cell_type": "markdown",
      "metadata": {
        "id": "GaATbsPQZkYY"
      },
      "source": [
        "#### b) wattpad stories"
      ]
    },
    {
      "cell_type": "code",
      "metadata": {
        "id": "h736jrDpmEdp"
      },
      "source": [
        "TEXT_PATH = '/content/drive/MyDrive/datasets/wattpad'"
      ],
      "execution_count": null,
      "outputs": []
    },
    {
      "cell_type": "code",
      "metadata": {
        "id": "XStGI9uPZj2r",
        "colab": {
          "base_uri": "https://localhost:8080/"
        },
        "outputId": "ef145cd3-1011-4b7d-bb61-8e3e7d17b99f"
      },
      "source": [
        "text_entries = []\r\n",
        "\r\n",
        "for root, dirs, files in os.walk(TEXT_PATH, topdown=False):\r\n",
        "    for name in files:\r\n",
        "        file_path = os.path.join(root, name)\r\n",
        "        print(file_path)\r\n",
        "        with open(file_path) as fp: \r\n",
        "            # text_entries += fp.read() +'\\n'\r\n",
        "            for line in fp:\r\n",
        "                text_entries.append(line.strip())"
      ],
      "execution_count": null,
      "outputs": [
        {
          "output_type": "stream",
          "text": [
            "/content/drive/MyDrive/datasets/wattpad/Doki-Doki-Literature-Club-Full-script-wattpad_172296185.txt\n",
            "/content/drive/MyDrive/datasets/wattpad/It-Started-with-a-Selfie-_larry-stylinson-a.u._-wattpad_22320751.txt\n",
            "/content/drive/MyDrive/datasets/wattpad/The-Crooked-Oak-Undertale-Script-Book-wattpad_177090691.txt\n",
            "/content/drive/MyDrive/datasets/wattpad/Sold-at-first-sight_-_-_-wattpad_43723.txt\n",
            "/content/drive/MyDrive/datasets/wattpad/Perfect-Fate-wattpad_16490622.txt\n",
            "/content/drive/MyDrive/datasets/wattpad/Bản sao của Doki-Doki-Literature-Club-Full-script-wattpad_172296185.txt\n",
            "/content/drive/MyDrive/datasets/wattpad/Bản sao của It-Started-with-a-Selfie-_larry-stylinson-a.u._-wattpad_22320751.txt\n"
          ],
          "name": "stdout"
        }
      ]
    },
    {
      "cell_type": "markdown",
      "metadata": {
        "id": "wcphp9XLamUl"
      },
      "source": [
        "## 🚋 Names and paths"
      ]
    },
    {
      "cell_type": "code",
      "metadata": {
        "id": "EeDY9G3tOxnm"
      },
      "source": [
        "MODEL_NAME = \"gpt2-medium\"\r\n",
        "MODEL_SAVE_PATH = 'drive/MyDrive/model-checkpoints/gpt2-med-wattpad/'\r\n",
        "TOK_PATH = MODEL_SAVE_PATH + \"tok/\"\r\n",
        "TRAIN_PATH = 'train_dataset.txt'\r\n",
        "TEST_PATH = 'test_dataset.txt'"
      ],
      "execution_count": null,
      "outputs": []
    },
    {
      "cell_type": "code",
      "metadata": {
        "id": "PRmcbu7OITvJ"
      },
      "source": [
        "# ALTERNATIVE\r\n",
        "MODEL_SAVE_PATH = 'drive/MyDrive/model-checkpoints/gpt2-umbrpics/'\r\n",
        "TRAIN_PATH = '/content/drive/MyDrive/datasets/Eeveelutions/umbr-64-mirror/train_dataset.txt'\r\n",
        "TEST_PATH = '/content/drive/MyDrive/datasets/Eeveelutions/umbr-64-mirror/test_dataset.txt'"
      ],
      "execution_count": null,
      "outputs": []
    },
    {
      "cell_type": "markdown",
      "metadata": {
        "id": "t21LKwcRHTDa"
      },
      "source": [
        "### 📄 Build txt file"
      ]
    },
    {
      "cell_type": "code",
      "metadata": {
        "colab": {
          "base_uri": "https://localhost:8080/"
        },
        "id": "Znw9MJfK8J_j",
        "outputId": "ab97dd7e-be2e-46ee-c4d5-5241ee8d155c"
      },
      "source": [
        "from sklearn.model_selection import train_test_split\r\n",
        "\r\n",
        "train_ds, test_ds = train_test_split(text_entries, test_size=0.05, shuffle=True) \r\n",
        "\r\n",
        "print(f\"Train dataset length: {len(train_ds)}\")\r\n",
        "print(f\"Test dataset length: {len(test_ds)}\")"
      ],
      "execution_count": null,
      "outputs": [
        {
          "output_type": "stream",
          "text": [
            "Train dataset length: 57994\n",
            "Test dataset length: 3053\n"
          ],
          "name": "stdout"
        }
      ]
    },
    {
      "cell_type": "code",
      "metadata": {
        "id": "57fiMoSeC81l"
      },
      "source": [
        "longest_len = 0\r\n",
        "\r\n",
        "def build_text_files(lines, dest_path):\r\n",
        "    global longest_len\r\n",
        "    f = open(dest_path, 'w+')\r\n",
        "    data = \"\"\r\n",
        "    for line in lines:\r\n",
        "        data += line + '\\n' # IMAGE_SPLIT_CHAR\r\n",
        "        \r\n",
        "        # assign max length\r\n",
        "        if len(line) > longest_len:\r\n",
        "            longest_len = len(line)\r\n",
        "    f.write(data)\r\n",
        "\r\n",
        "build_text_files(train_ds, TRAIN_PATH)\r\n",
        "build_text_files(test_ds, TEST_PATH)"
      ],
      "execution_count": null,
      "outputs": []
    },
    {
      "cell_type": "markdown",
      "metadata": {
        "id": "XTZPPOTIIb6P"
      },
      "source": [
        "## 🧠 The model\r\n",
        "Get the available $MODEL_NAME model"
      ]
    },
    {
      "cell_type": "code",
      "metadata": {
        "id": "-kLEjl_JIdh_",
        "colab": {
          "base_uri": "https://localhost:8080/",
          "height": 115,
          "referenced_widgets": [
            "12f18d7b901e4908b555636e54247320",
            "d9d0dede51a544b59b21af5aa303eefc",
            "a2c53c955a5143f4ae5593c5382e27ac",
            "e04474288c36449db1361abaa0c0c796",
            "6f8b96c304d94f4a8b4e353a5658fd4b",
            "3842ccbac9844feeb90b856a80fafafb",
            "06d88e395db3489890450893bcdd0b96",
            "ea694dc555f44966a90d6e1dfdd341ab",
            "6d4e2d7d40ba46b9ac734d9215de67d4",
            "dac3dcea2ebd4e448996f1b1b9feb639",
            "cb71cd5b849c4d439f011f6bc836bb87",
            "75d47faec4284789ad335ea46c30cfca",
            "debd94add8c443d68e5fc69184bae902",
            "ae55e5d0eaa745d6aba8f43cc495efdb",
            "28016c34913a4cc28d229b7935ab206e",
            "7b131809259347fd870f3674e0dc596c"
          ]
        },
        "outputId": "e6dd5557-7319-4dce-95dc-074d3ff9e505"
      },
      "source": [
        "from transformers import GPT2LMHeadModel\n",
        "\n",
        "model = GPT2LMHeadModel.from_pretrained(\n",
        "    MODEL_NAME\n",
        "    # MODEL_SAVE_PATH + 'checkpoint-40000/'\n",
        ")\n",
        "# model"
      ],
      "execution_count": null,
      "outputs": [
        {
          "output_type": "display_data",
          "data": {
            "application/vnd.jupyter.widget-view+json": {
              "model_id": "12f18d7b901e4908b555636e54247320",
              "version_minor": 0,
              "version_major": 2
            },
            "text/plain": [
              "HBox(children=(FloatProgress(value=0.0, description='Downloading', max=718.0, style=ProgressStyle(description_…"
            ]
          },
          "metadata": {
            "tags": []
          }
        },
        {
          "output_type": "stream",
          "text": [
            "\n"
          ],
          "name": "stdout"
        },
        {
          "output_type": "display_data",
          "data": {
            "application/vnd.jupyter.widget-view+json": {
              "model_id": "6d4e2d7d40ba46b9ac734d9215de67d4",
              "version_minor": 0,
              "version_major": 2
            },
            "text/plain": [
              "HBox(children=(FloatProgress(value=0.0, description='Downloading', max=1520013706.0, style=ProgressStyle(descr…"
            ]
          },
          "metadata": {
            "tags": []
          }
        },
        {
          "output_type": "stream",
          "text": [
            "\n"
          ],
          "name": "stdout"
        }
      ]
    },
    {
      "cell_type": "markdown",
      "metadata": {
        "id": "0dgFIh0MEXmY"
      },
      "source": [
        "### 🪓 Tokenizer"
      ]
    },
    {
      "cell_type": "markdown",
      "metadata": {
        "id": "Y-qACiHP7J45"
      },
      "source": [
        "#### a) Train a tokenizer\r\n",
        "\r\n",
        "[văn bản liên kết](https://huggingface.co/blog/how-to-train)"
      ]
    },
    {
      "cell_type": "code",
      "metadata": {
        "id": "nOvCyEeL7Jmv"
      },
      "source": [
        "from tokenizers import ByteLevelBPETokenizer\r\n",
        "\r\n",
        "tok_trainer = ByteLevelBPETokenizer()\r\n",
        "tok_trainer.train(files=[TRAIN_PATH, TEST_PATH],\r\n",
        "                vocab_size=2000, min_frequency=1,)\r\n",
        "!mkdir -p 'tok/'\r\n",
        "tok_trainer.save_model('tok/', \"igptkinda\")\r\n",
        "!mkdir -p $TOK_PATH\r\n",
        "!cp 'tok/igptkinda-vocab.json' $TOK_PATH/vocab.json\r\n",
        "!cp 'tok/igptkinda-merges.txt' $TOK_PATH/merges.txt"
      ],
      "execution_count": null,
      "outputs": []
    },
    {
      "cell_type": "code",
      "metadata": {
        "colab": {
          "base_uri": "https://localhost:8080/"
        },
        "id": "3EzKeVelH4y3",
        "outputId": "d929fada-ebb7-4397-b7c8-4f61b3dd1b01"
      },
      "source": [
        "from transformers import GPT2Tokenizer\r\n",
        "tokenizer = GPT2Tokenizer.from_pretrained(TOK_PATH)\r\n",
        "tokenizer.encode(\"F90.F0G\")"
      ],
      "execution_count": null,
      "outputs": [
        {
          "output_type": "execute_result",
          "data": {
            "text/plain": [
              "[37, 24, 15, 13, 37, 15, 38]"
            ]
          },
          "metadata": {
            "tags": []
          },
          "execution_count": 37
        }
      ]
    },
    {
      "cell_type": "markdown",
      "metadata": {
        "id": "t96ZR6kN7F1x"
      },
      "source": [
        "#### b) Pretrained"
      ]
    },
    {
      "cell_type": "code",
      "metadata": {
        "colab": {
          "base_uri": "https://localhost:8080/",
          "height": 164,
          "referenced_widgets": [
            "d9bcd59dd98d4f659d4e71812416f6aa",
            "5c6bb393534e4f75a8842ff052de5291",
            "be2fc416085b431d9c1e8e88bf29420f",
            "32024679139541a58f2252900be017af",
            "95c472c100a846c39d0ac4c7fbdfc36d",
            "d447771ffb5145fa86a7a77212e3fe6a",
            "98400518894c4fae967dd1cdd84bcfc3",
            "fccf7ca01e204b1a825ae2f37ade2f79",
            "10c5eb9bab6c4571b55ff577cc07f9b4",
            "b2094282e9bb4f20934b65eb465a3e30",
            "2b6ba92e8de149278ade615a598e81a0",
            "25fbcb183fec48b5950408cc741b5707",
            "a9dc4d1f78514176af42e01c510ea8b9",
            "5e6bd77226b2474dbdd52080b53219dd",
            "f1016d0c2d4c447e801374b523f3f058",
            "b6f4ea9b64a945b88390841c054c99fe",
            "c54deeacbf8f420dbe98c1cc638a1198",
            "5694b543a895465694f580869ed0d768",
            "a018bd971e134b2dbc39139366a99f22",
            "2f08275955544c39a8e656a343d99f7d",
            "1c36219d7036480daaac6e886b663bb1",
            "852bac108cf54cae86bb6909c21fc2d7",
            "5664b93974354895bbb7bc9c93f34639",
            "8a2f768228e44d9fb4231194d8f56a31"
          ]
        },
        "id": "F1MIoFAmE8Gq",
        "outputId": "8adb0fe5-047b-49ec-c5dc-9474a3d2ec7a"
      },
      "source": [
        "from transformers import AutoTokenizer\r\n",
        "\r\n",
        "tokenizer = AutoTokenizer.from_pretrained(MODEL_NAME)\r\n",
        "# tokenizer.encode(\" 9 I J J : : J.J J J J J \")"
      ],
      "execution_count": null,
      "outputs": [
        {
          "output_type": "display_data",
          "data": {
            "application/vnd.jupyter.widget-view+json": {
              "model_id": "d9bcd59dd98d4f659d4e71812416f6aa",
              "version_minor": 0,
              "version_major": 2
            },
            "text/plain": [
              "HBox(children=(FloatProgress(value=0.0, description='Downloading', max=1042301.0, style=ProgressStyle(descript…"
            ]
          },
          "metadata": {
            "tags": []
          }
        },
        {
          "output_type": "stream",
          "text": [
            "\n"
          ],
          "name": "stdout"
        },
        {
          "output_type": "display_data",
          "data": {
            "application/vnd.jupyter.widget-view+json": {
              "model_id": "10c5eb9bab6c4571b55ff577cc07f9b4",
              "version_minor": 0,
              "version_major": 2
            },
            "text/plain": [
              "HBox(children=(FloatProgress(value=0.0, description='Downloading', max=456318.0, style=ProgressStyle(descripti…"
            ]
          },
          "metadata": {
            "tags": []
          }
        },
        {
          "output_type": "stream",
          "text": [
            "\n"
          ],
          "name": "stdout"
        },
        {
          "output_type": "display_data",
          "data": {
            "application/vnd.jupyter.widget-view+json": {
              "model_id": "c54deeacbf8f420dbe98c1cc638a1198",
              "version_minor": 0,
              "version_major": 2
            },
            "text/plain": [
              "HBox(children=(FloatProgress(value=0.0, description='Downloading', max=1355256.0, style=ProgressStyle(descript…"
            ]
          },
          "metadata": {
            "tags": []
          }
        },
        {
          "output_type": "stream",
          "text": [
            "\n"
          ],
          "name": "stdout"
        }
      ]
    },
    {
      "cell_type": "markdown",
      "metadata": {
        "id": "O26rs7mCI5qI"
      },
      "source": [
        "## 🚧 Training\r\n",
        "\r\n",
        "API docs: [Trainer](https://huggingface.co/transformers/main_classes/trainer.html#trainingarguments) ,\r\n",
        "[Torch optim](https://pytorch.org/docs/stable/optim.html)\r\n"
      ]
    },
    {
      "cell_type": "markdown",
      "metadata": {
        "id": "Quah5S-7hxWi"
      },
      "source": [
        "### 📚 .txt to _dataset"
      ]
    },
    {
      "cell_type": "code",
      "metadata": {
        "colab": {
          "base_uri": "https://localhost:8080/"
        },
        "id": "tJ--4NJHhH7R",
        "outputId": "3e7a179a-200c-4f40-8057-dbd7645112f0"
      },
      "source": [
        "from transformers import TextDataset, DataCollatorForLanguageModeling\r\n",
        "\r\n",
        "train_dataset = TextDataset(\r\n",
        "    tokenizer=tokenizer,\r\n",
        "    file_path=TRAIN_PATH,\r\n",
        "    block_size=tokenizer.model_max_length\r\n",
        ")\r\n",
        "test_dataset = TextDataset(\r\n",
        "    tokenizer=tokenizer,\r\n",
        "    file_path=TEST_PATH,\r\n",
        "    block_size=tokenizer.model_max_length\r\n",
        ")\r\n",
        "collator = DataCollatorForLanguageModeling(\r\n",
        "    tokenizer=tokenizer, mlm=False,\r\n",
        ")"
      ],
      "execution_count": null,
      "outputs": [
        {
          "output_type": "stream",
          "text": [
            "/usr/local/lib/python3.7/dist-packages/transformers/data/datasets/language_modeling.py:58: FutureWarning: This dataset will be removed from the library soon, preprocessing should be handled with the 🤗 Datasets library. You can have a look at this example script for pointers: https://github.com/huggingface/transformers/blob/master/examples/language-modeling/run_mlm.py\n",
            "  FutureWarning,\n",
            "Token indices sequence length is longer than the specified maximum sequence length for this model (1146864 > 1024). Running this sequence through the model will result in indexing errors\n"
          ],
          "name": "stderr"
        }
      ]
    },
    {
      "cell_type": "markdown",
      "metadata": {
        "id": "TS1QC_BZItjF"
      },
      "source": [
        "### 🤙 Evaluation callbacks\r\n"
      ]
    },
    {
      "cell_type": "code",
      "metadata": {
        "id": "yqeFhFoEI1RS"
      },
      "source": [
        "from nlp import load_dataset\r\n",
        "test = load_dataset('wikitext', 'wikitext-2-raw-v1', split='test')\r\n",
        "encodings = tokenizer('\\n\\n'.join(test['text']), return_tensors='pt')"
      ],
      "execution_count": null,
      "outputs": []
    },
    {
      "cell_type": "code",
      "metadata": {
        "id": "Zr2r6mHEJVYs"
      },
      "source": [
        "max_length = model.config.n_positions\r\n",
        "stride = 512\r\n",
        "\r\n",
        "lls = []\r\n",
        "for i in tqdm(range(0, encodings.input_ids.size(1), stride)):\r\n",
        "    begin_loc = max(i + stride - max_length, 0)\r\n",
        "    end_loc = min(i + stride, encodings.input_ids.size(1))\r\n",
        "    trg_len = end_loc - i    # may be different from stride on last loop\r\n",
        "    input_ids = encodings.input_ids[:,begin_loc:end_loc].to(device)\r\n",
        "    target_ids = input_ids.clone()\r\n",
        "    target_ids[:,:-trg_len] = -100\r\n",
        "\r\n",
        "    with torch.no_grad():\r\n",
        "        outputs = model(input_ids, labels=target_ids)\r\n",
        "        log_likelihood = outputs[0] * trg_len\r\n",
        "\r\n",
        "    lls.append(log_likelihood)\r\n",
        "\r\n",
        "ppl = torch.exp(torch.stack(lls).sum() / end_loc)"
      ],
      "execution_count": null,
      "outputs": []
    },
    {
      "cell_type": "markdown",
      "metadata": {
        "id": "qZnxqwVXi-kG"
      },
      "source": [
        "### 🎢 GD!"
      ]
    },
    {
      "cell_type": "code",
      "metadata": {
        "id": "8EZT5aWz33q3"
      },
      "source": [
        "from transformers import Trainer\r\n",
        "\r\n",
        "class MyTrainer(Trainer):\r\n",
        "    def compute_loss(self, *args, **kwargs):\r\n",
        "        a = super().compute_loss(*args, **kwargs)\r\n",
        "        print(args)\r\n",
        "        print(kwargs)\r\n",
        "        print(a)\r\n",
        "        return a"
      ],
      "execution_count": null,
      "outputs": []
    },
    {
      "cell_type": "code",
      "metadata": {
        "id": "mAWU6R8FnYS1",
        "colab": {
          "base_uri": "https://localhost:8080/",
          "height": 357
        },
        "outputId": "b1136d71-24ef-4d27-a63b-f51e5ea85e45"
      },
      "source": [
        "from transformers import Trainer, TrainingArguments, get_scheduler\r\n",
        "from torch import optim\r\n",
        "\r\n",
        "training_args = TrainingArguments(\r\n",
        "    output_dir=MODEL_SAVE_PATH,\r\n",
        "    overwrite_output_dir=True,\r\n",
        "    num_train_epochs=5,\r\n",
        "    # max_steps=80_000,\r\n",
        "    save_steps=200,\r\n",
        "    logging_steps=10,\r\n",
        "    evaluation_strategy=\"steps\",\r\n",
        "\r\n",
        "# Turn down on memory usage\r\n",
        "    per_device_train_batch_size=16,\r\n",
        "    per_device_eval_batch_size=64,\r\n",
        "    adafactor=True\r\n",
        ")\r\n",
        "optimizer = optim.SGD(model.parameters(), lr=0.01, momentum=0.9)\r\n",
        "scheduler = get_scheduler(\"polynomial\", optimizer, num_warmup_steps=1000,\r\n",
        "                          num_training_steps=0) # ?\r\n",
        "\r\n",
        "trainer = Trainer(model=model,\r\n",
        "    args=training_args,\r\n",
        "    train_dataset=train_dataset,\r\n",
        "    eval_dataset=test_dataset,\r\n",
        "    # optimizers=(optimizer, scheduler),\r\n",
        "    # compute_metrics=[Perplexity],\r\n",
        "    # model_init=[Trainer.evaluate],\r\n",
        "    data_collator=collator,\r\n",
        ")\r\n",
        "trainer.train()"
      ],
      "execution_count": null,
      "outputs": [
        {
          "output_type": "error",
          "ename": "RuntimeError",
          "evalue": "ignored",
          "traceback": [
            "\u001b[0;31m---------------------------------------------------------------------------\u001b[0m",
            "\u001b[0;31mRuntimeError\u001b[0m                              Traceback (most recent call last)",
            "\u001b[0;32m<ipython-input-13-794212b0d52b>\u001b[0m in \u001b[0;36m<module>\u001b[0;34m()\u001b[0m\n\u001b[1;32m     29\u001b[0m     \u001b[0mdata_collator\u001b[0m\u001b[0;34m=\u001b[0m\u001b[0mcollator\u001b[0m\u001b[0;34m,\u001b[0m\u001b[0;34m\u001b[0m\u001b[0;34m\u001b[0m\u001b[0m\n\u001b[1;32m     30\u001b[0m )\n\u001b[0;32m---> 31\u001b[0;31m \u001b[0mtrainer\u001b[0m\u001b[0;34m.\u001b[0m\u001b[0mtrain\u001b[0m\u001b[0;34m(\u001b[0m\u001b[0;34m)\u001b[0m\u001b[0;34m\u001b[0m\u001b[0;34m\u001b[0m\u001b[0m\n\u001b[0m",
            "\u001b[0;32m/usr/local/lib/python3.7/dist-packages/transformers/trainer.py\u001b[0m in \u001b[0;36mtrain\u001b[0;34m(self, resume_from_checkpoint, trial, **kwargs)\u001b[0m\n\u001b[1;32m    938\u001b[0m                         \u001b[0mtr_loss\u001b[0m \u001b[0;34m+=\u001b[0m \u001b[0mself\u001b[0m\u001b[0;34m.\u001b[0m\u001b[0mtraining_step\u001b[0m\u001b[0;34m(\u001b[0m\u001b[0mmodel\u001b[0m\u001b[0;34m,\u001b[0m \u001b[0minputs\u001b[0m\u001b[0;34m)\u001b[0m\u001b[0;34m\u001b[0m\u001b[0;34m\u001b[0m\u001b[0m\n\u001b[1;32m    939\u001b[0m                 \u001b[0;32melse\u001b[0m\u001b[0;34m:\u001b[0m\u001b[0;34m\u001b[0m\u001b[0;34m\u001b[0m\u001b[0m\n\u001b[0;32m--> 940\u001b[0;31m                     \u001b[0mtr_loss\u001b[0m \u001b[0;34m+=\u001b[0m \u001b[0mself\u001b[0m\u001b[0;34m.\u001b[0m\u001b[0mtraining_step\u001b[0m\u001b[0;34m(\u001b[0m\u001b[0mmodel\u001b[0m\u001b[0;34m,\u001b[0m \u001b[0minputs\u001b[0m\u001b[0;34m)\u001b[0m\u001b[0;34m\u001b[0m\u001b[0;34m\u001b[0m\u001b[0m\n\u001b[0m\u001b[1;32m    941\u001b[0m                 \u001b[0mself\u001b[0m\u001b[0;34m.\u001b[0m\u001b[0m_total_flos\u001b[0m \u001b[0;34m+=\u001b[0m \u001b[0mself\u001b[0m\u001b[0;34m.\u001b[0m\u001b[0mfloating_point_ops\u001b[0m\u001b[0;34m(\u001b[0m\u001b[0minputs\u001b[0m\u001b[0;34m)\u001b[0m\u001b[0;34m\u001b[0m\u001b[0;34m\u001b[0m\u001b[0m\n\u001b[1;32m    942\u001b[0m \u001b[0;34m\u001b[0m\u001b[0m\n",
            "\u001b[0;32m/usr/local/lib/python3.7/dist-packages/transformers/trainer.py\u001b[0m in \u001b[0;36mtraining_step\u001b[0;34m(self, model, inputs)\u001b[0m\n\u001b[1;32m   1302\u001b[0m                 \u001b[0mloss\u001b[0m \u001b[0;34m=\u001b[0m \u001b[0mself\u001b[0m\u001b[0;34m.\u001b[0m\u001b[0mcompute_loss\u001b[0m\u001b[0;34m(\u001b[0m\u001b[0mmodel\u001b[0m\u001b[0;34m,\u001b[0m \u001b[0minputs\u001b[0m\u001b[0;34m)\u001b[0m\u001b[0;34m\u001b[0m\u001b[0;34m\u001b[0m\u001b[0m\n\u001b[1;32m   1303\u001b[0m         \u001b[0;32melse\u001b[0m\u001b[0;34m:\u001b[0m\u001b[0;34m\u001b[0m\u001b[0;34m\u001b[0m\u001b[0m\n\u001b[0;32m-> 1304\u001b[0;31m             \u001b[0mloss\u001b[0m \u001b[0;34m=\u001b[0m \u001b[0mself\u001b[0m\u001b[0;34m.\u001b[0m\u001b[0mcompute_loss\u001b[0m\u001b[0;34m(\u001b[0m\u001b[0mmodel\u001b[0m\u001b[0;34m,\u001b[0m \u001b[0minputs\u001b[0m\u001b[0;34m)\u001b[0m\u001b[0;34m\u001b[0m\u001b[0;34m\u001b[0m\u001b[0m\n\u001b[0m\u001b[1;32m   1305\u001b[0m \u001b[0;34m\u001b[0m\u001b[0m\n\u001b[1;32m   1306\u001b[0m         \u001b[0;32mif\u001b[0m \u001b[0mself\u001b[0m\u001b[0;34m.\u001b[0m\u001b[0margs\u001b[0m\u001b[0;34m.\u001b[0m\u001b[0mn_gpu\u001b[0m \u001b[0;34m>\u001b[0m \u001b[0;36m1\u001b[0m\u001b[0;34m:\u001b[0m\u001b[0;34m\u001b[0m\u001b[0;34m\u001b[0m\u001b[0m\n",
            "\u001b[0;32m/usr/local/lib/python3.7/dist-packages/transformers/trainer.py\u001b[0m in \u001b[0;36mcompute_loss\u001b[0;34m(self, model, inputs, return_outputs)\u001b[0m\n\u001b[1;32m   1332\u001b[0m         \u001b[0;32melse\u001b[0m\u001b[0;34m:\u001b[0m\u001b[0;34m\u001b[0m\u001b[0;34m\u001b[0m\u001b[0m\n\u001b[1;32m   1333\u001b[0m             \u001b[0mlabels\u001b[0m \u001b[0;34m=\u001b[0m \u001b[0;32mNone\u001b[0m\u001b[0;34m\u001b[0m\u001b[0;34m\u001b[0m\u001b[0m\n\u001b[0;32m-> 1334\u001b[0;31m         \u001b[0moutputs\u001b[0m \u001b[0;34m=\u001b[0m \u001b[0mmodel\u001b[0m\u001b[0;34m(\u001b[0m\u001b[0;34m**\u001b[0m\u001b[0minputs\u001b[0m\u001b[0;34m)\u001b[0m\u001b[0;34m\u001b[0m\u001b[0;34m\u001b[0m\u001b[0m\n\u001b[0m\u001b[1;32m   1335\u001b[0m         \u001b[0;31m# Save past state if it exists\u001b[0m\u001b[0;34m\u001b[0m\u001b[0;34m\u001b[0m\u001b[0;34m\u001b[0m\u001b[0m\n\u001b[1;32m   1336\u001b[0m         \u001b[0;31m# TODO: this needs to be fixed and made cleaner later.\u001b[0m\u001b[0;34m\u001b[0m\u001b[0;34m\u001b[0m\u001b[0;34m\u001b[0m\u001b[0m\n",
            "\u001b[0;32m/usr/local/lib/python3.7/dist-packages/torch/nn/modules/module.py\u001b[0m in \u001b[0;36m_call_impl\u001b[0;34m(self, *input, **kwargs)\u001b[0m\n\u001b[1;32m    725\u001b[0m             \u001b[0mresult\u001b[0m \u001b[0;34m=\u001b[0m \u001b[0mself\u001b[0m\u001b[0;34m.\u001b[0m\u001b[0m_slow_forward\u001b[0m\u001b[0;34m(\u001b[0m\u001b[0;34m*\u001b[0m\u001b[0minput\u001b[0m\u001b[0;34m,\u001b[0m \u001b[0;34m**\u001b[0m\u001b[0mkwargs\u001b[0m\u001b[0;34m)\u001b[0m\u001b[0;34m\u001b[0m\u001b[0;34m\u001b[0m\u001b[0m\n\u001b[1;32m    726\u001b[0m         \u001b[0;32melse\u001b[0m\u001b[0;34m:\u001b[0m\u001b[0;34m\u001b[0m\u001b[0;34m\u001b[0m\u001b[0m\n\u001b[0;32m--> 727\u001b[0;31m             \u001b[0mresult\u001b[0m \u001b[0;34m=\u001b[0m \u001b[0mself\u001b[0m\u001b[0;34m.\u001b[0m\u001b[0mforward\u001b[0m\u001b[0;34m(\u001b[0m\u001b[0;34m*\u001b[0m\u001b[0minput\u001b[0m\u001b[0;34m,\u001b[0m \u001b[0;34m**\u001b[0m\u001b[0mkwargs\u001b[0m\u001b[0;34m)\u001b[0m\u001b[0;34m\u001b[0m\u001b[0;34m\u001b[0m\u001b[0m\n\u001b[0m\u001b[1;32m    728\u001b[0m         for hook in itertools.chain(\n\u001b[1;32m    729\u001b[0m                 \u001b[0m_global_forward_hooks\u001b[0m\u001b[0;34m.\u001b[0m\u001b[0mvalues\u001b[0m\u001b[0;34m(\u001b[0m\u001b[0;34m)\u001b[0m\u001b[0;34m,\u001b[0m\u001b[0;34m\u001b[0m\u001b[0;34m\u001b[0m\u001b[0m\n",
            "\u001b[0;32m/usr/local/lib/python3.7/dist-packages/transformers/models/gpt2/modeling_gpt2.py\u001b[0m in \u001b[0;36mforward\u001b[0;34m(self, input_ids, past_key_values, attention_mask, token_type_ids, position_ids, head_mask, inputs_embeds, encoder_hidden_states, encoder_attention_mask, labels, use_cache, output_attentions, output_hidden_states, return_dict)\u001b[0m\n\u001b[1;32m    910\u001b[0m             \u001b[0moutput_attentions\u001b[0m\u001b[0;34m=\u001b[0m\u001b[0moutput_attentions\u001b[0m\u001b[0;34m,\u001b[0m\u001b[0;34m\u001b[0m\u001b[0;34m\u001b[0m\u001b[0m\n\u001b[1;32m    911\u001b[0m             \u001b[0moutput_hidden_states\u001b[0m\u001b[0;34m=\u001b[0m\u001b[0moutput_hidden_states\u001b[0m\u001b[0;34m,\u001b[0m\u001b[0;34m\u001b[0m\u001b[0;34m\u001b[0m\u001b[0m\n\u001b[0;32m--> 912\u001b[0;31m             \u001b[0mreturn_dict\u001b[0m\u001b[0;34m=\u001b[0m\u001b[0mreturn_dict\u001b[0m\u001b[0;34m,\u001b[0m\u001b[0;34m\u001b[0m\u001b[0;34m\u001b[0m\u001b[0m\n\u001b[0m\u001b[1;32m    913\u001b[0m         )\n\u001b[1;32m    914\u001b[0m         \u001b[0mhidden_states\u001b[0m \u001b[0;34m=\u001b[0m \u001b[0mtransformer_outputs\u001b[0m\u001b[0;34m[\u001b[0m\u001b[0;36m0\u001b[0m\u001b[0;34m]\u001b[0m\u001b[0;34m\u001b[0m\u001b[0;34m\u001b[0m\u001b[0m\n",
            "\u001b[0;32m/usr/local/lib/python3.7/dist-packages/torch/nn/modules/module.py\u001b[0m in \u001b[0;36m_call_impl\u001b[0;34m(self, *input, **kwargs)\u001b[0m\n\u001b[1;32m    725\u001b[0m             \u001b[0mresult\u001b[0m \u001b[0;34m=\u001b[0m \u001b[0mself\u001b[0m\u001b[0;34m.\u001b[0m\u001b[0m_slow_forward\u001b[0m\u001b[0;34m(\u001b[0m\u001b[0;34m*\u001b[0m\u001b[0minput\u001b[0m\u001b[0;34m,\u001b[0m \u001b[0;34m**\u001b[0m\u001b[0mkwargs\u001b[0m\u001b[0;34m)\u001b[0m\u001b[0;34m\u001b[0m\u001b[0;34m\u001b[0m\u001b[0m\n\u001b[1;32m    726\u001b[0m         \u001b[0;32melse\u001b[0m\u001b[0;34m:\u001b[0m\u001b[0;34m\u001b[0m\u001b[0;34m\u001b[0m\u001b[0m\n\u001b[0;32m--> 727\u001b[0;31m             \u001b[0mresult\u001b[0m \u001b[0;34m=\u001b[0m \u001b[0mself\u001b[0m\u001b[0;34m.\u001b[0m\u001b[0mforward\u001b[0m\u001b[0;34m(\u001b[0m\u001b[0;34m*\u001b[0m\u001b[0minput\u001b[0m\u001b[0;34m,\u001b[0m \u001b[0;34m**\u001b[0m\u001b[0mkwargs\u001b[0m\u001b[0;34m)\u001b[0m\u001b[0;34m\u001b[0m\u001b[0;34m\u001b[0m\u001b[0m\n\u001b[0m\u001b[1;32m    728\u001b[0m         for hook in itertools.chain(\n\u001b[1;32m    729\u001b[0m                 \u001b[0m_global_forward_hooks\u001b[0m\u001b[0;34m.\u001b[0m\u001b[0mvalues\u001b[0m\u001b[0;34m(\u001b[0m\u001b[0;34m)\u001b[0m\u001b[0;34m,\u001b[0m\u001b[0;34m\u001b[0m\u001b[0;34m\u001b[0m\u001b[0m\n",
            "\u001b[0;32m/usr/local/lib/python3.7/dist-packages/transformers/models/gpt2/modeling_gpt2.py\u001b[0m in \u001b[0;36mforward\u001b[0;34m(self, input_ids, past_key_values, attention_mask, token_type_ids, position_ids, head_mask, inputs_embeds, encoder_hidden_states, encoder_attention_mask, use_cache, output_attentions, output_hidden_states, return_dict)\u001b[0m\n\u001b[1;32m    753\u001b[0m                     \u001b[0mencoder_attention_mask\u001b[0m\u001b[0;34m=\u001b[0m\u001b[0mencoder_attention_mask\u001b[0m\u001b[0;34m,\u001b[0m\u001b[0;34m\u001b[0m\u001b[0;34m\u001b[0m\u001b[0m\n\u001b[1;32m    754\u001b[0m                     \u001b[0muse_cache\u001b[0m\u001b[0;34m=\u001b[0m\u001b[0muse_cache\u001b[0m\u001b[0;34m,\u001b[0m\u001b[0;34m\u001b[0m\u001b[0;34m\u001b[0m\u001b[0m\n\u001b[0;32m--> 755\u001b[0;31m                     \u001b[0moutput_attentions\u001b[0m\u001b[0;34m=\u001b[0m\u001b[0moutput_attentions\u001b[0m\u001b[0;34m,\u001b[0m\u001b[0;34m\u001b[0m\u001b[0;34m\u001b[0m\u001b[0m\n\u001b[0m\u001b[1;32m    756\u001b[0m                 )\n\u001b[1;32m    757\u001b[0m \u001b[0;34m\u001b[0m\u001b[0m\n",
            "\u001b[0;32m/usr/local/lib/python3.7/dist-packages/torch/nn/modules/module.py\u001b[0m in \u001b[0;36m_call_impl\u001b[0;34m(self, *input, **kwargs)\u001b[0m\n\u001b[1;32m    725\u001b[0m             \u001b[0mresult\u001b[0m \u001b[0;34m=\u001b[0m \u001b[0mself\u001b[0m\u001b[0;34m.\u001b[0m\u001b[0m_slow_forward\u001b[0m\u001b[0;34m(\u001b[0m\u001b[0;34m*\u001b[0m\u001b[0minput\u001b[0m\u001b[0;34m,\u001b[0m \u001b[0;34m**\u001b[0m\u001b[0mkwargs\u001b[0m\u001b[0;34m)\u001b[0m\u001b[0;34m\u001b[0m\u001b[0;34m\u001b[0m\u001b[0m\n\u001b[1;32m    726\u001b[0m         \u001b[0;32melse\u001b[0m\u001b[0;34m:\u001b[0m\u001b[0;34m\u001b[0m\u001b[0;34m\u001b[0m\u001b[0m\n\u001b[0;32m--> 727\u001b[0;31m             \u001b[0mresult\u001b[0m \u001b[0;34m=\u001b[0m \u001b[0mself\u001b[0m\u001b[0;34m.\u001b[0m\u001b[0mforward\u001b[0m\u001b[0;34m(\u001b[0m\u001b[0;34m*\u001b[0m\u001b[0minput\u001b[0m\u001b[0;34m,\u001b[0m \u001b[0;34m**\u001b[0m\u001b[0mkwargs\u001b[0m\u001b[0;34m)\u001b[0m\u001b[0;34m\u001b[0m\u001b[0;34m\u001b[0m\u001b[0m\n\u001b[0m\u001b[1;32m    728\u001b[0m         for hook in itertools.chain(\n\u001b[1;32m    729\u001b[0m                 \u001b[0m_global_forward_hooks\u001b[0m\u001b[0;34m.\u001b[0m\u001b[0mvalues\u001b[0m\u001b[0;34m(\u001b[0m\u001b[0;34m)\u001b[0m\u001b[0;34m,\u001b[0m\u001b[0;34m\u001b[0m\u001b[0;34m\u001b[0m\u001b[0m\n",
            "\u001b[0;32m/usr/local/lib/python3.7/dist-packages/transformers/models/gpt2/modeling_gpt2.py\u001b[0m in \u001b[0;36mforward\u001b[0;34m(self, hidden_states, layer_past, attention_mask, head_mask, encoder_hidden_states, encoder_attention_mask, use_cache, output_attentions)\u001b[0m\n\u001b[1;32m    293\u001b[0m             \u001b[0mhead_mask\u001b[0m\u001b[0;34m=\u001b[0m\u001b[0mhead_mask\u001b[0m\u001b[0;34m,\u001b[0m\u001b[0;34m\u001b[0m\u001b[0;34m\u001b[0m\u001b[0m\n\u001b[1;32m    294\u001b[0m             \u001b[0muse_cache\u001b[0m\u001b[0;34m=\u001b[0m\u001b[0muse_cache\u001b[0m\u001b[0;34m,\u001b[0m\u001b[0;34m\u001b[0m\u001b[0;34m\u001b[0m\u001b[0m\n\u001b[0;32m--> 295\u001b[0;31m             \u001b[0moutput_attentions\u001b[0m\u001b[0;34m=\u001b[0m\u001b[0moutput_attentions\u001b[0m\u001b[0;34m,\u001b[0m\u001b[0;34m\u001b[0m\u001b[0;34m\u001b[0m\u001b[0m\n\u001b[0m\u001b[1;32m    296\u001b[0m         )\n\u001b[1;32m    297\u001b[0m         \u001b[0mattn_output\u001b[0m \u001b[0;34m=\u001b[0m \u001b[0mattn_outputs\u001b[0m\u001b[0;34m[\u001b[0m\u001b[0;36m0\u001b[0m\u001b[0;34m]\u001b[0m  \u001b[0;31m# output_attn: a, present, (attentions)\u001b[0m\u001b[0;34m\u001b[0m\u001b[0;34m\u001b[0m\u001b[0m\n",
            "\u001b[0;32m/usr/local/lib/python3.7/dist-packages/torch/nn/modules/module.py\u001b[0m in \u001b[0;36m_call_impl\u001b[0;34m(self, *input, **kwargs)\u001b[0m\n\u001b[1;32m    725\u001b[0m             \u001b[0mresult\u001b[0m \u001b[0;34m=\u001b[0m \u001b[0mself\u001b[0m\u001b[0;34m.\u001b[0m\u001b[0m_slow_forward\u001b[0m\u001b[0;34m(\u001b[0m\u001b[0;34m*\u001b[0m\u001b[0minput\u001b[0m\u001b[0;34m,\u001b[0m \u001b[0;34m**\u001b[0m\u001b[0mkwargs\u001b[0m\u001b[0;34m)\u001b[0m\u001b[0;34m\u001b[0m\u001b[0;34m\u001b[0m\u001b[0m\n\u001b[1;32m    726\u001b[0m         \u001b[0;32melse\u001b[0m\u001b[0;34m:\u001b[0m\u001b[0;34m\u001b[0m\u001b[0;34m\u001b[0m\u001b[0m\n\u001b[0;32m--> 727\u001b[0;31m             \u001b[0mresult\u001b[0m \u001b[0;34m=\u001b[0m \u001b[0mself\u001b[0m\u001b[0;34m.\u001b[0m\u001b[0mforward\u001b[0m\u001b[0;34m(\u001b[0m\u001b[0;34m*\u001b[0m\u001b[0minput\u001b[0m\u001b[0;34m,\u001b[0m \u001b[0;34m**\u001b[0m\u001b[0mkwargs\u001b[0m\u001b[0;34m)\u001b[0m\u001b[0;34m\u001b[0m\u001b[0;34m\u001b[0m\u001b[0m\n\u001b[0m\u001b[1;32m    728\u001b[0m         for hook in itertools.chain(\n\u001b[1;32m    729\u001b[0m                 \u001b[0m_global_forward_hooks\u001b[0m\u001b[0;34m.\u001b[0m\u001b[0mvalues\u001b[0m\u001b[0;34m(\u001b[0m\u001b[0;34m)\u001b[0m\u001b[0;34m,\u001b[0m\u001b[0;34m\u001b[0m\u001b[0;34m\u001b[0m\u001b[0m\n",
            "\u001b[0;32m/usr/local/lib/python3.7/dist-packages/transformers/models/gpt2/modeling_gpt2.py\u001b[0m in \u001b[0;36mforward\u001b[0;34m(self, hidden_states, layer_past, attention_mask, head_mask, encoder_hidden_states, encoder_attention_mask, use_cache, output_attentions)\u001b[0m\n\u001b[1;32m    238\u001b[0m             \u001b[0mpresent\u001b[0m \u001b[0;34m=\u001b[0m \u001b[0;32mNone\u001b[0m\u001b[0;34m\u001b[0m\u001b[0;34m\u001b[0m\u001b[0m\n\u001b[1;32m    239\u001b[0m \u001b[0;34m\u001b[0m\u001b[0m\n\u001b[0;32m--> 240\u001b[0;31m         \u001b[0mattn_outputs\u001b[0m \u001b[0;34m=\u001b[0m \u001b[0mself\u001b[0m\u001b[0;34m.\u001b[0m\u001b[0m_attn\u001b[0m\u001b[0;34m(\u001b[0m\u001b[0mquery\u001b[0m\u001b[0;34m,\u001b[0m \u001b[0mkey\u001b[0m\u001b[0;34m,\u001b[0m \u001b[0mvalue\u001b[0m\u001b[0;34m,\u001b[0m \u001b[0mattention_mask\u001b[0m\u001b[0;34m,\u001b[0m \u001b[0mhead_mask\u001b[0m\u001b[0;34m,\u001b[0m \u001b[0moutput_attentions\u001b[0m\u001b[0;34m)\u001b[0m\u001b[0;34m\u001b[0m\u001b[0;34m\u001b[0m\u001b[0m\n\u001b[0m\u001b[1;32m    241\u001b[0m         \u001b[0ma\u001b[0m \u001b[0;34m=\u001b[0m \u001b[0mattn_outputs\u001b[0m\u001b[0;34m[\u001b[0m\u001b[0;36m0\u001b[0m\u001b[0;34m]\u001b[0m\u001b[0;34m\u001b[0m\u001b[0;34m\u001b[0m\u001b[0m\n\u001b[1;32m    242\u001b[0m \u001b[0;34m\u001b[0m\u001b[0m\n",
            "\u001b[0;32m/usr/local/lib/python3.7/dist-packages/transformers/models/gpt2/modeling_gpt2.py\u001b[0m in \u001b[0;36m_attn\u001b[0;34m(self, q, k, v, attention_mask, head_mask, output_attentions)\u001b[0m\n\u001b[1;32m    167\u001b[0m         \u001b[0mw\u001b[0m \u001b[0;34m=\u001b[0m \u001b[0mtorch\u001b[0m\u001b[0;34m.\u001b[0m\u001b[0mmatmul\u001b[0m\u001b[0;34m(\u001b[0m\u001b[0mq\u001b[0m\u001b[0;34m,\u001b[0m \u001b[0mk\u001b[0m\u001b[0;34m)\u001b[0m\u001b[0;34m\u001b[0m\u001b[0;34m\u001b[0m\u001b[0m\n\u001b[1;32m    168\u001b[0m         \u001b[0;32mif\u001b[0m \u001b[0mself\u001b[0m\u001b[0;34m.\u001b[0m\u001b[0mscale\u001b[0m\u001b[0;34m:\u001b[0m\u001b[0;34m\u001b[0m\u001b[0;34m\u001b[0m\u001b[0m\n\u001b[0;32m--> 169\u001b[0;31m             \u001b[0mw\u001b[0m \u001b[0;34m=\u001b[0m \u001b[0mw\u001b[0m \u001b[0;34m/\u001b[0m \u001b[0;34m(\u001b[0m\u001b[0mfloat\u001b[0m\u001b[0;34m(\u001b[0m\u001b[0mv\u001b[0m\u001b[0;34m.\u001b[0m\u001b[0msize\u001b[0m\u001b[0;34m(\u001b[0m\u001b[0;34m-\u001b[0m\u001b[0;36m1\u001b[0m\u001b[0;34m)\u001b[0m\u001b[0;34m)\u001b[0m \u001b[0;34m**\u001b[0m \u001b[0;36m0.5\u001b[0m\u001b[0;34m)\u001b[0m\u001b[0;34m\u001b[0m\u001b[0;34m\u001b[0m\u001b[0m\n\u001b[0m\u001b[1;32m    170\u001b[0m         \u001b[0mnd\u001b[0m\u001b[0;34m,\u001b[0m \u001b[0mns\u001b[0m \u001b[0;34m=\u001b[0m \u001b[0mw\u001b[0m\u001b[0;34m.\u001b[0m\u001b[0msize\u001b[0m\u001b[0;34m(\u001b[0m\u001b[0;34m-\u001b[0m\u001b[0;36m2\u001b[0m\u001b[0;34m)\u001b[0m\u001b[0;34m,\u001b[0m \u001b[0mw\u001b[0m\u001b[0;34m.\u001b[0m\u001b[0msize\u001b[0m\u001b[0;34m(\u001b[0m\u001b[0;34m-\u001b[0m\u001b[0;36m1\u001b[0m\u001b[0;34m)\u001b[0m\u001b[0;34m\u001b[0m\u001b[0;34m\u001b[0m\u001b[0m\n\u001b[1;32m    171\u001b[0m \u001b[0;34m\u001b[0m\u001b[0m\n",
            "\u001b[0;31mRuntimeError\u001b[0m: CUDA out of memory. Tried to allocate 1024.00 MiB (GPU 0; 14.76 GiB total capacity; 13.31 GiB already allocated; 539.75 MiB free; 13.31 GiB reserved in total by PyTorch)"
          ]
        }
      ]
    },
    {
      "cell_type": "code",
      "metadata": {
        "id": "1dh7dXzKpXps"
      },
      "source": [
        "trainer.save_model()"
      ],
      "execution_count": null,
      "outputs": []
    },
    {
      "cell_type": "markdown",
      "metadata": {
        "id": "i_Zw3JubT4Rw"
      },
      "source": [
        "# 🧪 Testing"
      ]
    },
    {
      "cell_type": "code",
      "metadata": {
        "id": "Pne1em02pjBC"
      },
      "source": [
        "from transformers import pipeline, set_seed\n",
        "\n",
        "generator = pipeline('text-generation', model=MODEL_SAVE_PATH + '',\n",
        "                     tokenizer=tokenizer)\n",
        "set_seed(6110)"
      ],
      "execution_count": null,
      "outputs": []
    },
    {
      "cell_type": "markdown",
      "metadata": {
        "id": "V_AJEep29Oaq"
      },
      "source": [
        "## a) Text test"
      ]
    },
    {
      "cell_type": "code",
      "metadata": {
        "id": "fju7oKzvpszH",
        "colab": {
          "base_uri": "https://localhost:8080/"
        },
        "outputId": "25b3d32a-b5c3-4712-f5a3-010afa5ef196"
      },
      "source": [
        "generator(\"\", max_length=50, num_return_sequences=5)"
      ],
      "execution_count": null,
      "outputs": [
        {
          "output_type": "stream",
          "text": [
            "Setting `pad_token_id` to `eos_token_id`:50256 for open-end generation.\n"
          ],
          "name": "stderr"
        },
        {
          "output_type": "execute_result",
          "data": {
            "text/plain": [
              "[{'generated_text': \"If you have read my previous writing, you know that I'm not going to read any of it. Not since I've read the books and have spent some time talking to these people. I know that if I was to say anything stupid...\"},\n",
              " {'generated_text': 'The Pink Queen?\\n\"I\\'ll go get two, sweetie.\" I smiled.\\n\"Just remember where you are right now, okay?\" He asked.\\nWhen I told her we were going to meet again she shrugged and shook her'},\n",
              " {'generated_text': '\\nAs always, I like to let everyone know that my AU is not my fault!\\n\"It\\'s nice to be a part of the family. It\\'s a huge privilege to be so close to everyone...\"\\n“You were just'},\n",
              " {'generated_text': 'What would you like to know more? (sighing) “I don’t get it.”\\n(sighs, turns to look at her) \"No, it wasn\\'t her fault...\"\\n\"Ah'},\n",
              " {'generated_text': '(stands up and leaves the room) “What?”\\nP0 just jumps out of the bathroom, grabs P1\\'s hand and walks out.\\n\"I\\'m not sure that\\'s fair, P0...\" She glared'}]"
            ]
          },
          "metadata": {
            "tags": []
          },
          "execution_count": 29
        }
      ]
    },
    {
      "cell_type": "markdown",
      "metadata": {
        "id": "YIlFj3Mco9e2"
      },
      "source": [
        "https://github.com/huggingface/transformers/issues/1407"
      ]
    },
    {
      "cell_type": "markdown",
      "metadata": {
        "id": "PMh_K2CR9W50"
      },
      "source": [
        "## b) Image test"
      ]
    },
    {
      "cell_type": "code",
      "metadata": {
        "id": "Wa-I63aK82Je"
      },
      "source": [
        "CONTRAST = 64\r\n",
        "BRIGHTNESS = 24\r\n",
        "def reconstruct_from(text, path, img_w=0, img_h=0):\r\n",
        "    lines = text.split(LINE_SPLIT_CHAR)\r\n",
        "    width = img_w if img_w else len( max(lines, key=len) )\r\n",
        "    height = img_h if img_h else len(lines)\r\n",
        "    pixels = []\r\n",
        "    for y in range(height):\r\n",
        "        for x in range(width):\r\n",
        "            pixels.append((0, 0, 0, 0))\r\n",
        "    for index, line in enumerate(lines):\r\n",
        "        line = line.split(PIXEL_SPLIT_CHAR) if PIXEL_SPLIT_CHAR  else line\r\n",
        "        for x in range(len(line) - 1):\r\n",
        "            s = line[x + 1]\r\n",
        "            try:\r\n",
        "                if s == '~': continue\r\n",
        "                r = g = b = 0\r\n",
        "                c = ord(s[0])-CHAR_CODE_SHIFT\r\n",
        "                b = (c & 3) * CONTRAST + BRIGHTNESS\r\n",
        "                c = c >> 2\r\n",
        "                g = (c & 3) * CONTRAST + BRIGHTNESS\r\n",
        "                c = c >> 2\r\n",
        "                r = (c & 3) * CONTRAST + BRIGHTNESS\r\n",
        "                i = (index*width) + x\r\n",
        "                pixels[i] = (r, g, b, 255)\r\n",
        "            except: \r\n",
        "                print('fuck')\r\n",
        "    image = Image.new('RGBA', (width, height))\r\n",
        "    image.putdata(pixels)\r\n",
        "    image.save(path)\r\n",
        "    return image\r\n",
        "# reconstruct_from(text_entries[-1], \"test.png\")"
      ],
      "execution_count": null,
      "outputs": []
    },
    {
      "cell_type": "code",
      "metadata": {
        "colab": {
          "base_uri": "https://localhost:8080/"
        },
        "id": "CzrrkLbvnes3",
        "outputId": "bda2a535-c944-4d3c-fa0f-065658b1fb2c"
      },
      "source": [
        "genner = generator(\"\", max_length=950, num_return_sequences=5)"
      ],
      "execution_count": null,
      "outputs": [
        {
          "output_type": "stream",
          "text": [
            "Setting `pad_token_id` to `eos_token_id`:50256 for open-end generation.\n"
          ],
          "name": "stderr"
        }
      ]
    },
    {
      "cell_type": "code",
      "metadata": {
        "id": "ks0_hahvQrcH"
      },
      "source": [
        "i = 4"
      ],
      "execution_count": null,
      "outputs": []
    },
    {
      "cell_type": "code",
      "metadata": {
        "id": "RPnJvEBqmrWp",
        "colab": {
          "base_uri": "https://localhost:8080/",
          "height": 52
        },
        "outputId": "802fc0e1-fa34-4da0-ed90-9ce72d0e6ad7"
      },
      "source": [
        "reconstruct_from(genner[i]['generated_text'].strip(), \"generated.png\")"
      ],
      "execution_count": null,
      "outputs": [
        {
          "output_type": "execute_result",
          "data": {
            "image/png": "[encoded data removed]",
            "text/plain": [
              "<PIL.Image.Image image mode=RGBA size=699x35 at 0x7FC8FBEF0A90>"
            ]
          },
          "metadata": {
            "tags": []
          },
          "execution_count": 33
        }
      ]
    },
    {
      "cell_type": "code",
      "metadata": {
        "colab": {
          "base_uri": "https://localhost:8080/",
          "height": 81
        },
        "id": "elyHJ0MKG_PG",
        "outputId": "7efbb0fc-a469-417c-e244-9d6438ff4d19"
      },
      "source": [
        "reconstruct_from(genner[i]['generated_text'].strip(), \"generated.png\", IMG_WIDTH, IMG_HEIGHT)"
      ],
      "execution_count": null,
      "outputs": [
        {
          "output_type": "execute_result",
          "data": {
            "image/png": "[encoded data removed]",
            "text/plain": [
              "<PIL.Image.Image image mode=RGBA size=64x64 at 0x7FC8FBEF0B00>"
            ]
          },
          "metadata": {
            "tags": []
          },
          "execution_count": 34
        }
      ]
    }
  ]
}