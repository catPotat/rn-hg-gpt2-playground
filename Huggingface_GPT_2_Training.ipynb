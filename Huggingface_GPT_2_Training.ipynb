{
  "nbformat": 4,
  "nbformat_minor": 0,
  "metadata": {
    "colab": {
      "name": "Huggingface GPT-2 Training.ipynb",
      "provenance": [],
      "collapsed_sections": [
        "lciJaxJNIaoi",
        "ViiwieQVIexq",
        "8DZg03KQ5D7y",
        "PMh_K2CR9W50"
      ],
      "toc_visible": true,
      "include_colab_link": true
    },
    "kernelspec": {
      "name": "python3",
      "display_name": "Python 3"
    },
    "accelerator": "GPU",
    "widgets": {
      "application/vnd.jupyter.widget-state+json": {
        "62ca0ee98b534a458bb60ac3a2fe0498": {
          "model_module": "@jupyter-widgets/controls",
          "model_name": "HBoxModel",
          "state": {
            "_view_name": "HBoxView",
            "_dom_classes": [],
            "_model_name": "HBoxModel",
            "_view_module": "@jupyter-widgets/controls",
            "_model_module_version": "1.5.0",
            "_view_count": null,
            "_view_module_version": "1.5.0",
            "box_style": "",
            "layout": "IPY_MODEL_756d5ea779994c5580f9f74e40d49ce1",
            "_model_module": "@jupyter-widgets/controls",
            "children": [
              "IPY_MODEL_4611205d3d974a9289a18e4c26bffda4",
              "IPY_MODEL_6b37c5ec70e44218b86fc9a834d10115"
            ]
          }
        },
        "756d5ea779994c5580f9f74e40d49ce1": {
          "model_module": "@jupyter-widgets/base",
          "model_name": "LayoutModel",
          "state": {
            "_view_name": "LayoutView",
            "grid_template_rows": null,
            "right": null,
            "justify_content": null,
            "_view_module": "@jupyter-widgets/base",
            "overflow": null,
            "_model_module_version": "1.2.0",
            "_view_count": null,
            "flex_flow": null,
            "width": null,
            "min_width": null,
            "border": null,
            "align_items": null,
            "bottom": null,
            "_model_module": "@jupyter-widgets/base",
            "top": null,
            "grid_column": null,
            "overflow_y": null,
            "overflow_x": null,
            "grid_auto_flow": null,
            "grid_area": null,
            "grid_template_columns": null,
            "flex": null,
            "_model_name": "LayoutModel",
            "justify_items": null,
            "grid_row": null,
            "max_height": null,
            "align_content": null,
            "visibility": null,
            "align_self": null,
            "height": null,
            "min_height": null,
            "padding": null,
            "grid_auto_rows": null,
            "grid_gap": null,
            "max_width": null,
            "order": null,
            "_view_module_version": "1.2.0",
            "grid_template_areas": null,
            "object_position": null,
            "object_fit": null,
            "grid_auto_columns": null,
            "margin": null,
            "display": null,
            "left": null
          }
        },
        "4611205d3d974a9289a18e4c26bffda4": {
          "model_module": "@jupyter-widgets/controls",
          "model_name": "FloatProgressModel",
          "state": {
            "_view_name": "ProgressView",
            "style": "IPY_MODEL_53070c1dfefa4610a2ce9ed9244e9112",
            "_dom_classes": [],
            "description": "Downloading: 100%",
            "_model_name": "FloatProgressModel",
            "bar_style": "success",
            "max": 718,
            "_view_module": "@jupyter-widgets/controls",
            "_model_module_version": "1.5.0",
            "value": 718,
            "_view_count": null,
            "_view_module_version": "1.5.0",
            "orientation": "horizontal",
            "min": 0,
            "description_tooltip": null,
            "_model_module": "@jupyter-widgets/controls",
            "layout": "IPY_MODEL_158a36014e374dbfb100205bbe89f73a"
          }
        },
        "6b37c5ec70e44218b86fc9a834d10115": {
          "model_module": "@jupyter-widgets/controls",
          "model_name": "HTMLModel",
          "state": {
            "_view_name": "HTMLView",
            "style": "IPY_MODEL_e9a844bcaf3c4fd5b9d4dc7fff5e2b73",
            "_dom_classes": [],
            "description": "",
            "_model_name": "HTMLModel",
            "placeholder": "​",
            "_view_module": "@jupyter-widgets/controls",
            "_model_module_version": "1.5.0",
            "value": " 718/718 [00:03&lt;00:00, 209B/s]",
            "_view_count": null,
            "_view_module_version": "1.5.0",
            "description_tooltip": null,
            "_model_module": "@jupyter-widgets/controls",
            "layout": "IPY_MODEL_66872d67bf4f4f7ca9fd4eb3f8d16664"
          }
        },
        "53070c1dfefa4610a2ce9ed9244e9112": {
          "model_module": "@jupyter-widgets/controls",
          "model_name": "ProgressStyleModel",
          "state": {
            "_view_name": "StyleView",
            "_model_name": "ProgressStyleModel",
            "description_width": "initial",
            "_view_module": "@jupyter-widgets/base",
            "_model_module_version": "1.5.0",
            "_view_count": null,
            "_view_module_version": "1.2.0",
            "bar_color": null,
            "_model_module": "@jupyter-widgets/controls"
          }
        },
        "158a36014e374dbfb100205bbe89f73a": {
          "model_module": "@jupyter-widgets/base",
          "model_name": "LayoutModel",
          "state": {
            "_view_name": "LayoutView",
            "grid_template_rows": null,
            "right": null,
            "justify_content": null,
            "_view_module": "@jupyter-widgets/base",
            "overflow": null,
            "_model_module_version": "1.2.0",
            "_view_count": null,
            "flex_flow": null,
            "width": null,
            "min_width": null,
            "border": null,
            "align_items": null,
            "bottom": null,
            "_model_module": "@jupyter-widgets/base",
            "top": null,
            "grid_column": null,
            "overflow_y": null,
            "overflow_x": null,
            "grid_auto_flow": null,
            "grid_area": null,
            "grid_template_columns": null,
            "flex": null,
            "_model_name": "LayoutModel",
            "justify_items": null,
            "grid_row": null,
            "max_height": null,
            "align_content": null,
            "visibility": null,
            "align_self": null,
            "height": null,
            "min_height": null,
            "padding": null,
            "grid_auto_rows": null,
            "grid_gap": null,
            "max_width": null,
            "order": null,
            "_view_module_version": "1.2.0",
            "grid_template_areas": null,
            "object_position": null,
            "object_fit": null,
            "grid_auto_columns": null,
            "margin": null,
            "display": null,
            "left": null
          }
        },
        "e9a844bcaf3c4fd5b9d4dc7fff5e2b73": {
          "model_module": "@jupyter-widgets/controls",
          "model_name": "DescriptionStyleModel",
          "state": {
            "_view_name": "StyleView",
            "_model_name": "DescriptionStyleModel",
            "description_width": "",
            "_view_module": "@jupyter-widgets/base",
            "_model_module_version": "1.5.0",
            "_view_count": null,
            "_view_module_version": "1.2.0",
            "_model_module": "@jupyter-widgets/controls"
          }
        },
        "66872d67bf4f4f7ca9fd4eb3f8d16664": {
          "model_module": "@jupyter-widgets/base",
          "model_name": "LayoutModel",
          "state": {
            "_view_name": "LayoutView",
            "grid_template_rows": null,
            "right": null,
            "justify_content": null,
            "_view_module": "@jupyter-widgets/base",
            "overflow": null,
            "_model_module_version": "1.2.0",
            "_view_count": null,
            "flex_flow": null,
            "width": null,
            "min_width": null,
            "border": null,
            "align_items": null,
            "bottom": null,
            "_model_module": "@jupyter-widgets/base",
            "top": null,
            "grid_column": null,
            "overflow_y": null,
            "overflow_x": null,
            "grid_auto_flow": null,
            "grid_area": null,
            "grid_template_columns": null,
            "flex": null,
            "_model_name": "LayoutModel",
            "justify_items": null,
            "grid_row": null,
            "max_height": null,
            "align_content": null,
            "visibility": null,
            "align_self": null,
            "height": null,
            "min_height": null,
            "padding": null,
            "grid_auto_rows": null,
            "grid_gap": null,
            "max_width": null,
            "order": null,
            "_view_module_version": "1.2.0",
            "grid_template_areas": null,
            "object_position": null,
            "object_fit": null,
            "grid_auto_columns": null,
            "margin": null,
            "display": null,
            "left": null
          }
        },
        "b56f4ab3b2a54385a22681b0a9932a53": {
          "model_module": "@jupyter-widgets/controls",
          "model_name": "HBoxModel",
          "state": {
            "_view_name": "HBoxView",
            "_dom_classes": [],
            "_model_name": "HBoxModel",
            "_view_module": "@jupyter-widgets/controls",
            "_model_module_version": "1.5.0",
            "_view_count": null,
            "_view_module_version": "1.5.0",
            "box_style": "",
            "layout": "IPY_MODEL_37052b2c32044216ba1d67d6a8f561b9",
            "_model_module": "@jupyter-widgets/controls",
            "children": [
              "IPY_MODEL_f8d9c494f6724fd49186648ce800cf5a",
              "IPY_MODEL_b1473f64f5754d1ab4773228fb8185f5"
            ]
          }
        },
        "37052b2c32044216ba1d67d6a8f561b9": {
          "model_module": "@jupyter-widgets/base",
          "model_name": "LayoutModel",
          "state": {
            "_view_name": "LayoutView",
            "grid_template_rows": null,
            "right": null,
            "justify_content": null,
            "_view_module": "@jupyter-widgets/base",
            "overflow": null,
            "_model_module_version": "1.2.0",
            "_view_count": null,
            "flex_flow": null,
            "width": null,
            "min_width": null,
            "border": null,
            "align_items": null,
            "bottom": null,
            "_model_module": "@jupyter-widgets/base",
            "top": null,
            "grid_column": null,
            "overflow_y": null,
            "overflow_x": null,
            "grid_auto_flow": null,
            "grid_area": null,
            "grid_template_columns": null,
            "flex": null,
            "_model_name": "LayoutModel",
            "justify_items": null,
            "grid_row": null,
            "max_height": null,
            "align_content": null,
            "visibility": null,
            "align_self": null,
            "height": null,
            "min_height": null,
            "padding": null,
            "grid_auto_rows": null,
            "grid_gap": null,
            "max_width": null,
            "order": null,
            "_view_module_version": "1.2.0",
            "grid_template_areas": null,
            "object_position": null,
            "object_fit": null,
            "grid_auto_columns": null,
            "margin": null,
            "display": null,
            "left": null
          }
        },
        "f8d9c494f6724fd49186648ce800cf5a": {
          "model_module": "@jupyter-widgets/controls",
          "model_name": "FloatProgressModel",
          "state": {
            "_view_name": "ProgressView",
            "style": "IPY_MODEL_733e0b1433e64947986b9bae9a47bcd5",
            "_dom_classes": [],
            "description": "Downloading: 100%",
            "_model_name": "FloatProgressModel",
            "bar_style": "success",
            "max": 1042301,
            "_view_module": "@jupyter-widgets/controls",
            "_model_module_version": "1.5.0",
            "value": 1042301,
            "_view_count": null,
            "_view_module_version": "1.5.0",
            "orientation": "horizontal",
            "min": 0,
            "description_tooltip": null,
            "_model_module": "@jupyter-widgets/controls",
            "layout": "IPY_MODEL_1947478f2c4840ce91d9321a3b8a476c"
          }
        },
        "b1473f64f5754d1ab4773228fb8185f5": {
          "model_module": "@jupyter-widgets/controls",
          "model_name": "HTMLModel",
          "state": {
            "_view_name": "HTMLView",
            "style": "IPY_MODEL_740296e76015402585e78a05ff536ff9",
            "_dom_classes": [],
            "description": "",
            "_model_name": "HTMLModel",
            "placeholder": "​",
            "_view_module": "@jupyter-widgets/controls",
            "_model_module_version": "1.5.0",
            "value": " 1.04M/1.04M [00:00&lt;00:00, 1.25MB/s]",
            "_view_count": null,
            "_view_module_version": "1.5.0",
            "description_tooltip": null,
            "_model_module": "@jupyter-widgets/controls",
            "layout": "IPY_MODEL_0395ca9a85bd43fca08d6715b0e95904"
          }
        },
        "733e0b1433e64947986b9bae9a47bcd5": {
          "model_module": "@jupyter-widgets/controls",
          "model_name": "ProgressStyleModel",
          "state": {
            "_view_name": "StyleView",
            "_model_name": "ProgressStyleModel",
            "description_width": "initial",
            "_view_module": "@jupyter-widgets/base",
            "_model_module_version": "1.5.0",
            "_view_count": null,
            "_view_module_version": "1.2.0",
            "bar_color": null,
            "_model_module": "@jupyter-widgets/controls"
          }
        },
        "1947478f2c4840ce91d9321a3b8a476c": {
          "model_module": "@jupyter-widgets/base",
          "model_name": "LayoutModel",
          "state": {
            "_view_name": "LayoutView",
            "grid_template_rows": null,
            "right": null,
            "justify_content": null,
            "_view_module": "@jupyter-widgets/base",
            "overflow": null,
            "_model_module_version": "1.2.0",
            "_view_count": null,
            "flex_flow": null,
            "width": null,
            "min_width": null,
            "border": null,
            "align_items": null,
            "bottom": null,
            "_model_module": "@jupyter-widgets/base",
            "top": null,
            "grid_column": null,
            "overflow_y": null,
            "overflow_x": null,
            "grid_auto_flow": null,
            "grid_area": null,
            "grid_template_columns": null,
            "flex": null,
            "_model_name": "LayoutModel",
            "justify_items": null,
            "grid_row": null,
            "max_height": null,
            "align_content": null,
            "visibility": null,
            "align_self": null,
            "height": null,
            "min_height": null,
            "padding": null,
            "grid_auto_rows": null,
            "grid_gap": null,
            "max_width": null,
            "order": null,
            "_view_module_version": "1.2.0",
            "grid_template_areas": null,
            "object_position": null,
            "object_fit": null,
            "grid_auto_columns": null,
            "margin": null,
            "display": null,
            "left": null
          }
        },
        "740296e76015402585e78a05ff536ff9": {
          "model_module": "@jupyter-widgets/controls",
          "model_name": "DescriptionStyleModel",
          "state": {
            "_view_name": "StyleView",
            "_model_name": "DescriptionStyleModel",
            "description_width": "",
            "_view_module": "@jupyter-widgets/base",
            "_model_module_version": "1.5.0",
            "_view_count": null,
            "_view_module_version": "1.2.0",
            "_model_module": "@jupyter-widgets/controls"
          }
        },
        "0395ca9a85bd43fca08d6715b0e95904": {
          "model_module": "@jupyter-widgets/base",
          "model_name": "LayoutModel",
          "state": {
            "_view_name": "LayoutView",
            "grid_template_rows": null,
            "right": null,
            "justify_content": null,
            "_view_module": "@jupyter-widgets/base",
            "overflow": null,
            "_model_module_version": "1.2.0",
            "_view_count": null,
            "flex_flow": null,
            "width": null,
            "min_width": null,
            "border": null,
            "align_items": null,
            "bottom": null,
            "_model_module": "@jupyter-widgets/base",
            "top": null,
            "grid_column": null,
            "overflow_y": null,
            "overflow_x": null,
            "grid_auto_flow": null,
            "grid_area": null,
            "grid_template_columns": null,
            "flex": null,
            "_model_name": "LayoutModel",
            "justify_items": null,
            "grid_row": null,
            "max_height": null,
            "align_content": null,
            "visibility": null,
            "align_self": null,
            "height": null,
            "min_height": null,
            "padding": null,
            "grid_auto_rows": null,
            "grid_gap": null,
            "max_width": null,
            "order": null,
            "_view_module_version": "1.2.0",
            "grid_template_areas": null,
            "object_position": null,
            "object_fit": null,
            "grid_auto_columns": null,
            "margin": null,
            "display": null,
            "left": null
          }
        },
        "60d322bbf0a04cb995449e2317482e8f": {
          "model_module": "@jupyter-widgets/controls",
          "model_name": "HBoxModel",
          "state": {
            "_view_name": "HBoxView",
            "_dom_classes": [],
            "_model_name": "HBoxModel",
            "_view_module": "@jupyter-widgets/controls",
            "_model_module_version": "1.5.0",
            "_view_count": null,
            "_view_module_version": "1.5.0",
            "box_style": "",
            "layout": "IPY_MODEL_898f6d05ac234cbdbdd13976f97d0726",
            "_model_module": "@jupyter-widgets/controls",
            "children": [
              "IPY_MODEL_247e163c6be84930afce88a73352c3d0",
              "IPY_MODEL_9d256a0679a8474aa484f3cabdf642c2"
            ]
          }
        },
        "898f6d05ac234cbdbdd13976f97d0726": {
          "model_module": "@jupyter-widgets/base",
          "model_name": "LayoutModel",
          "state": {
            "_view_name": "LayoutView",
            "grid_template_rows": null,
            "right": null,
            "justify_content": null,
            "_view_module": "@jupyter-widgets/base",
            "overflow": null,
            "_model_module_version": "1.2.0",
            "_view_count": null,
            "flex_flow": null,
            "width": null,
            "min_width": null,
            "border": null,
            "align_items": null,
            "bottom": null,
            "_model_module": "@jupyter-widgets/base",
            "top": null,
            "grid_column": null,
            "overflow_y": null,
            "overflow_x": null,
            "grid_auto_flow": null,
            "grid_area": null,
            "grid_template_columns": null,
            "flex": null,
            "_model_name": "LayoutModel",
            "justify_items": null,
            "grid_row": null,
            "max_height": null,
            "align_content": null,
            "visibility": null,
            "align_self": null,
            "height": null,
            "min_height": null,
            "padding": null,
            "grid_auto_rows": null,
            "grid_gap": null,
            "max_width": null,
            "order": null,
            "_view_module_version": "1.2.0",
            "grid_template_areas": null,
            "object_position": null,
            "object_fit": null,
            "grid_auto_columns": null,
            "margin": null,
            "display": null,
            "left": null
          }
        },
        "247e163c6be84930afce88a73352c3d0": {
          "model_module": "@jupyter-widgets/controls",
          "model_name": "FloatProgressModel",
          "state": {
            "_view_name": "ProgressView",
            "style": "IPY_MODEL_494f0d5582824415bb8967a0424a88db",
            "_dom_classes": [],
            "description": "Downloading: 100%",
            "_model_name": "FloatProgressModel",
            "bar_style": "success",
            "max": 456318,
            "_view_module": "@jupyter-widgets/controls",
            "_model_module_version": "1.5.0",
            "value": 456318,
            "_view_count": null,
            "_view_module_version": "1.5.0",
            "orientation": "horizontal",
            "min": 0,
            "description_tooltip": null,
            "_model_module": "@jupyter-widgets/controls",
            "layout": "IPY_MODEL_aaf8e0863a544809afc7402367e9e6b2"
          }
        },
        "9d256a0679a8474aa484f3cabdf642c2": {
          "model_module": "@jupyter-widgets/controls",
          "model_name": "HTMLModel",
          "state": {
            "_view_name": "HTMLView",
            "style": "IPY_MODEL_78443032d09746439a2105959782f1ca",
            "_dom_classes": [],
            "description": "",
            "_model_name": "HTMLModel",
            "placeholder": "​",
            "_view_module": "@jupyter-widgets/controls",
            "_model_module_version": "1.5.0",
            "value": " 456k/456k [00:02&lt;00:00, 211kB/s]",
            "_view_count": null,
            "_view_module_version": "1.5.0",
            "description_tooltip": null,
            "_model_module": "@jupyter-widgets/controls",
            "layout": "IPY_MODEL_98851f8a223d46bcbae07babfd2f9947"
          }
        },
        "494f0d5582824415bb8967a0424a88db": {
          "model_module": "@jupyter-widgets/controls",
          "model_name": "ProgressStyleModel",
          "state": {
            "_view_name": "StyleView",
            "_model_name": "ProgressStyleModel",
            "description_width": "initial",
            "_view_module": "@jupyter-widgets/base",
            "_model_module_version": "1.5.0",
            "_view_count": null,
            "_view_module_version": "1.2.0",
            "bar_color": null,
            "_model_module": "@jupyter-widgets/controls"
          }
        },
        "aaf8e0863a544809afc7402367e9e6b2": {
          "model_module": "@jupyter-widgets/base",
          "model_name": "LayoutModel",
          "state": {
            "_view_name": "LayoutView",
            "grid_template_rows": null,
            "right": null,
            "justify_content": null,
            "_view_module": "@jupyter-widgets/base",
            "overflow": null,
            "_model_module_version": "1.2.0",
            "_view_count": null,
            "flex_flow": null,
            "width": null,
            "min_width": null,
            "border": null,
            "align_items": null,
            "bottom": null,
            "_model_module": "@jupyter-widgets/base",
            "top": null,
            "grid_column": null,
            "overflow_y": null,
            "overflow_x": null,
            "grid_auto_flow": null,
            "grid_area": null,
            "grid_template_columns": null,
            "flex": null,
            "_model_name": "LayoutModel",
            "justify_items": null,
            "grid_row": null,
            "max_height": null,
            "align_content": null,
            "visibility": null,
            "align_self": null,
            "height": null,
            "min_height": null,
            "padding": null,
            "grid_auto_rows": null,
            "grid_gap": null,
            "max_width": null,
            "order": null,
            "_view_module_version": "1.2.0",
            "grid_template_areas": null,
            "object_position": null,
            "object_fit": null,
            "grid_auto_columns": null,
            "margin": null,
            "display": null,
            "left": null
          }
        },
        "78443032d09746439a2105959782f1ca": {
          "model_module": "@jupyter-widgets/controls",
          "model_name": "DescriptionStyleModel",
          "state": {
            "_view_name": "StyleView",
            "_model_name": "DescriptionStyleModel",
            "description_width": "",
            "_view_module": "@jupyter-widgets/base",
            "_model_module_version": "1.5.0",
            "_view_count": null,
            "_view_module_version": "1.2.0",
            "_model_module": "@jupyter-widgets/controls"
          }
        },
        "98851f8a223d46bcbae07babfd2f9947": {
          "model_module": "@jupyter-widgets/base",
          "model_name": "LayoutModel",
          "state": {
            "_view_name": "LayoutView",
            "grid_template_rows": null,
            "right": null,
            "justify_content": null,
            "_view_module": "@jupyter-widgets/base",
            "overflow": null,
            "_model_module_version": "1.2.0",
            "_view_count": null,
            "flex_flow": null,
            "width": null,
            "min_width": null,
            "border": null,
            "align_items": null,
            "bottom": null,
            "_model_module": "@jupyter-widgets/base",
            "top": null,
            "grid_column": null,
            "overflow_y": null,
            "overflow_x": null,
            "grid_auto_flow": null,
            "grid_area": null,
            "grid_template_columns": null,
            "flex": null,
            "_model_name": "LayoutModel",
            "justify_items": null,
            "grid_row": null,
            "max_height": null,
            "align_content": null,
            "visibility": null,
            "align_self": null,
            "height": null,
            "min_height": null,
            "padding": null,
            "grid_auto_rows": null,
            "grid_gap": null,
            "max_width": null,
            "order": null,
            "_view_module_version": "1.2.0",
            "grid_template_areas": null,
            "object_position": null,
            "object_fit": null,
            "grid_auto_columns": null,
            "margin": null,
            "display": null,
            "left": null
          }
        },
        "68e7a6dae3cb43e8924066328b29f6da": {
          "model_module": "@jupyter-widgets/controls",
          "model_name": "HBoxModel",
          "state": {
            "_view_name": "HBoxView",
            "_dom_classes": [],
            "_model_name": "HBoxModel",
            "_view_module": "@jupyter-widgets/controls",
            "_model_module_version": "1.5.0",
            "_view_count": null,
            "_view_module_version": "1.5.0",
            "box_style": "",
            "layout": "IPY_MODEL_aaf821e1237740c4995685eb7bde5e38",
            "_model_module": "@jupyter-widgets/controls",
            "children": [
              "IPY_MODEL_80c7ce3513fb445e836b2756eece6591",
              "IPY_MODEL_a42e2ad61aa147ecbcbddf59a2433455"
            ]
          }
        },
        "aaf821e1237740c4995685eb7bde5e38": {
          "model_module": "@jupyter-widgets/base",
          "model_name": "LayoutModel",
          "state": {
            "_view_name": "LayoutView",
            "grid_template_rows": null,
            "right": null,
            "justify_content": null,
            "_view_module": "@jupyter-widgets/base",
            "overflow": null,
            "_model_module_version": "1.2.0",
            "_view_count": null,
            "flex_flow": null,
            "width": null,
            "min_width": null,
            "border": null,
            "align_items": null,
            "bottom": null,
            "_model_module": "@jupyter-widgets/base",
            "top": null,
            "grid_column": null,
            "overflow_y": null,
            "overflow_x": null,
            "grid_auto_flow": null,
            "grid_area": null,
            "grid_template_columns": null,
            "flex": null,
            "_model_name": "LayoutModel",
            "justify_items": null,
            "grid_row": null,
            "max_height": null,
            "align_content": null,
            "visibility": null,
            "align_self": null,
            "height": null,
            "min_height": null,
            "padding": null,
            "grid_auto_rows": null,
            "grid_gap": null,
            "max_width": null,
            "order": null,
            "_view_module_version": "1.2.0",
            "grid_template_areas": null,
            "object_position": null,
            "object_fit": null,
            "grid_auto_columns": null,
            "margin": null,
            "display": null,
            "left": null
          }
        },
        "80c7ce3513fb445e836b2756eece6591": {
          "model_module": "@jupyter-widgets/controls",
          "model_name": "FloatProgressModel",
          "state": {
            "_view_name": "ProgressView",
            "style": "IPY_MODEL_fb6966f132fb4c73bd89a8472f2ce10d",
            "_dom_classes": [],
            "description": "Downloading: 100%",
            "_model_name": "FloatProgressModel",
            "bar_style": "success",
            "max": 1355256,
            "_view_module": "@jupyter-widgets/controls",
            "_model_module_version": "1.5.0",
            "value": 1355256,
            "_view_count": null,
            "_view_module_version": "1.5.0",
            "orientation": "horizontal",
            "min": 0,
            "description_tooltip": null,
            "_model_module": "@jupyter-widgets/controls",
            "layout": "IPY_MODEL_b5fdce1a2ec44ad38bc43b2dea3b4e2e"
          }
        },
        "a42e2ad61aa147ecbcbddf59a2433455": {
          "model_module": "@jupyter-widgets/controls",
          "model_name": "HTMLModel",
          "state": {
            "_view_name": "HTMLView",
            "style": "IPY_MODEL_e565e67a2d7f45f1a5ff4e1c44a0a103",
            "_dom_classes": [],
            "description": "",
            "_model_name": "HTMLModel",
            "placeholder": "​",
            "_view_module": "@jupyter-widgets/controls",
            "_model_module_version": "1.5.0",
            "value": " 1.36M/1.36M [00:01&lt;00:00, 957kB/s]",
            "_view_count": null,
            "_view_module_version": "1.5.0",
            "description_tooltip": null,
            "_model_module": "@jupyter-widgets/controls",
            "layout": "IPY_MODEL_2d26bfdcf73a47daa8e77fd90bb0edea"
          }
        },
        "fb6966f132fb4c73bd89a8472f2ce10d": {
          "model_module": "@jupyter-widgets/controls",
          "model_name": "ProgressStyleModel",
          "state": {
            "_view_name": "StyleView",
            "_model_name": "ProgressStyleModel",
            "description_width": "initial",
            "_view_module": "@jupyter-widgets/base",
            "_model_module_version": "1.5.0",
            "_view_count": null,
            "_view_module_version": "1.2.0",
            "bar_color": null,
            "_model_module": "@jupyter-widgets/controls"
          }
        },
        "b5fdce1a2ec44ad38bc43b2dea3b4e2e": {
          "model_module": "@jupyter-widgets/base",
          "model_name": "LayoutModel",
          "state": {
            "_view_name": "LayoutView",
            "grid_template_rows": null,
            "right": null,
            "justify_content": null,
            "_view_module": "@jupyter-widgets/base",
            "overflow": null,
            "_model_module_version": "1.2.0",
            "_view_count": null,
            "flex_flow": null,
            "width": null,
            "min_width": null,
            "border": null,
            "align_items": null,
            "bottom": null,
            "_model_module": "@jupyter-widgets/base",
            "top": null,
            "grid_column": null,
            "overflow_y": null,
            "overflow_x": null,
            "grid_auto_flow": null,
            "grid_area": null,
            "grid_template_columns": null,
            "flex": null,
            "_model_name": "LayoutModel",
            "justify_items": null,
            "grid_row": null,
            "max_height": null,
            "align_content": null,
            "visibility": null,
            "align_self": null,
            "height": null,
            "min_height": null,
            "padding": null,
            "grid_auto_rows": null,
            "grid_gap": null,
            "max_width": null,
            "order": null,
            "_view_module_version": "1.2.0",
            "grid_template_areas": null,
            "object_position": null,
            "object_fit": null,
            "grid_auto_columns": null,
            "margin": null,
            "display": null,
            "left": null
          }
        },
        "e565e67a2d7f45f1a5ff4e1c44a0a103": {
          "model_module": "@jupyter-widgets/controls",
          "model_name": "DescriptionStyleModel",
          "state": {
            "_view_name": "StyleView",
            "_model_name": "DescriptionStyleModel",
            "description_width": "",
            "_view_module": "@jupyter-widgets/base",
            "_model_module_version": "1.5.0",
            "_view_count": null,
            "_view_module_version": "1.2.0",
            "_model_module": "@jupyter-widgets/controls"
          }
        },
        "2d26bfdcf73a47daa8e77fd90bb0edea": {
          "model_module": "@jupyter-widgets/base",
          "model_name": "LayoutModel",
          "state": {
            "_view_name": "LayoutView",
            "grid_template_rows": null,
            "right": null,
            "justify_content": null,
            "_view_module": "@jupyter-widgets/base",
            "overflow": null,
            "_model_module_version": "1.2.0",
            "_view_count": null,
            "flex_flow": null,
            "width": null,
            "min_width": null,
            "border": null,
            "align_items": null,
            "bottom": null,
            "_model_module": "@jupyter-widgets/base",
            "top": null,
            "grid_column": null,
            "overflow_y": null,
            "overflow_x": null,
            "grid_auto_flow": null,
            "grid_area": null,
            "grid_template_columns": null,
            "flex": null,
            "_model_name": "LayoutModel",
            "justify_items": null,
            "grid_row": null,
            "max_height": null,
            "align_content": null,
            "visibility": null,
            "align_self": null,
            "height": null,
            "min_height": null,
            "padding": null,
            "grid_auto_rows": null,
            "grid_gap": null,
            "max_width": null,
            "order": null,
            "_view_module_version": "1.2.0",
            "grid_template_areas": null,
            "object_position": null,
            "object_fit": null,
            "grid_auto_columns": null,
            "margin": null,
            "display": null,
            "left": null
          }
        },
        "c463421eb697484e8bf2ccd70a795625": {
          "model_module": "@jupyter-widgets/controls",
          "model_name": "HBoxModel",
          "state": {
            "_view_name": "HBoxView",
            "_dom_classes": [],
            "_model_name": "HBoxModel",
            "_view_module": "@jupyter-widgets/controls",
            "_model_module_version": "1.5.0",
            "_view_count": null,
            "_view_module_version": "1.5.0",
            "box_style": "",
            "layout": "IPY_MODEL_470979f300ab4a249743554afc48b80e",
            "_model_module": "@jupyter-widgets/controls",
            "children": [
              "IPY_MODEL_e0d26d640e5d4ba1a11e4505b0339069",
              "IPY_MODEL_6b7e8de588634fd78904846e2ed27114"
            ]
          }
        },
        "470979f300ab4a249743554afc48b80e": {
          "model_module": "@jupyter-widgets/base",
          "model_name": "LayoutModel",
          "state": {
            "_view_name": "LayoutView",
            "grid_template_rows": null,
            "right": null,
            "justify_content": null,
            "_view_module": "@jupyter-widgets/base",
            "overflow": null,
            "_model_module_version": "1.2.0",
            "_view_count": null,
            "flex_flow": null,
            "width": null,
            "min_width": null,
            "border": null,
            "align_items": null,
            "bottom": null,
            "_model_module": "@jupyter-widgets/base",
            "top": null,
            "grid_column": null,
            "overflow_y": null,
            "overflow_x": null,
            "grid_auto_flow": null,
            "grid_area": null,
            "grid_template_columns": null,
            "flex": null,
            "_model_name": "LayoutModel",
            "justify_items": null,
            "grid_row": null,
            "max_height": null,
            "align_content": null,
            "visibility": null,
            "align_self": null,
            "height": null,
            "min_height": null,
            "padding": null,
            "grid_auto_rows": null,
            "grid_gap": null,
            "max_width": null,
            "order": null,
            "_view_module_version": "1.2.0",
            "grid_template_areas": null,
            "object_position": null,
            "object_fit": null,
            "grid_auto_columns": null,
            "margin": null,
            "display": null,
            "left": null
          }
        },
        "e0d26d640e5d4ba1a11e4505b0339069": {
          "model_module": "@jupyter-widgets/controls",
          "model_name": "FloatProgressModel",
          "state": {
            "_view_name": "ProgressView",
            "style": "IPY_MODEL_d188a9b8087e4d7297e0486e3c0d3246",
            "_dom_classes": [],
            "description": "Downloading: 100%",
            "_model_name": "FloatProgressModel",
            "bar_style": "success",
            "max": 1520013706,
            "_view_module": "@jupyter-widgets/controls",
            "_model_module_version": "1.5.0",
            "value": 1520013706,
            "_view_count": null,
            "_view_module_version": "1.5.0",
            "orientation": "horizontal",
            "min": 0,
            "description_tooltip": null,
            "_model_module": "@jupyter-widgets/controls",
            "layout": "IPY_MODEL_968ed08e75df45dd9fe013406488d4a2"
          }
        },
        "6b7e8de588634fd78904846e2ed27114": {
          "model_module": "@jupyter-widgets/controls",
          "model_name": "HTMLModel",
          "state": {
            "_view_name": "HTMLView",
            "style": "IPY_MODEL_76492d03eb5e4c42851dde2b9c34a0eb",
            "_dom_classes": [],
            "description": "",
            "_model_name": "HTMLModel",
            "placeholder": "​",
            "_view_module": "@jupyter-widgets/controls",
            "_model_module_version": "1.5.0",
            "value": " 1.52G/1.52G [00:35&lt;00:00, 42.8MB/s]",
            "_view_count": null,
            "_view_module_version": "1.5.0",
            "description_tooltip": null,
            "_model_module": "@jupyter-widgets/controls",
            "layout": "IPY_MODEL_0ef4021fb7ed4c14900642a0c6eef135"
          }
        },
        "d188a9b8087e4d7297e0486e3c0d3246": {
          "model_module": "@jupyter-widgets/controls",
          "model_name": "ProgressStyleModel",
          "state": {
            "_view_name": "StyleView",
            "_model_name": "ProgressStyleModel",
            "description_width": "initial",
            "_view_module": "@jupyter-widgets/base",
            "_model_module_version": "1.5.0",
            "_view_count": null,
            "_view_module_version": "1.2.0",
            "bar_color": null,
            "_model_module": "@jupyter-widgets/controls"
          }
        },
        "968ed08e75df45dd9fe013406488d4a2": {
          "model_module": "@jupyter-widgets/base",
          "model_name": "LayoutModel",
          "state": {
            "_view_name": "LayoutView",
            "grid_template_rows": null,
            "right": null,
            "justify_content": null,
            "_view_module": "@jupyter-widgets/base",
            "overflow": null,
            "_model_module_version": "1.2.0",
            "_view_count": null,
            "flex_flow": null,
            "width": null,
            "min_width": null,
            "border": null,
            "align_items": null,
            "bottom": null,
            "_model_module": "@jupyter-widgets/base",
            "top": null,
            "grid_column": null,
            "overflow_y": null,
            "overflow_x": null,
            "grid_auto_flow": null,
            "grid_area": null,
            "grid_template_columns": null,
            "flex": null,
            "_model_name": "LayoutModel",
            "justify_items": null,
            "grid_row": null,
            "max_height": null,
            "align_content": null,
            "visibility": null,
            "align_self": null,
            "height": null,
            "min_height": null,
            "padding": null,
            "grid_auto_rows": null,
            "grid_gap": null,
            "max_width": null,
            "order": null,
            "_view_module_version": "1.2.0",
            "grid_template_areas": null,
            "object_position": null,
            "object_fit": null,
            "grid_auto_columns": null,
            "margin": null,
            "display": null,
            "left": null
          }
        },
        "76492d03eb5e4c42851dde2b9c34a0eb": {
          "model_module": "@jupyter-widgets/controls",
          "model_name": "DescriptionStyleModel",
          "state": {
            "_view_name": "StyleView",
            "_model_name": "DescriptionStyleModel",
            "description_width": "",
            "_view_module": "@jupyter-widgets/base",
            "_model_module_version": "1.5.0",
            "_view_count": null,
            "_view_module_version": "1.2.0",
            "_model_module": "@jupyter-widgets/controls"
          }
        },
        "0ef4021fb7ed4c14900642a0c6eef135": {
          "model_module": "@jupyter-widgets/base",
          "model_name": "LayoutModel",
          "state": {
            "_view_name": "LayoutView",
            "grid_template_rows": null,
            "right": null,
            "justify_content": null,
            "_view_module": "@jupyter-widgets/base",
            "overflow": null,
            "_model_module_version": "1.2.0",
            "_view_count": null,
            "flex_flow": null,
            "width": null,
            "min_width": null,
            "border": null,
            "align_items": null,
            "bottom": null,
            "_model_module": "@jupyter-widgets/base",
            "top": null,
            "grid_column": null,
            "overflow_y": null,
            "overflow_x": null,
            "grid_auto_flow": null,
            "grid_area": null,
            "grid_template_columns": null,
            "flex": null,
            "_model_name": "LayoutModel",
            "justify_items": null,
            "grid_row": null,
            "max_height": null,
            "align_content": null,
            "visibility": null,
            "align_self": null,
            "height": null,
            "min_height": null,
            "padding": null,
            "grid_auto_rows": null,
            "grid_gap": null,
            "max_width": null,
            "order": null,
            "_view_module_version": "1.2.0",
            "grid_template_areas": null,
            "object_position": null,
            "object_fit": null,
            "grid_auto_columns": null,
            "margin": null,
            "display": null,
            "left": null
          }
        }
      }
    }
  },
  "cells": [
    {
      "cell_type": "markdown",
      "metadata": {
        "id": "view-in-github",
        "colab_type": "text"
      },
      "source": [
        "<a href=\"https://colab.research.google.com/github/catPotat/rn-hg-gpt2-playground/blob/main/Huggingface_GPT_2_Training.ipynb\" target=\"_parent\"><img src=\"https://colab.research.google.com/assets/colab-badge.svg\" alt=\"Open In Colab\"/></a>"
      ]
    },
    {
      "cell_type": "markdown",
      "metadata": {
        "id": "UMFuI8iDA_TP"
      },
      "source": [
        "# About\r\n",
        "\r\n",
        "Author: *N H Long*\r\n",
        "\r\n",
        "This notebook is all about experimenting GPT-2's ability to generate.\r\n",
        "\r\n",
        "This notebook is dedicated to the SS2 class I'm taking now.\r\n",
        "\r\n",
        "The dateline for a published research is in May (more info later).\r\n",
        "\r\n",
        "<br>\r\n",
        "\r\n",
        "---\r\n",
        "\r\n",
        "<br>\r\n",
        "<img src=\"https://i.redd.it/j586af7nxvu41.jpg\" alt=\"Watching a train model\" height=300>"
      ]
    },
    {
      "cell_type": "markdown",
      "metadata": {
        "id": "zAlKPi0tc1WK"
      },
      "source": [
        "# 🏁 Initialize"
      ]
    },
    {
      "cell_type": "code",
      "metadata": {
        "colab": {
          "base_uri": "https://localhost:8080/"
        },
        "id": "3N-ZDaxkWa2V",
        "outputId": "21df5a00-0c1e-4bde-c254-d17aa589d97a"
      },
      "source": [
        "!nvidia-smi\r\n",
        "import torch\r\n",
        "torch.cuda.is_available()"
      ],
      "execution_count": 1,
      "outputs": [
        {
          "output_type": "stream",
          "text": [
            "Thu Mar 18 18:22:53 2021       \n",
            "+-----------------------------------------------------------------------------+\n",
            "| NVIDIA-SMI 460.56       Driver Version: 460.32.03    CUDA Version: 11.2     |\n",
            "|-------------------------------+----------------------+----------------------+\n",
            "| GPU  Name        Persistence-M| Bus-Id        Disp.A | Volatile Uncorr. ECC |\n",
            "| Fan  Temp  Perf  Pwr:Usage/Cap|         Memory-Usage | GPU-Util  Compute M. |\n",
            "|                               |                      |               MIG M. |\n",
            "|===============================+======================+======================|\n",
            "|   0  Tesla T4            Off  | 00000000:00:04.0 Off |                    0 |\n",
            "| N/A   67C    P8    12W /  70W |      0MiB / 15109MiB |      0%      Default |\n",
            "|                               |                      |                  N/A |\n",
            "+-------------------------------+----------------------+----------------------+\n",
            "                                                                               \n",
            "+-----------------------------------------------------------------------------+\n",
            "| Processes:                                                                  |\n",
            "|  GPU   GI   CI        PID   Type   Process name                  GPU Memory |\n",
            "|        ID   ID                                                   Usage      |\n",
            "|=============================================================================|\n",
            "|  No running processes found                                                 |\n",
            "+-----------------------------------------------------------------------------+\n"
          ],
          "name": "stdout"
        },
        {
          "output_type": "execute_result",
          "data": {
            "text/plain": [
              "True"
            ]
          },
          "metadata": {
            "tags": []
          },
          "execution_count": 1
        }
      ]
    },
    {
      "cell_type": "code",
      "metadata": {
        "colab": {
          "base_uri": "https://localhost:8080/"
        },
        "id": "mN59cZZTcqGx",
        "outputId": "ecea336e-8cab-4a38-9b2f-e79961151fd4"
      },
      "source": [
        "from google.colab import drive\n",
        "drive.mount('/content/drive')"
      ],
      "execution_count": 2,
      "outputs": [
        {
          "output_type": "stream",
          "text": [
            "Mounted at /content/drive\n"
          ],
          "name": "stdout"
        }
      ]
    },
    {
      "cell_type": "code",
      "metadata": {
        "colab": {
          "base_uri": "https://localhost:8080/"
        },
        "id": "Xj_ukFCksSyb",
        "outputId": "7eb36585-633a-4414-e7a4-eba60e65bb21"
      },
      "source": [
        "!pip install transformers==4.3.3\r\n",
        "!pip install nlp\r\n",
        "# !pip install datasets\r\n",
        "!pip install python-dotenv\r\n",
        "try:\r\n",
        "    from google.colab import output\r\n",
        "    output.clear()\r\n",
        "except: pass\r\n",
        "import os\r\n",
        "from dotenv import load_dotenv\r\n",
        "!cp 'drive/MyDrive/.env.gdrive' '.env'\r\n",
        "load_dotenv()"
      ],
      "execution_count": 3,
      "outputs": [
        {
          "output_type": "execute_result",
          "data": {
            "text/plain": [
              "True"
            ]
          },
          "metadata": {
            "tags": []
          },
          "execution_count": 3
        }
      ]
    },
    {
      "cell_type": "markdown",
      "metadata": {
        "id": "xnzt-2nsfhUH"
      },
      "source": [
        "# 🔧 Tuning"
      ]
    },
    {
      "cell_type": "markdown",
      "metadata": {
        "id": "HhV4lUWt82Aj"
      },
      "source": [
        "## 🍃 Obtaining data\r\n",
        "After this you will get big text lines `text_entries`"
      ]
    },
    {
      "cell_type": "code",
      "metadata": {
        "colab": {
          "base_uri": "https://localhost:8080/"
        },
        "id": "ehIhI7-PsrJU",
        "outputId": "19fd0847-4314-4862-97cd-9fcd83d13e88"
      },
      "source": [
        "MONG_USER = os.getenv('MONG_ROUSER')\n",
        "MONG_PWD  = os.getenv('MONG_ROPWD')\n",
        "MONG_HOST = os.getenv('MONG_HOST')\n",
        "MONG_PORT = os.getenv('MONG_PORT')\n",
        "\n",
        "from pymongo import MongoClient\n",
        "from bson.objectid import ObjectId\n",
        "\n",
        "uri = f\"mongodb://{MONG_USER}:{MONG_PWD}@{MONG_HOST}:{MONG_PORT}/dataDumpingGround\"\n",
        "client = MongoClient(uri)\n",
        "client"
      ],
      "execution_count": null,
      "outputs": [
        {
          "output_type": "execute_result",
          "data": {
            "text/plain": [
              "MongoClient(host=['171.244.50.232:27017'], document_class=dict, tz_aware=False, connect=True)"
            ]
          },
          "metadata": {
            "tags": []
          },
          "execution_count": 6
        }
      ]
    },
    {
      "cell_type": "markdown",
      "metadata": {
        "id": "ydMfFwtvjhJo"
      },
      "source": [
        "### Pick a source"
      ]
    },
    {
      "cell_type": "markdown",
      "metadata": {
        "id": "lciJaxJNIaoi"
      },
      "source": [
        "#### a) english pokedex"
      ]
    },
    {
      "cell_type": "code",
      "metadata": {
        "id": "40Bi2FP_321A"
      },
      "source": [
        "db = client['dataSoup']\r\n",
        "dataSoup_col = db[\"pot1\"]\r\n",
        "pokedex_text_entries_plain = dataSoup_col.find_one({'name': 'pokedex text_entries_plain'})"
      ],
      "execution_count": null,
      "outputs": []
    },
    {
      "cell_type": "code",
      "metadata": {
        "id": "ISr1D5V66h4T"
      },
      "source": [
        "text_entries = pokedex_text_entries_plain['content']\r\n",
        "# text_entries"
      ],
      "execution_count": null,
      "outputs": []
    },
    {
      "cell_type": "code",
      "metadata": {
        "id": "0WkcZdcmGYnK",
        "colab": {
          "base_uri": "https://localhost:8080/"
        },
        "outputId": "c0e00302-0ff2-4034-f759-9dc0aaaf56f7"
      },
      "source": [
        "entry_len = {}\n",
        "for x in range(255):\n",
        "    entry_len[x+1] = 0\n",
        " \n",
        "for entry in text_entries:\n",
        "    # if text_len := len(entry) in entry_len:\n",
        "    text_len = len(entry)\n",
        "    if text_len in entry_len:\n",
        "        entry_len[text_len] += 1\n",
        "    else:\n",
        "        entry_len[text_len] = 1\n",
        "entry_len\n",
        " \n",
        "import matplotlib.pyplot as plt\n",
        "\n",
        "plt.bar(range(len(entry_len)), list(entry_len.values()), align='center')\n",
        "plt.xticks(range(len(entry_len)), list(entry_len.keys()))\n",
        "plt.show()"
      ],
      "execution_count": null,
      "outputs": [
        {
          "output_type": "display_data",
          "data": {
            "image/png": "[encoded data removed]",
            "text/plain": [
              "<Figure size 432x288 with 1 Axes>"
            ]
          },
          "metadata": {
            "tags": [],
            "needs_background": "light"
          }
        }
      ]
    },
    {
      "cell_type": "markdown",
      "metadata": {
        "id": "ViiwieQVIexq"
      },
      "source": [
        "#### b) someone's tweets"
      ]
    },
    {
      "cell_type": "code",
      "metadata": {
        "id": "f6e98XtdIko-",
        "colab": {
          "base_uri": "https://localhost:8080/"
        },
        "outputId": "5c19c5df-2fe2-4dbe-8a30-61df5e123953"
      },
      "source": [
        "db = client['dataDumpingGround']\r\n",
        "tw_profile_col = db[\"twitterProfiles\"]\r\n",
        "tw_profile = tw_profile_col.find_one({'screen_name': 'billwurtz'})\r\n",
        "tw_profile"
      ],
      "execution_count": null,
      "outputs": [
        {
          "output_type": "execute_result",
          "data": {
            "text/plain": [
              "{'Absent keys': ['withheld_in_countries', 'withheld_scope'],\n",
              " 'Last updated': datetime.datetime(2021, 1, 21, 12, 15, 4, 208000),\n",
              " '_id': ObjectId('6004a17d0b73eae2a9b6c5b5'),\n",
              " 'created_at': 'Fri Apr 29 09:57:13 +0000 2011',\n",
              " 'default_profile': False,\n",
              " 'default_profile_image': False,\n",
              " 'description': 'is self',\n",
              " 'favourites_count': 22852,\n",
              " 'followers_count': 321129,\n",
              " 'friends_count': 81,\n",
              " 'id': 289853473,\n",
              " 'listed_count': 352,\n",
              " 'location': '',\n",
              " 'name': 'bill wurtz',\n",
              " 'profile_banner_url': 'https://pbs.twimg.com/profile_banners/289853473/1435339266',\n",
              " 'profile_image_url_https': 'https://pbs.twimg.com/profile_images/1016862391823360000/BeQ1lMU7_normal.jpg',\n",
              " 'protected': False,\n",
              " 'screen_name': 'billwurtz',\n",
              " 'statuses_count': 3095,\n",
              " 'url': 'https://t.co/WGqYlp4ab6',\n",
              " 'verified': True}"
            ]
          },
          "metadata": {
            "tags": []
          },
          "execution_count": 5
        }
      ]
    },
    {
      "cell_type": "code",
      "metadata": {
        "id": "yfkcAOHYLCAK"
      },
      "source": [
        "from pprint import pprint\r\n",
        "import re\r\n",
        "from sys import maxsize as inf\r\n",
        "text_entries = []\r\n",
        "LIMIT = inf\r\n",
        "\r\n",
        "tweet_col = db[\"twitterTweets\"]\r\n",
        "tweet_cursor = tweet_col.find({'Author_id': 289853473})\r\n",
        "for tweet in tweet_cursor.limit(LIMIT):\r\n",
        "    # pprint(tweet)\r\n",
        "    text = tweet.get('full_text')\r\n",
        "    if text.startswith('RT @'):\r\n",
        "        continue\r\n",
        "    text = re.sub(r'\\@(.*?)\\ ', '', text)\r\n",
        "    text = re.sub(r'\\#(.*?)\\ ', '', text)\r\n",
        "    text = re.sub(r'(https?:\\/\\/t.co\\/)(.*)', '', text)\r\n",
        "    text = re.sub(r'\\n\\nbill wurtz', '', text)\r\n",
        "    text = re.sub(r'\\n', '', text)\r\n",
        "    text = re.sub(r'\\'', '', text)\r\n",
        "    text_entries.append(text)\r\n",
        " \r\n",
        "# text_entries"
      ],
      "execution_count": null,
      "outputs": []
    },
    {
      "cell_type": "markdown",
      "metadata": {
        "id": "007ZMl_IMIth"
      },
      "source": [
        "Visualize our data"
      ]
    },
    {
      "cell_type": "code",
      "metadata": {
        "colab": {
          "base_uri": "https://localhost:8080/",
          "height": 265
        },
        "id": "VAI7lmsqMLCR",
        "outputId": "8219c21f-f7f2-4b7a-ad21-588c1963796a"
      },
      "source": [
        "entry_len = {}\r\n",
        "for x in range(140):\r\n",
        "    entry_len[x+1] = 0\r\n",
        " \r\n",
        "for entry in text_entries:\r\n",
        "    text_len = len(entry)\r\n",
        "    if text_len in entry_len:\r\n",
        "        entry_len[text_len] += 1\r\n",
        "    else:\r\n",
        "        entry_len[text_len] = 1\r\n",
        "entry_len\r\n",
        " \r\n",
        "import matplotlib.pyplot as plt\r\n",
        " \r\n",
        "plt.bar(range(len(entry_len)), list(entry_len.values()), align='center')\r\n",
        "plt.xticks(range(len(entry_len)), list(entry_len.keys()))\r\n",
        "plt.show()"
      ],
      "execution_count": null,
      "outputs": [
        {
          "output_type": "display_data",
          "data": {
            "image/png": "[encoded data removed]",
            "text/plain": [
              "<Figure size 432x288 with 1 Axes>"
            ]
          },
          "metadata": {
            "tags": [],
            "needs_background": "light"
          }
        }
      ]
    },
    {
      "cell_type": "markdown",
      "metadata": {
        "id": "8DZg03KQ5D7y"
      },
      "source": [
        "#### c) pictures as text\r\n",
        "\r\n",
        "[pkm refs](https://colab.research.google.com/drive/1SdgyibJJKpPmMFX9UD1r7ZOZJHJfbm1z?authuser=2#scrollTo=oLfKBltYZVeq)"
      ]
    },
    {
      "cell_type": "code",
      "metadata": {
        "id": "kocOov1poGrj",
        "colab": {
          "base_uri": "https://localhost:8080/",
          "height": 35
        },
        "outputId": "1ae3cdb8-8c25-43e3-96f0-94691d704fdc"
      },
      "source": [
        "!mkdir -p datasets/{fragments,all-pics}/\r\n",
        "# !unzip \"drive/My Drive/datasets/Eeveelutions/sap1231-251020.zip\" -d datasets/fragments/\r\n",
        "# !unzip \"drive/My Drive/datasets/Eeveelutions/evhub#evlution-pics.zip\" -d datasets/fragments/\r\n",
        "!unzip \"/content/drive/MyDrive/datasets/gpt2-experiments/synthed-pics.zip\" -d datasets/\r\n",
        "output.clear()\r\n",
        "'OK'"
      ],
      "execution_count": null,
      "outputs": [
        {
          "output_type": "execute_result",
          "data": {
            "application/vnd.google.colaboratory.intrinsic+json": {
              "type": "string"
            },
            "text/plain": [
              "'OK'"
            ]
          },
          "metadata": {
            "tags": []
          },
          "execution_count": 4
        }
      ]
    },
    {
      "cell_type": "code",
      "metadata": {
        "id": "zrRXvdashFPA"
      },
      "source": [
        "import os\r\n",
        "import shutil\r\n",
        "from tqdm.notebook import tqdm\r\n",
        "from PIL import Image\r\n",
        "import math\r\n",
        "\r\n",
        "IMG_WIDTH = 64\r\n",
        "IMG_HEIGHT = 64\r\n",
        "LINE_SPLIT_CHAR = '.'\r\n",
        "PIXEL_SPLIT_CHAR = ' '\r\n",
        "IMAGE_SPLIT_CHAR = '\\n'\r\n",
        "CHAR_CODE_SHIFT = 48 # starts from \"0\"\r\n",
        "IMAGES_PATH = 'datasets/synthed-pics/'\r\n",
        "IMG_TXT_PATH = f'drive/MyDrive/datasets/Eeveelutions/all-images-{IMG_WIDTH}.txt'\r\n",
        "IMG_TXT_PATH = f'drive/MyDrive/datasets/gpt2-experiments/synthed-poster-64-space.txt'"
      ],
      "execution_count": null,
      "outputs": []
    },
    {
      "cell_type": "code",
      "metadata": {
        "colab": {
          "base_uri": "https://localhost:8080/"
        },
        "id": "J7hB5DC-0KzJ",
        "outputId": "ff6c9b9d-dd83-4a14-e9dd-2ef004315f9d"
      },
      "source": [
        "for root, dirs, files in tqdm( os.walk('./datasets/', topdown=False) ):\r\n",
        "    for name in files:\r\n",
        "        if 'SoloEevee/Umbr' not in root: continue\r\n",
        "        if 'NotEevee' in root: continue\r\n",
        "        if 'Grouped' in root: continue\r\n",
        "        file_path = os.path.join(root, name)\r\n",
        "        # print(file_path)\r\n",
        "        shutil.copyfile(file_path, os.path.join(IMAGES_PATH, name))"
      ],
      "execution_count": null,
      "outputs": [
        {
          "output_type": "stream",
          "text": [
            "108it [00:00, 269.37it/s]\n"
          ],
          "name": "stderr"
        }
      ]
    },
    {
      "cell_type": "code",
      "metadata": {
        "colab": {
          "base_uri": "https://localhost:8080/"
        },
        "id": "o_ix2_HUEOqi",
        "outputId": "3d67f7c4-85c6-4fa5-9ec2-0c36114890bb"
      },
      "source": [
        "text_entries = []\r\n",
        "for f in tqdm( os.listdir(IMAGES_PATH) ):\r\n",
        "    if f.split('.')[-1] not in ['png', 'gif', 'jpg', 'jpeg']:\r\n",
        "      continue\r\n",
        "    image = Image.open(os.path.join(IMAGES_PATH, f)).convert('RGBA')\r\n",
        "    # ratio check\r\n",
        "    rtio = image.size[0] / image.size[1] # width/height\r\n",
        "    gndRtio = IMG_WIDTH / IMG_HEIGHT\r\n",
        "    if rtio > gndRtio*1.6 or rtio < 1/gndRtio*0.7:\r\n",
        "        continue\r\n",
        "    image = image.resize((IMG_WIDTH, IMG_HEIGHT))\r\n",
        "    pixels = image.load()\r\n",
        "    lines = []\r\n",
        "    for y in range(IMG_HEIGHT):\r\n",
        "        split = []\r\n",
        "        for x in range(IMG_WIDTH):\r\n",
        "            s = '~'\r\n",
        "            color = pixels[x, y]\r\n",
        "            if len(color) < 4 or color[3] > 128:\r\n",
        "                r, g, b = color[0:3]\r\n",
        "                mR = math.floor(r/64) # 6-bit color\r\n",
        "                mG = math.floor(g/64)\r\n",
        "                mB = math.floor(b/64)\r\n",
        "                c = 0;\r\n",
        "                c += mR\r\n",
        "                c = c << 2\r\n",
        "                c += mG\r\n",
        "                c = c << 2\r\n",
        "                c += mB\r\n",
        "                s = chr(c+CHAR_CODE_SHIFT)\r\n",
        "            split.append(s)\r\n",
        "        lines.append(PIXEL_SPLIT_CHAR.join(split))\r\n",
        "    out_ = LINE_SPLIT_CHAR.join(lines)\r\n",
        "    text_entries.append(out_)\r\n",
        "    mirrored = LINE_SPLIT_CHAR.join(\r\n",
        "        [l[::-1] for l in lines]\r\n",
        "    )\r\n",
        "    text_entries.append(mirrored)\r\n",
        "    \r\n",
        "with open(IMG_TXT_PATH, 'w+') as f:\r\n",
        "    f.write(IMAGE_SPLIT_CHAR.join(text_entries))"
      ],
      "execution_count": null,
      "outputs": [
        {
          "output_type": "stream",
          "text": [
            "100%|██████████| 8000/8000 [00:48<00:00, 164.24it/s]\n"
          ],
          "name": "stderr"
        }
      ]
    },
    {
      "cell_type": "code",
      "metadata": {
        "colab": {
          "base_uri": "https://localhost:8080/"
        },
        "id": "ract7NBwcGhy",
        "outputId": "a36e30de-8ff3-4b16-cac7-1c5eec228cec"
      },
      "source": [
        "output = ''\r\n",
        "for f in tqdm( os.listdir(IMAGES_PATH) ):\r\n",
        "    ext = f.split('.')[-1]\r\n",
        "    if ext not in ['png', 'gif', 'jpg', 'jpeg']:\r\n",
        "      continue\r\n",
        "    image = Image.open(os.path.join(IMAGES_PATH, f)).convert('RGBA')\r\n",
        "    pixels = image.load()\r\n",
        "    width = image.size[0]\r\n",
        "    height = image.size[1]\r\n",
        "    lines = []\r\n",
        "    for y in range(height):\r\n",
        "        padLength = len(str(width))\r\n",
        "        padded = str(y).zfill(padLength)\r\n",
        "        split = [padded + 'd']\r\n",
        "        for x in range(width):\r\n",
        "            color = pixels[x, y]\r\n",
        "            s = '~'\r\n",
        "            if len(color) < 4 or color[3] > 128:\r\n",
        "                r, g, b = color[0], color[1], color[2]\r\n",
        "                if r == 85 and g == 85 and b == 85:\r\n",
        "                    s = 'a' # use grayscale character 1\r\n",
        "                elif r == 170 and g == 170 and b == 170:\r\n",
        "                    s = 'b' # use grayscale character 2\r\n",
        "                else: # use one of 64 color characters\r\n",
        "                    mR = math.floor(r/64)\r\n",
        "                    mG = math.floor(g/64)\r\n",
        "                    mB = math.floor(b/64)\r\n",
        "                    c = 0;\r\n",
        "                    c += mR\r\n",
        "                    c = c << 2\r\n",
        "                    c += mG\r\n",
        "                    c = c << 2\r\n",
        "                    c += mB\r\n",
        "                    s = chr(c+33)\r\n",
        "            split.append(s)\r\n",
        "        lines.append(' '.join(split))\r\n",
        "    reversed = []\r\n",
        "    for line in lines:\r\n",
        "        reversed.insert(0, (line.replace('d ', 'u ', 1)))\r\n",
        "    output += '\\n'.join(lines)\r\n",
        "    # output += '\\n'.join(reversed)\r\n",
        "print('saving output')\r\n",
        "with open('all-images.txt', 'w') as output_file:\r\n",
        "    output_file.write(output)\r\n",
        "print('done !')"
      ],
      "execution_count": null,
      "outputs": [
        {
          "output_type": "stream",
          "text": [
            "100%|██████████| 8000/8000 [00:41<00:00, 193.15it/s]\n"
          ],
          "name": "stderr"
        },
        {
          "output_type": "stream",
          "text": [
            "saving output\n",
            "done !\n"
          ],
          "name": "stdout"
        }
      ]
    },
    {
      "cell_type": "code",
      "metadata": {
        "id": "FmHAYLh-gikk"
      },
      "source": [
        "with open(IMG_TXT_PATH, 'r') as f:\r\n",
        "    content = f.read()\r\n",
        "    text_entries = content.split(IMAGE_SPLIT_CHAR)\r\n",
        "\r\n",
        "text_entries"
      ],
      "execution_count": null,
      "outputs": []
    },
    {
      "cell_type": "markdown",
      "metadata": {
        "id": "GaATbsPQZkYY"
      },
      "source": [
        "#### b) wattpad stories"
      ]
    },
    {
      "cell_type": "code",
      "metadata": {
        "id": "h736jrDpmEdp"
      },
      "source": [
        "TEXT_PATH = '/content/drive/MyDrive/datasets/wattpad/rom'"
      ],
      "execution_count": 4,
      "outputs": []
    },
    {
      "cell_type": "code",
      "metadata": {
        "id": "XStGI9uPZj2r",
        "colab": {
          "base_uri": "https://localhost:8080/"
        },
        "outputId": "a32ac9eb-5316-427c-8123-cf2182ed09bb"
      },
      "source": [
        "text_entries = []\r\n",
        "\r\n",
        "for root, dirs, files in os.walk(TEXT_PATH, topdown=False):\r\n",
        "    for name in files:\r\n",
        "        file_path = os.path.join(root, name)\r\n",
        "        print(file_path)\r\n",
        "        with open(file_path) as fp: \r\n",
        "            # text_entries += fp.read() +'\\n'\r\n",
        "            for line in fp:\r\n",
        "                text_entries.append(line.strip())"
      ],
      "execution_count": 5,
      "outputs": [
        {
          "output_type": "stream",
          "text": [
            "/content/drive/MyDrive/datasets/wattpad/rom/Doki-Doki-Literature-Club-Full-script-wattpad_172296185.txt\n",
            "/content/drive/MyDrive/datasets/wattpad/rom/It-Started-with-a-Selfie-_larry-stylinson-a.u._-wattpad_22320751.txt\n",
            "/content/drive/MyDrive/datasets/wattpad/rom/The-Crooked-Oak-Undertale-Script-Book-wattpad_177090691.txt\n",
            "/content/drive/MyDrive/datasets/wattpad/rom/Sold-at-first-sight_-_-_-wattpad_43723.txt\n",
            "/content/drive/MyDrive/datasets/wattpad/rom/Perfect-Fate-wattpad_16490622.txt\n",
            "/content/drive/MyDrive/datasets/wattpad/rom/Bản sao của Doki-Doki-Literature-Club-Full-script-wattpad_172296185.txt\n",
            "/content/drive/MyDrive/datasets/wattpad/rom/Bản sao của It-Started-with-a-Selfie-_larry-stylinson-a.u._-wattpad_22320751.txt\n"
          ],
          "name": "stdout"
        }
      ]
    },
    {
      "cell_type": "markdown",
      "metadata": {
        "id": "wcphp9XLamUl"
      },
      "source": [
        "## 🚋 Names and paths"
      ]
    },
    {
      "cell_type": "code",
      "metadata": {
        "id": "EeDY9G3tOxnm"
      },
      "source": [
        "MODEL_NAME = \"gpt2-medium\"\r\n",
        "MODEL_SAVE_PATH = 'drive/MyDrive/model-checkpoints/watt-scifi-gpt2-med-1103/'\r\n",
        "TOK_PATH = MODEL_SAVE_PATH + \"tok/\"\r\n",
        "TRAIN_PATH = 'train_dataset.txt'\r\n",
        "TEST_PATH = 'test_dataset.txt'\r\n",
        "LINE_SPLIT_CHAR = '\\n'"
      ],
      "execution_count": 6,
      "outputs": []
    },
    {
      "cell_type": "code",
      "metadata": {
        "id": "PRmcbu7OITvJ"
      },
      "source": [
        "# ALTERNATIVE\r\n",
        "MODEL_SAVE_PATH = 'drive/MyDrive/model-checkpoints/gpt2-umbrpics/'\r\n",
        "TRAIN_PATH = '/content/drive/MyDrive/datasets/Eeveelutions/umbr-64-mirror/train_dataset.txt'\r\n",
        "TEST_PATH = '/content/drive/MyDrive/datasets/Eeveelutions/umbr-64-mirror/test_dataset.txt'"
      ],
      "execution_count": null,
      "outputs": []
    },
    {
      "cell_type": "markdown",
      "metadata": {
        "id": "t21LKwcRHTDa"
      },
      "source": [
        "### 📄 Build txt file"
      ]
    },
    {
      "cell_type": "code",
      "metadata": {
        "colab": {
          "base_uri": "https://localhost:8080/"
        },
        "id": "Znw9MJfK8J_j",
        "outputId": "56a0a459-3b90-427b-ab95-6c4f89f32bbc"
      },
      "source": [
        "from sklearn.model_selection import train_test_split\r\n",
        "\r\n",
        "if len(text_entries) == 1:\r\n",
        "    text_entries = text_entries[0].split()\r\n",
        "\r\n",
        "train_ds, test_ds = train_test_split(text_entries, test_size=0.2, shuffle=False)\r\n",
        "print(f\"Train dataset length: {len(train_ds)}\")\r\n",
        "print(f\"Test dataset length: {len(test_ds)}\")"
      ],
      "execution_count": 7,
      "outputs": [
        {
          "output_type": "stream",
          "text": [
            "Train dataset length: 48837\n",
            "Test dataset length: 12210\n"
          ],
          "name": "stdout"
        }
      ]
    },
    {
      "cell_type": "code",
      "metadata": {
        "id": "57fiMoSeC81l"
      },
      "source": [
        "longest_len = 0\r\n",
        "def build_text_files(lines, dest_path):\r\n",
        "    global longest_len\r\n",
        "    f = open(dest_path, 'w+')\r\n",
        "    data = \"\"\r\n",
        "    for line in lines:\r\n",
        "        if not line.strip():\r\n",
        "            continue\r\n",
        "        data += line + LINE_SPLIT_CHAR\r\n",
        "        if len(line) > longest_len: # assign max length\r\n",
        "            longest_len = len(line)\r\n",
        "    f.write(data)\r\n",
        "\r\n",
        "# build_text_files(text_entries, TRAIN_PATH)\r\n",
        "build_text_files(train_ds, TRAIN_PATH)\r\n",
        "build_text_files(test_ds, TEST_PATH)"
      ],
      "execution_count": 8,
      "outputs": []
    },
    {
      "cell_type": "markdown",
      "metadata": {
        "id": "9pyU9k-7BBcH"
      },
      "source": [
        "## Model and tokenizer"
      ]
    },
    {
      "cell_type": "markdown",
      "metadata": {
        "id": "0dgFIh0MEXmY"
      },
      "source": [
        "### 🪓 Tokenizer"
      ]
    },
    {
      "cell_type": "markdown",
      "metadata": {
        "id": "Y-qACiHP7J45"
      },
      "source": [
        "#### a) Train a tokenizer\r\n",
        "\r\n",
        "[văn bản liên kết](https://huggingface.co/blog/how-to-train)"
      ]
    },
    {
      "cell_type": "code",
      "metadata": {
        "id": "nOvCyEeL7Jmv"
      },
      "source": [
        "from tokenizers import ByteLevelBPETokenizer\r\n",
        "\r\n",
        "tok_trainer = ByteLevelBPETokenizer()\r\n",
        "tok_trainer.train(files=[TRAIN_PATH, TEST_PATH],\r\n",
        "                vocab_size=2000, min_frequency=2,)\r\n",
        "!mkdir -p 'tok/'\r\n",
        "tok_trainer.save_model('tok/', \"igptkinda\")\r\n",
        "!mkdir -p $TOK_PATH\r\n",
        "!cp 'tok/igptkinda-vocab.json' $TOK_PATH/vocab.json\r\n",
        "!cp 'tok/igptkinda-merges.txt' $TOK_PATH/merges.txt"
      ],
      "execution_count": null,
      "outputs": []
    },
    {
      "cell_type": "code",
      "metadata": {
        "colab": {
          "base_uri": "https://localhost:8080/"
        },
        "id": "3EzKeVelH4y3",
        "outputId": "d929fada-ebb7-4397-b7c8-4f61b3dd1b01"
      },
      "source": [
        "from transformers import GPT2Tokenizer\r\n",
        "tokenizer = GPT2Tokenizer.from_pretrained(TOK_PATH)\r\n",
        "tokenizer.encode(\"F90.F0G\")"
      ],
      "execution_count": null,
      "outputs": [
        {
          "output_type": "execute_result",
          "data": {
            "text/plain": [
              "[37, 24, 15, 13, 37, 15, 38]"
            ]
          },
          "metadata": {
            "tags": []
          },
          "execution_count": 37
        }
      ]
    },
    {
      "cell_type": "markdown",
      "metadata": {
        "id": "t96ZR6kN7F1x"
      },
      "source": [
        "#### b) Pretrained"
      ]
    },
    {
      "cell_type": "code",
      "metadata": {
        "colab": {
          "base_uri": "https://localhost:8080/"
        },
        "id": "lbSigjmddU9L",
        "outputId": "8e9f3644-432d-4e4f-c782-02479fd97bac"
      },
      "source": [
        "tokenizer.__dir__()"
      ],
      "execution_count": 21,
      "outputs": [
        {
          "output_type": "execute_result",
          "data": {
            "text/plain": [
              "['_tokenizer',\n",
              " 'init_inputs',\n",
              " 'init_kwargs',\n",
              " 'name_or_path',\n",
              " 'model_max_length',\n",
              " 'padding_side',\n",
              " 'model_input_names',\n",
              " 'deprecation_warnings',\n",
              " '_bos_token',\n",
              " '_eos_token',\n",
              " '_unk_token',\n",
              " '_sep_token',\n",
              " '_pad_token',\n",
              " '_cls_token',\n",
              " '_mask_token',\n",
              " '_pad_token_type_id',\n",
              " '_additional_special_tokens',\n",
              " 'verbose',\n",
              " 'add_prefix_space',\n",
              " '__module__',\n",
              " '__doc__',\n",
              " 'vocab_files_names',\n",
              " 'pretrained_vocab_files_map',\n",
              " 'max_model_input_sizes',\n",
              " 'slow_tokenizer_class',\n",
              " '__init__',\n",
              " '_batch_encode_plus',\n",
              " '_encode_plus',\n",
              " 'save_vocabulary',\n",
              " '__annotations__',\n",
              " 'is_fast',\n",
              " 'vocab_size',\n",
              " 'get_vocab',\n",
              " 'vocab',\n",
              " 'get_added_vocab',\n",
              " '__len__',\n",
              " 'backend_tokenizer',\n",
              " 'decoder',\n",
              " '_convert_encoding',\n",
              " 'convert_tokens_to_ids',\n",
              " '_convert_token_to_id_with_added_voc',\n",
              " '_convert_id_to_token',\n",
              " '_add_tokens',\n",
              " 'num_special_tokens_to_add',\n",
              " 'convert_ids_to_tokens',\n",
              " 'tokenize',\n",
              " 'set_truncation_and_padding',\n",
              " 'convert_tokens_to_string',\n",
              " '_decode',\n",
              " '_save_pretrained',\n",
              " 'pretrained_init_configuration',\n",
              " 'max_len_single_sentence',\n",
              " 'max_len_sentences_pair',\n",
              " '__repr__',\n",
              " 'from_pretrained',\n",
              " '_from_pretrained',\n",
              " 'save_pretrained',\n",
              " 'encode',\n",
              " '_get_padding_truncation_strategies',\n",
              " '__call__',\n",
              " 'encode_plus',\n",
              " 'batch_encode_plus',\n",
              " 'pad',\n",
              " 'create_token_type_ids_from_sequences',\n",
              " 'build_inputs_with_special_tokens',\n",
              " 'prepare_for_model',\n",
              " 'truncate_sequences',\n",
              " '_pad',\n",
              " 'batch_decode',\n",
              " 'decode',\n",
              " 'get_special_tokens_mask',\n",
              " 'clean_up_tokenization',\n",
              " '_eventual_warn_about_too_long_sequence',\n",
              " 'as_target_tokenizer',\n",
              " 'prepare_seq2seq_batch',\n",
              " 'SPECIAL_TOKENS_ATTRIBUTES',\n",
              " 'sanitize_special_tokens',\n",
              " 'add_special_tokens',\n",
              " 'add_tokens',\n",
              " 'bos_token',\n",
              " 'eos_token',\n",
              " 'unk_token',\n",
              " 'sep_token',\n",
              " 'pad_token',\n",
              " 'cls_token',\n",
              " 'mask_token',\n",
              " 'additional_special_tokens',\n",
              " 'bos_token_id',\n",
              " 'eos_token_id',\n",
              " 'unk_token_id',\n",
              " 'sep_token_id',\n",
              " 'pad_token_id',\n",
              " 'pad_token_type_id',\n",
              " 'cls_token_id',\n",
              " 'mask_token_id',\n",
              " 'additional_special_tokens_ids',\n",
              " 'special_tokens_map',\n",
              " 'special_tokens_map_extended',\n",
              " 'all_special_tokens',\n",
              " 'all_special_tokens_extended',\n",
              " 'all_special_ids',\n",
              " '__dict__',\n",
              " '__weakref__',\n",
              " '__hash__',\n",
              " '__str__',\n",
              " '__getattribute__',\n",
              " '__setattr__',\n",
              " '__delattr__',\n",
              " '__lt__',\n",
              " '__le__',\n",
              " '__eq__',\n",
              " '__ne__',\n",
              " '__gt__',\n",
              " '__ge__',\n",
              " '__new__',\n",
              " '__reduce_ex__',\n",
              " '__reduce__',\n",
              " '__subclasshook__',\n",
              " '__init_subclass__',\n",
              " '__format__',\n",
              " '__sizeof__',\n",
              " '__dir__',\n",
              " '__class__']"
            ]
          },
          "metadata": {
            "tags": []
          },
          "execution_count": 21
        }
      ]
    },
    {
      "cell_type": "code",
      "metadata": {
        "id": "F1MIoFAmE8Gq",
        "colab": {
          "base_uri": "https://localhost:8080/",
          "height": 230,
          "referenced_widgets": [
            "62ca0ee98b534a458bb60ac3a2fe0498",
            "756d5ea779994c5580f9f74e40d49ce1",
            "4611205d3d974a9289a18e4c26bffda4",
            "6b37c5ec70e44218b86fc9a834d10115",
            "53070c1dfefa4610a2ce9ed9244e9112",
            "158a36014e374dbfb100205bbe89f73a",
            "e9a844bcaf3c4fd5b9d4dc7fff5e2b73",
            "66872d67bf4f4f7ca9fd4eb3f8d16664",
            "b56f4ab3b2a54385a22681b0a9932a53",
            "37052b2c32044216ba1d67d6a8f561b9",
            "f8d9c494f6724fd49186648ce800cf5a",
            "b1473f64f5754d1ab4773228fb8185f5",
            "733e0b1433e64947986b9bae9a47bcd5",
            "1947478f2c4840ce91d9321a3b8a476c",
            "740296e76015402585e78a05ff536ff9",
            "0395ca9a85bd43fca08d6715b0e95904",
            "60d322bbf0a04cb995449e2317482e8f",
            "898f6d05ac234cbdbdd13976f97d0726",
            "247e163c6be84930afce88a73352c3d0",
            "9d256a0679a8474aa484f3cabdf642c2",
            "494f0d5582824415bb8967a0424a88db",
            "aaf8e0863a544809afc7402367e9e6b2",
            "78443032d09746439a2105959782f1ca",
            "98851f8a223d46bcbae07babfd2f9947",
            "68e7a6dae3cb43e8924066328b29f6da",
            "aaf821e1237740c4995685eb7bde5e38",
            "80c7ce3513fb445e836b2756eece6591",
            "a42e2ad61aa147ecbcbddf59a2433455",
            "fb6966f132fb4c73bd89a8472f2ce10d",
            "b5fdce1a2ec44ad38bc43b2dea3b4e2e",
            "e565e67a2d7f45f1a5ff4e1c44a0a103",
            "2d26bfdcf73a47daa8e77fd90bb0edea"
          ]
        },
        "outputId": "133ce043-3708-4942-c189-4b0edfb04490"
      },
      "source": [
        "from transformers import AutoTokenizer\r\n",
        "\r\n",
        "tokenizer = AutoTokenizer.from_pretrained(MODEL_NAME)\r\n",
        "tokenizer.pad_token = tokenizer.eos_token\r\n",
        "tokenizer.model_max_length = 128\r\n",
        "# tokenizer.set_truncation_and_padding(max_length=512)\r\n",
        "tokenizer.encode(\" 9 I J J : : J.J J J J J \")"
      ],
      "execution_count": 9,
      "outputs": [
        {
          "output_type": "display_data",
          "data": {
            "application/vnd.jupyter.widget-view+json": {
              "model_id": "62ca0ee98b534a458bb60ac3a2fe0498",
              "version_minor": 0,
              "version_major": 2
            },
            "text/plain": [
              "HBox(children=(FloatProgress(value=0.0, description='Downloading', max=718.0, style=ProgressStyle(description_…"
            ]
          },
          "metadata": {
            "tags": []
          }
        },
        {
          "output_type": "stream",
          "text": [
            "\n"
          ],
          "name": "stdout"
        },
        {
          "output_type": "display_data",
          "data": {
            "application/vnd.jupyter.widget-view+json": {
              "model_id": "b56f4ab3b2a54385a22681b0a9932a53",
              "version_minor": 0,
              "version_major": 2
            },
            "text/plain": [
              "HBox(children=(FloatProgress(value=0.0, description='Downloading', max=1042301.0, style=ProgressStyle(descript…"
            ]
          },
          "metadata": {
            "tags": []
          }
        },
        {
          "output_type": "stream",
          "text": [
            "\n"
          ],
          "name": "stdout"
        },
        {
          "output_type": "display_data",
          "data": {
            "application/vnd.jupyter.widget-view+json": {
              "model_id": "60d322bbf0a04cb995449e2317482e8f",
              "version_minor": 0,
              "version_major": 2
            },
            "text/plain": [
              "HBox(children=(FloatProgress(value=0.0, description='Downloading', max=456318.0, style=ProgressStyle(descripti…"
            ]
          },
          "metadata": {
            "tags": []
          }
        },
        {
          "output_type": "stream",
          "text": [
            "\n"
          ],
          "name": "stdout"
        },
        {
          "output_type": "display_data",
          "data": {
            "application/vnd.jupyter.widget-view+json": {
              "model_id": "68e7a6dae3cb43e8924066328b29f6da",
              "version_minor": 0,
              "version_major": 2
            },
            "text/plain": [
              "HBox(children=(FloatProgress(value=0.0, description='Downloading', max=1355256.0, style=ProgressStyle(descript…"
            ]
          },
          "metadata": {
            "tags": []
          }
        },
        {
          "output_type": "stream",
          "text": [
            "\n"
          ],
          "name": "stdout"
        },
        {
          "output_type": "execute_result",
          "data": {
            "text/plain": [
              "[860, 314, 449, 449, 1058, 1058, 449, 13, 41, 449, 449, 449, 449, 220]"
            ]
          },
          "metadata": {
            "tags": []
          },
          "execution_count": 9
        }
      ]
    },
    {
      "cell_type": "code",
      "metadata": {
        "colab": {
          "base_uri": "https://localhost:8080/"
        },
        "id": "-xmv1SXYd1zm",
        "outputId": "e55c9637-dca8-4750-e72f-1c91293509d8"
      },
      "source": [
        "tokenizer.model_max_length"
      ],
      "execution_count": 10,
      "outputs": [
        {
          "output_type": "execute_result",
          "data": {
            "text/plain": [
              "128"
            ]
          },
          "metadata": {
            "tags": []
          },
          "execution_count": 10
        }
      ]
    },
    {
      "cell_type": "markdown",
      "metadata": {
        "id": "XTZPPOTIIb6P"
      },
      "source": [
        "### 🧠 The model\r\n",
        "Get the available $MODEL_NAME model"
      ]
    },
    {
      "cell_type": "code",
      "metadata": {
        "id": "-kLEjl_JIdh_",
        "colab": {
          "base_uri": "https://localhost:8080/",
          "height": 66,
          "referenced_widgets": [
            "c463421eb697484e8bf2ccd70a795625",
            "470979f300ab4a249743554afc48b80e",
            "e0d26d640e5d4ba1a11e4505b0339069",
            "6b7e8de588634fd78904846e2ed27114",
            "d188a9b8087e4d7297e0486e3c0d3246",
            "968ed08e75df45dd9fe013406488d4a2",
            "76492d03eb5e4c42851dde2b9c34a0eb",
            "0ef4021fb7ed4c14900642a0c6eef135"
          ]
        },
        "outputId": "339f21af-2d19-48c7-deeb-fa95cb15dbca"
      },
      "source": [
        "from transformers import GPT2LMHeadModel\n",
        "\n",
        "model = GPT2LMHeadModel.from_pretrained(\n",
        "    MODEL_NAME\n",
        "    # MODEL_SAVE_PATH + 'checkpoint-4000/'\n",
        ")\n",
        "# model"
      ],
      "execution_count": 12,
      "outputs": [
        {
          "output_type": "display_data",
          "data": {
            "application/vnd.jupyter.widget-view+json": {
              "model_id": "c463421eb697484e8bf2ccd70a795625",
              "version_minor": 0,
              "version_major": 2
            },
            "text/plain": [
              "HBox(children=(FloatProgress(value=0.0, description='Downloading', max=1520013706.0, style=ProgressStyle(descr…"
            ]
          },
          "metadata": {
            "tags": []
          }
        },
        {
          "output_type": "stream",
          "text": [
            "\n"
          ],
          "name": "stdout"
        }
      ]
    },
    {
      "cell_type": "markdown",
      "metadata": {
        "id": "O26rs7mCI5qI"
      },
      "source": [
        "## 🚧 Training\r\n",
        "\r\n",
        "API docs: [Trainer](https://huggingface.co/transformers/main_classes/trainer.html#trainingarguments) ,\r\n",
        "[Torch optim](https://pytorch.org/docs/stable/optim.html)\r\n"
      ]
    },
    {
      "cell_type": "markdown",
      "metadata": {
        "id": "Quah5S-7hxWi"
      },
      "source": [
        "### 📚 .txt to _dataset"
      ]
    },
    {
      "cell_type": "code",
      "metadata": {
        "colab": {
          "base_uri": "https://localhost:8080/"
        },
        "id": "tJ--4NJHhH7R",
        "outputId": "2907aa01-b66c-439d-b8a0-cbfb9535495d"
      },
      "source": [
        "from transformers import TextDataset, LineByLineTextDataset, DataCollatorForLanguageModeling\r\n",
        "\r\n",
        "train_dataset = LineByLineTextDataset(\r\n",
        "    tokenizer=tokenizer,\r\n",
        "    file_path=TRAIN_PATH,\r\n",
        "    block_size=tokenizer.model_max_length\r\n",
        ")\r\n",
        "test_dataset = LineByLineTextDataset(\r\n",
        "    tokenizer=tokenizer,\r\n",
        "    file_path=TEST_PATH,\r\n",
        "    block_size=tokenizer.model_max_length\r\n",
        ")\r\n",
        "collator = DataCollatorForLanguageModeling(\r\n",
        "    tokenizer=tokenizer, mlm=False,\r\n",
        ")"
      ],
      "execution_count": 11,
      "outputs": [
        {
          "output_type": "stream",
          "text": [
            "/usr/local/lib/python3.7/dist-packages/transformers/data/datasets/language_modeling.py:128: FutureWarning: This dataset will be removed from the library soon, preprocessing should be handled with the 🤗 Datasets library. You can have a look at this example script for pointers: https://github.com/huggingface/transformers/blob/master/examples/language-modeling/run_mlm.py\n",
            "  FutureWarning,\n"
          ],
          "name": "stderr"
        }
      ]
    },
    {
      "cell_type": "markdown",
      "metadata": {
        "id": "qZnxqwVXi-kG"
      },
      "source": [
        "### 🎢 GD!"
      ]
    },
    {
      "cell_type": "code",
      "metadata": {
        "id": "8EZT5aWz33q3"
      },
      "source": [
        "from transformers import Trainer\r\n",
        "\r\n",
        "class MyTrainer(Trainer):\r\n",
        "    def compute_loss(self, *args, **kwargs):\r\n",
        "        a = super().compute_loss(*args, **kwargs)\r\n",
        "        print(args)\r\n",
        "        print(kwargs)\r\n",
        "        print(a)\r\n",
        "        return a"
      ],
      "execution_count": null,
      "outputs": []
    },
    {
      "cell_type": "code",
      "metadata": {
        "id": "mAWU6R8FnYS1",
        "colab": {
          "base_uri": "https://localhost:8080/",
          "height": 532
        },
        "outputId": "0ae1971a-a68f-4b92-c905-d91011a0650c"
      },
      "source": [
        "from transformers import Trainer, TrainingArguments, get_scheduler\r\n",
        "from torch import optim\r\n",
        "\r\n",
        "training_args = TrainingArguments(\r\n",
        "    output_dir=MODEL_SAVE_PATH,\r\n",
        "    overwrite_output_dir=True,\r\n",
        "    num_train_epochs=4,\r\n",
        "    # max_steps=40_000,\r\n",
        "    save_steps=2000,\r\n",
        "    logging_steps=400,\r\n",
        "    # evaluation_strategy=\"steps\",\r\n",
        "\r\n",
        "# Turn down on memory usage\r\n",
        "    per_device_train_batch_size=16,\r\n",
        "    per_device_eval_batch_size=64,\r\n",
        "    adafactor=True\r\n",
        ")\r\n",
        "optimizer = optim.SGD(model.parameters(), lr=0.01, momentum=0.9)\r\n",
        "scheduler = get_scheduler(\"polynomial\", optimizer, num_warmup_steps=1000,\r\n",
        "                          num_training_steps=0) # ?\r\n",
        "\r\n",
        "trainer = Trainer(model=model,\r\n",
        "    args=training_args,\r\n",
        "    train_dataset=train_dataset,\r\n",
        "    eval_dataset=test_dataset,\r\n",
        "    # optimizers=(optimizer, scheduler),\r\n",
        "    # compute_metrics=[],\r\n",
        "    # model_init=[Trainer.evaluate],\r\n",
        "    data_collator=collator,\r\n",
        ")\r\n",
        "trainer.train()"
      ],
      "execution_count": null,
      "outputs": [
        {
          "output_type": "stream",
          "text": [
            "/usr/local/lib/python3.7/dist-packages/transformers/optimization.py:557: UserWarning: This overload of add_ is deprecated:\n",
            "\tadd_(Number alpha, Tensor other)\n",
            "Consider using one of the following signatures instead:\n",
            "\tadd_(Tensor other, *, Number alpha) (Triggered internally at  /pytorch/torch/csrc/utils/python_arg_parser.cpp:1005.)\n",
            "  exp_avg_sq_row.mul_(beta2t).add_(1.0 - beta2t, update.mean(dim=-1))\n"
          ],
          "name": "stderr"
        },
        {
          "output_type": "display_data",
          "data": {
            "text/html": [
              "\n",
              "    <div>\n",
              "        <style>\n",
              "            /* Turns off some styling */\n",
              "            progress {\n",
              "                /* gets rid of default border in Firefox and Opera. */\n",
              "                border: none;\n",
              "                /* Needs to be in here for Safari polyfill so background images work as expected. */\n",
              "                background-size: auto;\n",
              "            }\n",
              "        </style>\n",
              "      \n",
              "      <progress value='5078' max='12212' style='width:300px; height:20px; vertical-align: middle;'></progress>\n",
              "      [ 5078/12212 1:23:23 < 1:57:12, 1.01 it/s, Epoch 1.66/4]\n",
              "    </div>\n",
              "    <table border=\"1\" class=\"dataframe\">\n",
              "  <thead>\n",
              "    <tr style=\"text-align: left;\">\n",
              "      <th>Step</th>\n",
              "      <th>Training Loss</th>\n",
              "    </tr>\n",
              "  </thead>\n",
              "  <tbody>\n",
              "    <tr>\n",
              "      <td>400</td>\n",
              "      <td>3.119000</td>\n",
              "    </tr>\n",
              "    <tr>\n",
              "      <td>800</td>\n",
              "      <td>2.984200</td>\n",
              "    </tr>\n",
              "    <tr>\n",
              "      <td>1200</td>\n",
              "      <td>2.925200</td>\n",
              "    </tr>\n",
              "    <tr>\n",
              "      <td>1600</td>\n",
              "      <td>2.877100</td>\n",
              "    </tr>\n",
              "    <tr>\n",
              "      <td>2000</td>\n",
              "      <td>2.858200</td>\n",
              "    </tr>\n",
              "    <tr>\n",
              "      <td>2400</td>\n",
              "      <td>2.815300</td>\n",
              "    </tr>\n",
              "    <tr>\n",
              "      <td>2800</td>\n",
              "      <td>2.807500</td>\n",
              "    </tr>\n",
              "    <tr>\n",
              "      <td>3200</td>\n",
              "      <td>2.644000</td>\n",
              "    </tr>\n",
              "    <tr>\n",
              "      <td>3600</td>\n",
              "      <td>2.459500</td>\n",
              "    </tr>\n",
              "    <tr>\n",
              "      <td>4000</td>\n",
              "      <td>2.459900</td>\n",
              "    </tr>\n",
              "    <tr>\n",
              "      <td>4400</td>\n",
              "      <td>2.447600</td>\n",
              "    </tr>\n",
              "    <tr>\n",
              "      <td>4800</td>\n",
              "      <td>2.429600</td>\n",
              "    </tr>\n",
              "  </tbody>\n",
              "</table><p>"
            ],
            "text/plain": [
              "<IPython.core.display.HTML object>"
            ]
          },
          "metadata": {
            "tags": []
          }
        }
      ]
    },
    {
      "cell_type": "code",
      "metadata": {
        "id": "1dh7dXzKpXps"
      },
      "source": [
        "trainer.save_model()"
      ],
      "execution_count": null,
      "outputs": []
    }
  ]
}