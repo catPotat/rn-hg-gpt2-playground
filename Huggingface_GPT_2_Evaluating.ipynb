{
  "nbformat": 4,
  "nbformat_minor": 0,
  "metadata": {
    "colab": {
      "name": "Huggingface GPT-2 Evaluating.ipynb",
      "provenance": [],
      "collapsed_sections": [],
      "authorship_tag": "ABX9TyOMBG95EnMcrUNZ3hfuKVEy",
      "include_colab_link": true
    },
    "kernelspec": {
      "name": "python3",
      "display_name": "Python 3"
    },
    "widgets": {
      "application/vnd.jupyter.widget-state+json": {
        "e22221b3677c470a8606f264d99804b2": {
          "model_module": "@jupyter-widgets/controls",
          "model_name": "HBoxModel",
          "state": {
            "_view_name": "HBoxView",
            "_dom_classes": [],
            "_model_name": "HBoxModel",
            "_view_module": "@jupyter-widgets/controls",
            "_model_module_version": "1.5.0",
            "_view_count": null,
            "_view_module_version": "1.5.0",
            "box_style": "",
            "layout": "IPY_MODEL_6830ef636b2140d59ed027367e005fc1",
            "_model_module": "@jupyter-widgets/controls",
            "children": [
              "IPY_MODEL_1adea81713954ddab7a86cb01d21194d",
              "IPY_MODEL_970921d3b180436ba9431e2fa37eeee6"
            ]
          }
        },
        "6830ef636b2140d59ed027367e005fc1": {
          "model_module": "@jupyter-widgets/base",
          "model_name": "LayoutModel",
          "state": {
            "_view_name": "LayoutView",
            "grid_template_rows": null,
            "right": null,
            "justify_content": null,
            "_view_module": "@jupyter-widgets/base",
            "overflow": null,
            "_model_module_version": "1.2.0",
            "_view_count": null,
            "flex_flow": null,
            "width": null,
            "min_width": null,
            "border": null,
            "align_items": null,
            "bottom": null,
            "_model_module": "@jupyter-widgets/base",
            "top": null,
            "grid_column": null,
            "overflow_y": null,
            "overflow_x": null,
            "grid_auto_flow": null,
            "grid_area": null,
            "grid_template_columns": null,
            "flex": null,
            "_model_name": "LayoutModel",
            "justify_items": null,
            "grid_row": null,
            "max_height": null,
            "align_content": null,
            "visibility": null,
            "align_self": null,
            "height": null,
            "min_height": null,
            "padding": null,
            "grid_auto_rows": null,
            "grid_gap": null,
            "max_width": null,
            "order": null,
            "_view_module_version": "1.2.0",
            "grid_template_areas": null,
            "object_position": null,
            "object_fit": null,
            "grid_auto_columns": null,
            "margin": null,
            "display": null,
            "left": null
          }
        },
        "1adea81713954ddab7a86cb01d21194d": {
          "model_module": "@jupyter-widgets/controls",
          "model_name": "FloatProgressModel",
          "state": {
            "_view_name": "ProgressView",
            "style": "IPY_MODEL_c1158fdc2a724168b5cca839177524f1",
            "_dom_classes": [],
            "description": "Downloading: 100%",
            "_model_name": "FloatProgressModel",
            "bar_style": "success",
            "max": 665,
            "_view_module": "@jupyter-widgets/controls",
            "_model_module_version": "1.5.0",
            "value": 665,
            "_view_count": null,
            "_view_module_version": "1.5.0",
            "orientation": "horizontal",
            "min": 0,
            "description_tooltip": null,
            "_model_module": "@jupyter-widgets/controls",
            "layout": "IPY_MODEL_ac21aaf783a240998932349497a63bc8"
          }
        },
        "970921d3b180436ba9431e2fa37eeee6": {
          "model_module": "@jupyter-widgets/controls",
          "model_name": "HTMLModel",
          "state": {
            "_view_name": "HTMLView",
            "style": "IPY_MODEL_a64c58888dc74ed393859dbe5ccdb7a6",
            "_dom_classes": [],
            "description": "",
            "_model_name": "HTMLModel",
            "placeholder": "​",
            "_view_module": "@jupyter-widgets/controls",
            "_model_module_version": "1.5.0",
            "value": " 665/665 [00:00&lt;00:00, 2.44kB/s]",
            "_view_count": null,
            "_view_module_version": "1.5.0",
            "description_tooltip": null,
            "_model_module": "@jupyter-widgets/controls",
            "layout": "IPY_MODEL_4897b601055e4d899dea36ff8bc11fc3"
          }
        },
        "c1158fdc2a724168b5cca839177524f1": {
          "model_module": "@jupyter-widgets/controls",
          "model_name": "ProgressStyleModel",
          "state": {
            "_view_name": "StyleView",
            "_model_name": "ProgressStyleModel",
            "description_width": "initial",
            "_view_module": "@jupyter-widgets/base",
            "_model_module_version": "1.5.0",
            "_view_count": null,
            "_view_module_version": "1.2.0",
            "bar_color": null,
            "_model_module": "@jupyter-widgets/controls"
          }
        },
        "ac21aaf783a240998932349497a63bc8": {
          "model_module": "@jupyter-widgets/base",
          "model_name": "LayoutModel",
          "state": {
            "_view_name": "LayoutView",
            "grid_template_rows": null,
            "right": null,
            "justify_content": null,
            "_view_module": "@jupyter-widgets/base",
            "overflow": null,
            "_model_module_version": "1.2.0",
            "_view_count": null,
            "flex_flow": null,
            "width": null,
            "min_width": null,
            "border": null,
            "align_items": null,
            "bottom": null,
            "_model_module": "@jupyter-widgets/base",
            "top": null,
            "grid_column": null,
            "overflow_y": null,
            "overflow_x": null,
            "grid_auto_flow": null,
            "grid_area": null,
            "grid_template_columns": null,
            "flex": null,
            "_model_name": "LayoutModel",
            "justify_items": null,
            "grid_row": null,
            "max_height": null,
            "align_content": null,
            "visibility": null,
            "align_self": null,
            "height": null,
            "min_height": null,
            "padding": null,
            "grid_auto_rows": null,
            "grid_gap": null,
            "max_width": null,
            "order": null,
            "_view_module_version": "1.2.0",
            "grid_template_areas": null,
            "object_position": null,
            "object_fit": null,
            "grid_auto_columns": null,
            "margin": null,
            "display": null,
            "left": null
          }
        },
        "a64c58888dc74ed393859dbe5ccdb7a6": {
          "model_module": "@jupyter-widgets/controls",
          "model_name": "DescriptionStyleModel",
          "state": {
            "_view_name": "StyleView",
            "_model_name": "DescriptionStyleModel",
            "description_width": "",
            "_view_module": "@jupyter-widgets/base",
            "_model_module_version": "1.5.0",
            "_view_count": null,
            "_view_module_version": "1.2.0",
            "_model_module": "@jupyter-widgets/controls"
          }
        },
        "4897b601055e4d899dea36ff8bc11fc3": {
          "model_module": "@jupyter-widgets/base",
          "model_name": "LayoutModel",
          "state": {
            "_view_name": "LayoutView",
            "grid_template_rows": null,
            "right": null,
            "justify_content": null,
            "_view_module": "@jupyter-widgets/base",
            "overflow": null,
            "_model_module_version": "1.2.0",
            "_view_count": null,
            "flex_flow": null,
            "width": null,
            "min_width": null,
            "border": null,
            "align_items": null,
            "bottom": null,
            "_model_module": "@jupyter-widgets/base",
            "top": null,
            "grid_column": null,
            "overflow_y": null,
            "overflow_x": null,
            "grid_auto_flow": null,
            "grid_area": null,
            "grid_template_columns": null,
            "flex": null,
            "_model_name": "LayoutModel",
            "justify_items": null,
            "grid_row": null,
            "max_height": null,
            "align_content": null,
            "visibility": null,
            "align_self": null,
            "height": null,
            "min_height": null,
            "padding": null,
            "grid_auto_rows": null,
            "grid_gap": null,
            "max_width": null,
            "order": null,
            "_view_module_version": "1.2.0",
            "grid_template_areas": null,
            "object_position": null,
            "object_fit": null,
            "grid_auto_columns": null,
            "margin": null,
            "display": null,
            "left": null
          }
        },
        "bd2e9405c2334f78aa45f189189e2dd8": {
          "model_module": "@jupyter-widgets/controls",
          "model_name": "HBoxModel",
          "state": {
            "_view_name": "HBoxView",
            "_dom_classes": [],
            "_model_name": "HBoxModel",
            "_view_module": "@jupyter-widgets/controls",
            "_model_module_version": "1.5.0",
            "_view_count": null,
            "_view_module_version": "1.5.0",
            "box_style": "",
            "layout": "IPY_MODEL_3e6451c2e76f4be68165a3f40152da87",
            "_model_module": "@jupyter-widgets/controls",
            "children": [
              "IPY_MODEL_af17203c751d4d1388e4907658ea6b42",
              "IPY_MODEL_ec53cb27ea374cf7976cb8c1da9d2059"
            ]
          }
        },
        "3e6451c2e76f4be68165a3f40152da87": {
          "model_module": "@jupyter-widgets/base",
          "model_name": "LayoutModel",
          "state": {
            "_view_name": "LayoutView",
            "grid_template_rows": null,
            "right": null,
            "justify_content": null,
            "_view_module": "@jupyter-widgets/base",
            "overflow": null,
            "_model_module_version": "1.2.0",
            "_view_count": null,
            "flex_flow": null,
            "width": null,
            "min_width": null,
            "border": null,
            "align_items": null,
            "bottom": null,
            "_model_module": "@jupyter-widgets/base",
            "top": null,
            "grid_column": null,
            "overflow_y": null,
            "overflow_x": null,
            "grid_auto_flow": null,
            "grid_area": null,
            "grid_template_columns": null,
            "flex": null,
            "_model_name": "LayoutModel",
            "justify_items": null,
            "grid_row": null,
            "max_height": null,
            "align_content": null,
            "visibility": null,
            "align_self": null,
            "height": null,
            "min_height": null,
            "padding": null,
            "grid_auto_rows": null,
            "grid_gap": null,
            "max_width": null,
            "order": null,
            "_view_module_version": "1.2.0",
            "grid_template_areas": null,
            "object_position": null,
            "object_fit": null,
            "grid_auto_columns": null,
            "margin": null,
            "display": null,
            "left": null
          }
        },
        "af17203c751d4d1388e4907658ea6b42": {
          "model_module": "@jupyter-widgets/controls",
          "model_name": "FloatProgressModel",
          "state": {
            "_view_name": "ProgressView",
            "style": "IPY_MODEL_b8374040ab2a477eb23526016783f490",
            "_dom_classes": [],
            "description": "Downloading: 100%",
            "_model_name": "FloatProgressModel",
            "bar_style": "success",
            "max": 1042301,
            "_view_module": "@jupyter-widgets/controls",
            "_model_module_version": "1.5.0",
            "value": 1042301,
            "_view_count": null,
            "_view_module_version": "1.5.0",
            "orientation": "horizontal",
            "min": 0,
            "description_tooltip": null,
            "_model_module": "@jupyter-widgets/controls",
            "layout": "IPY_MODEL_d84f7d7ae2b34f86a759613567e925f0"
          }
        },
        "ec53cb27ea374cf7976cb8c1da9d2059": {
          "model_module": "@jupyter-widgets/controls",
          "model_name": "HTMLModel",
          "state": {
            "_view_name": "HTMLView",
            "style": "IPY_MODEL_f26c44d1eae74c15b000c7e2ba8021f3",
            "_dom_classes": [],
            "description": "",
            "_model_name": "HTMLModel",
            "placeholder": "​",
            "_view_module": "@jupyter-widgets/controls",
            "_model_module_version": "1.5.0",
            "value": " 1.04M/1.04M [03:35&lt;00:00, 4.84kB/s]",
            "_view_count": null,
            "_view_module_version": "1.5.0",
            "description_tooltip": null,
            "_model_module": "@jupyter-widgets/controls",
            "layout": "IPY_MODEL_46c21e29e56f490aaf1d7cceae34906d"
          }
        },
        "b8374040ab2a477eb23526016783f490": {
          "model_module": "@jupyter-widgets/controls",
          "model_name": "ProgressStyleModel",
          "state": {
            "_view_name": "StyleView",
            "_model_name": "ProgressStyleModel",
            "description_width": "initial",
            "_view_module": "@jupyter-widgets/base",
            "_model_module_version": "1.5.0",
            "_view_count": null,
            "_view_module_version": "1.2.0",
            "bar_color": null,
            "_model_module": "@jupyter-widgets/controls"
          }
        },
        "d84f7d7ae2b34f86a759613567e925f0": {
          "model_module": "@jupyter-widgets/base",
          "model_name": "LayoutModel",
          "state": {
            "_view_name": "LayoutView",
            "grid_template_rows": null,
            "right": null,
            "justify_content": null,
            "_view_module": "@jupyter-widgets/base",
            "overflow": null,
            "_model_module_version": "1.2.0",
            "_view_count": null,
            "flex_flow": null,
            "width": null,
            "min_width": null,
            "border": null,
            "align_items": null,
            "bottom": null,
            "_model_module": "@jupyter-widgets/base",
            "top": null,
            "grid_column": null,
            "overflow_y": null,
            "overflow_x": null,
            "grid_auto_flow": null,
            "grid_area": null,
            "grid_template_columns": null,
            "flex": null,
            "_model_name": "LayoutModel",
            "justify_items": null,
            "grid_row": null,
            "max_height": null,
            "align_content": null,
            "visibility": null,
            "align_self": null,
            "height": null,
            "min_height": null,
            "padding": null,
            "grid_auto_rows": null,
            "grid_gap": null,
            "max_width": null,
            "order": null,
            "_view_module_version": "1.2.0",
            "grid_template_areas": null,
            "object_position": null,
            "object_fit": null,
            "grid_auto_columns": null,
            "margin": null,
            "display": null,
            "left": null
          }
        },
        "f26c44d1eae74c15b000c7e2ba8021f3": {
          "model_module": "@jupyter-widgets/controls",
          "model_name": "DescriptionStyleModel",
          "state": {
            "_view_name": "StyleView",
            "_model_name": "DescriptionStyleModel",
            "description_width": "",
            "_view_module": "@jupyter-widgets/base",
            "_model_module_version": "1.5.0",
            "_view_count": null,
            "_view_module_version": "1.2.0",
            "_model_module": "@jupyter-widgets/controls"
          }
        },
        "46c21e29e56f490aaf1d7cceae34906d": {
          "model_module": "@jupyter-widgets/base",
          "model_name": "LayoutModel",
          "state": {
            "_view_name": "LayoutView",
            "grid_template_rows": null,
            "right": null,
            "justify_content": null,
            "_view_module": "@jupyter-widgets/base",
            "overflow": null,
            "_model_module_version": "1.2.0",
            "_view_count": null,
            "flex_flow": null,
            "width": null,
            "min_width": null,
            "border": null,
            "align_items": null,
            "bottom": null,
            "_model_module": "@jupyter-widgets/base",
            "top": null,
            "grid_column": null,
            "overflow_y": null,
            "overflow_x": null,
            "grid_auto_flow": null,
            "grid_area": null,
            "grid_template_columns": null,
            "flex": null,
            "_model_name": "LayoutModel",
            "justify_items": null,
            "grid_row": null,
            "max_height": null,
            "align_content": null,
            "visibility": null,
            "align_self": null,
            "height": null,
            "min_height": null,
            "padding": null,
            "grid_auto_rows": null,
            "grid_gap": null,
            "max_width": null,
            "order": null,
            "_view_module_version": "1.2.0",
            "grid_template_areas": null,
            "object_position": null,
            "object_fit": null,
            "grid_auto_columns": null,
            "margin": null,
            "display": null,
            "left": null
          }
        },
        "8c838d95f3464592beeef1d66a672566": {
          "model_module": "@jupyter-widgets/controls",
          "model_name": "HBoxModel",
          "state": {
            "_view_name": "HBoxView",
            "_dom_classes": [],
            "_model_name": "HBoxModel",
            "_view_module": "@jupyter-widgets/controls",
            "_model_module_version": "1.5.0",
            "_view_count": null,
            "_view_module_version": "1.5.0",
            "box_style": "",
            "layout": "IPY_MODEL_95f7ac9ebf8942059df3f3c3b37df3f5",
            "_model_module": "@jupyter-widgets/controls",
            "children": [
              "IPY_MODEL_599337ff087742cab2ded2f015dd9653",
              "IPY_MODEL_b7067e350166459ba01b10e28f69e1b1"
            ]
          }
        },
        "95f7ac9ebf8942059df3f3c3b37df3f5": {
          "model_module": "@jupyter-widgets/base",
          "model_name": "LayoutModel",
          "state": {
            "_view_name": "LayoutView",
            "grid_template_rows": null,
            "right": null,
            "justify_content": null,
            "_view_module": "@jupyter-widgets/base",
            "overflow": null,
            "_model_module_version": "1.2.0",
            "_view_count": null,
            "flex_flow": null,
            "width": null,
            "min_width": null,
            "border": null,
            "align_items": null,
            "bottom": null,
            "_model_module": "@jupyter-widgets/base",
            "top": null,
            "grid_column": null,
            "overflow_y": null,
            "overflow_x": null,
            "grid_auto_flow": null,
            "grid_area": null,
            "grid_template_columns": null,
            "flex": null,
            "_model_name": "LayoutModel",
            "justify_items": null,
            "grid_row": null,
            "max_height": null,
            "align_content": null,
            "visibility": null,
            "align_self": null,
            "height": null,
            "min_height": null,
            "padding": null,
            "grid_auto_rows": null,
            "grid_gap": null,
            "max_width": null,
            "order": null,
            "_view_module_version": "1.2.0",
            "grid_template_areas": null,
            "object_position": null,
            "object_fit": null,
            "grid_auto_columns": null,
            "margin": null,
            "display": null,
            "left": null
          }
        },
        "599337ff087742cab2ded2f015dd9653": {
          "model_module": "@jupyter-widgets/controls",
          "model_name": "FloatProgressModel",
          "state": {
            "_view_name": "ProgressView",
            "style": "IPY_MODEL_3f8c72d595984d6e8a3e451023ea2c46",
            "_dom_classes": [],
            "description": "Downloading: 100%",
            "_model_name": "FloatProgressModel",
            "bar_style": "success",
            "max": 456318,
            "_view_module": "@jupyter-widgets/controls",
            "_model_module_version": "1.5.0",
            "value": 456318,
            "_view_count": null,
            "_view_module_version": "1.5.0",
            "orientation": "horizontal",
            "min": 0,
            "description_tooltip": null,
            "_model_module": "@jupyter-widgets/controls",
            "layout": "IPY_MODEL_e837e928134c44e89481d7ed98d95700"
          }
        },
        "b7067e350166459ba01b10e28f69e1b1": {
          "model_module": "@jupyter-widgets/controls",
          "model_name": "HTMLModel",
          "state": {
            "_view_name": "HTMLView",
            "style": "IPY_MODEL_7729c594553c4930bb1ad7404fc2f0a7",
            "_dom_classes": [],
            "description": "",
            "_model_name": "HTMLModel",
            "placeholder": "​",
            "_view_module": "@jupyter-widgets/controls",
            "_model_module_version": "1.5.0",
            "value": " 456k/456k [00:03&lt;00:00, 142kB/s]",
            "_view_count": null,
            "_view_module_version": "1.5.0",
            "description_tooltip": null,
            "_model_module": "@jupyter-widgets/controls",
            "layout": "IPY_MODEL_2afeabc0ba9d4f9aba7527e5d34688c8"
          }
        },
        "3f8c72d595984d6e8a3e451023ea2c46": {
          "model_module": "@jupyter-widgets/controls",
          "model_name": "ProgressStyleModel",
          "state": {
            "_view_name": "StyleView",
            "_model_name": "ProgressStyleModel",
            "description_width": "initial",
            "_view_module": "@jupyter-widgets/base",
            "_model_module_version": "1.5.0",
            "_view_count": null,
            "_view_module_version": "1.2.0",
            "bar_color": null,
            "_model_module": "@jupyter-widgets/controls"
          }
        },
        "e837e928134c44e89481d7ed98d95700": {
          "model_module": "@jupyter-widgets/base",
          "model_name": "LayoutModel",
          "state": {
            "_view_name": "LayoutView",
            "grid_template_rows": null,
            "right": null,
            "justify_content": null,
            "_view_module": "@jupyter-widgets/base",
            "overflow": null,
            "_model_module_version": "1.2.0",
            "_view_count": null,
            "flex_flow": null,
            "width": null,
            "min_width": null,
            "border": null,
            "align_items": null,
            "bottom": null,
            "_model_module": "@jupyter-widgets/base",
            "top": null,
            "grid_column": null,
            "overflow_y": null,
            "overflow_x": null,
            "grid_auto_flow": null,
            "grid_area": null,
            "grid_template_columns": null,
            "flex": null,
            "_model_name": "LayoutModel",
            "justify_items": null,
            "grid_row": null,
            "max_height": null,
            "align_content": null,
            "visibility": null,
            "align_self": null,
            "height": null,
            "min_height": null,
            "padding": null,
            "grid_auto_rows": null,
            "grid_gap": null,
            "max_width": null,
            "order": null,
            "_view_module_version": "1.2.0",
            "grid_template_areas": null,
            "object_position": null,
            "object_fit": null,
            "grid_auto_columns": null,
            "margin": null,
            "display": null,
            "left": null
          }
        },
        "7729c594553c4930bb1ad7404fc2f0a7": {
          "model_module": "@jupyter-widgets/controls",
          "model_name": "DescriptionStyleModel",
          "state": {
            "_view_name": "StyleView",
            "_model_name": "DescriptionStyleModel",
            "description_width": "",
            "_view_module": "@jupyter-widgets/base",
            "_model_module_version": "1.5.0",
            "_view_count": null,
            "_view_module_version": "1.2.0",
            "_model_module": "@jupyter-widgets/controls"
          }
        },
        "2afeabc0ba9d4f9aba7527e5d34688c8": {
          "model_module": "@jupyter-widgets/base",
          "model_name": "LayoutModel",
          "state": {
            "_view_name": "LayoutView",
            "grid_template_rows": null,
            "right": null,
            "justify_content": null,
            "_view_module": "@jupyter-widgets/base",
            "overflow": null,
            "_model_module_version": "1.2.0",
            "_view_count": null,
            "flex_flow": null,
            "width": null,
            "min_width": null,
            "border": null,
            "align_items": null,
            "bottom": null,
            "_model_module": "@jupyter-widgets/base",
            "top": null,
            "grid_column": null,
            "overflow_y": null,
            "overflow_x": null,
            "grid_auto_flow": null,
            "grid_area": null,
            "grid_template_columns": null,
            "flex": null,
            "_model_name": "LayoutModel",
            "justify_items": null,
            "grid_row": null,
            "max_height": null,
            "align_content": null,
            "visibility": null,
            "align_self": null,
            "height": null,
            "min_height": null,
            "padding": null,
            "grid_auto_rows": null,
            "grid_gap": null,
            "max_width": null,
            "order": null,
            "_view_module_version": "1.2.0",
            "grid_template_areas": null,
            "object_position": null,
            "object_fit": null,
            "grid_auto_columns": null,
            "margin": null,
            "display": null,
            "left": null
          }
        },
        "19a9ef58d1114c56a705aabb95114bc2": {
          "model_module": "@jupyter-widgets/controls",
          "model_name": "HBoxModel",
          "state": {
            "_view_name": "HBoxView",
            "_dom_classes": [],
            "_model_name": "HBoxModel",
            "_view_module": "@jupyter-widgets/controls",
            "_model_module_version": "1.5.0",
            "_view_count": null,
            "_view_module_version": "1.5.0",
            "box_style": "",
            "layout": "IPY_MODEL_8f43b9af586b45b1bf7f35d85e809934",
            "_model_module": "@jupyter-widgets/controls",
            "children": [
              "IPY_MODEL_adae126b87064057951eb8263ccd64ea",
              "IPY_MODEL_6361f5f2562a4d48be297302d0b9142e"
            ]
          }
        },
        "8f43b9af586b45b1bf7f35d85e809934": {
          "model_module": "@jupyter-widgets/base",
          "model_name": "LayoutModel",
          "state": {
            "_view_name": "LayoutView",
            "grid_template_rows": null,
            "right": null,
            "justify_content": null,
            "_view_module": "@jupyter-widgets/base",
            "overflow": null,
            "_model_module_version": "1.2.0",
            "_view_count": null,
            "flex_flow": null,
            "width": null,
            "min_width": null,
            "border": null,
            "align_items": null,
            "bottom": null,
            "_model_module": "@jupyter-widgets/base",
            "top": null,
            "grid_column": null,
            "overflow_y": null,
            "overflow_x": null,
            "grid_auto_flow": null,
            "grid_area": null,
            "grid_template_columns": null,
            "flex": null,
            "_model_name": "LayoutModel",
            "justify_items": null,
            "grid_row": null,
            "max_height": null,
            "align_content": null,
            "visibility": null,
            "align_self": null,
            "height": null,
            "min_height": null,
            "padding": null,
            "grid_auto_rows": null,
            "grid_gap": null,
            "max_width": null,
            "order": null,
            "_view_module_version": "1.2.0",
            "grid_template_areas": null,
            "object_position": null,
            "object_fit": null,
            "grid_auto_columns": null,
            "margin": null,
            "display": null,
            "left": null
          }
        },
        "adae126b87064057951eb8263ccd64ea": {
          "model_module": "@jupyter-widgets/controls",
          "model_name": "FloatProgressModel",
          "state": {
            "_view_name": "ProgressView",
            "style": "IPY_MODEL_18a1c717faaf4e3a8c4e2bc75ac33d4f",
            "_dom_classes": [],
            "description": "Downloading: 100%",
            "_model_name": "FloatProgressModel",
            "bar_style": "success",
            "max": 1355256,
            "_view_module": "@jupyter-widgets/controls",
            "_model_module_version": "1.5.0",
            "value": 1355256,
            "_view_count": null,
            "_view_module_version": "1.5.0",
            "orientation": "horizontal",
            "min": 0,
            "description_tooltip": null,
            "_model_module": "@jupyter-widgets/controls",
            "layout": "IPY_MODEL_081b5847335b434f8076857d293aa0a2"
          }
        },
        "6361f5f2562a4d48be297302d0b9142e": {
          "model_module": "@jupyter-widgets/controls",
          "model_name": "HTMLModel",
          "state": {
            "_view_name": "HTMLView",
            "style": "IPY_MODEL_a91a852942954103b8cc0084e21d9cfb",
            "_dom_classes": [],
            "description": "",
            "_model_name": "HTMLModel",
            "placeholder": "​",
            "_view_module": "@jupyter-widgets/controls",
            "_model_module_version": "1.5.0",
            "value": " 1.36M/1.36M [00:02&lt;00:00, 456kB/s]",
            "_view_count": null,
            "_view_module_version": "1.5.0",
            "description_tooltip": null,
            "_model_module": "@jupyter-widgets/controls",
            "layout": "IPY_MODEL_538d766c4a3f482395690c6ccd77bc6f"
          }
        },
        "18a1c717faaf4e3a8c4e2bc75ac33d4f": {
          "model_module": "@jupyter-widgets/controls",
          "model_name": "ProgressStyleModel",
          "state": {
            "_view_name": "StyleView",
            "_model_name": "ProgressStyleModel",
            "description_width": "initial",
            "_view_module": "@jupyter-widgets/base",
            "_model_module_version": "1.5.0",
            "_view_count": null,
            "_view_module_version": "1.2.0",
            "bar_color": null,
            "_model_module": "@jupyter-widgets/controls"
          }
        },
        "081b5847335b434f8076857d293aa0a2": {
          "model_module": "@jupyter-widgets/base",
          "model_name": "LayoutModel",
          "state": {
            "_view_name": "LayoutView",
            "grid_template_rows": null,
            "right": null,
            "justify_content": null,
            "_view_module": "@jupyter-widgets/base",
            "overflow": null,
            "_model_module_version": "1.2.0",
            "_view_count": null,
            "flex_flow": null,
            "width": null,
            "min_width": null,
            "border": null,
            "align_items": null,
            "bottom": null,
            "_model_module": "@jupyter-widgets/base",
            "top": null,
            "grid_column": null,
            "overflow_y": null,
            "overflow_x": null,
            "grid_auto_flow": null,
            "grid_area": null,
            "grid_template_columns": null,
            "flex": null,
            "_model_name": "LayoutModel",
            "justify_items": null,
            "grid_row": null,
            "max_height": null,
            "align_content": null,
            "visibility": null,
            "align_self": null,
            "height": null,
            "min_height": null,
            "padding": null,
            "grid_auto_rows": null,
            "grid_gap": null,
            "max_width": null,
            "order": null,
            "_view_module_version": "1.2.0",
            "grid_template_areas": null,
            "object_position": null,
            "object_fit": null,
            "grid_auto_columns": null,
            "margin": null,
            "display": null,
            "left": null
          }
        },
        "a91a852942954103b8cc0084e21d9cfb": {
          "model_module": "@jupyter-widgets/controls",
          "model_name": "DescriptionStyleModel",
          "state": {
            "_view_name": "StyleView",
            "_model_name": "DescriptionStyleModel",
            "description_width": "",
            "_view_module": "@jupyter-widgets/base",
            "_model_module_version": "1.5.0",
            "_view_count": null,
            "_view_module_version": "1.2.0",
            "_model_module": "@jupyter-widgets/controls"
          }
        },
        "538d766c4a3f482395690c6ccd77bc6f": {
          "model_module": "@jupyter-widgets/base",
          "model_name": "LayoutModel",
          "state": {
            "_view_name": "LayoutView",
            "grid_template_rows": null,
            "right": null,
            "justify_content": null,
            "_view_module": "@jupyter-widgets/base",
            "overflow": null,
            "_model_module_version": "1.2.0",
            "_view_count": null,
            "flex_flow": null,
            "width": null,
            "min_width": null,
            "border": null,
            "align_items": null,
            "bottom": null,
            "_model_module": "@jupyter-widgets/base",
            "top": null,
            "grid_column": null,
            "overflow_y": null,
            "overflow_x": null,
            "grid_auto_flow": null,
            "grid_area": null,
            "grid_template_columns": null,
            "flex": null,
            "_model_name": "LayoutModel",
            "justify_items": null,
            "grid_row": null,
            "max_height": null,
            "align_content": null,
            "visibility": null,
            "align_self": null,
            "height": null,
            "min_height": null,
            "padding": null,
            "grid_auto_rows": null,
            "grid_gap": null,
            "max_width": null,
            "order": null,
            "_view_module_version": "1.2.0",
            "grid_template_areas": null,
            "object_position": null,
            "object_fit": null,
            "grid_auto_columns": null,
            "margin": null,
            "display": null,
            "left": null
          }
        }
      }
    }
  },
  "cells": [
    {
      "cell_type": "markdown",
      "metadata": {
        "id": "view-in-github",
        "colab_type": "text"
      },
      "source": [
        "<a href=\"https://colab.research.google.com/github/catPotat/rn-hg-gpt2-playground/blob/main/Huggingface_GPT_2_Evaluating.ipynb\" target=\"_parent\"><img src=\"https://colab.research.google.com/assets/colab-badge.svg\" alt=\"Open In Colab\"/></a>"
      ]
    },
    {
      "cell_type": "markdown",
      "metadata": {
        "id": "gZnDd7oM_To6"
      },
      "source": [
        " ## Initialize"
      ]
    },
    {
      "cell_type": "code",
      "metadata": {
        "id": "xGTCFOMh_Y0X"
      },
      "source": [
        "from google.colab import drive\n",
        "drive.mount('/content/drive')"
      ],
      "execution_count": null,
      "outputs": []
    },
    {
      "cell_type": "code",
      "metadata": {
        "id": "7IRXqT5z_TKj",
        "colab": {
          "base_uri": "https://localhost:8080/"
        },
        "outputId": "8011f434-4f32-461a-a667-fa85f4b2b833"
      },
      "source": [
        "!pip install transformers\n",
        "!pip install nlp\n",
        "# !pip install datasets\n",
        "!pip install python-dotenv\n",
        "try:\n",
        "    from google.colab import output\n",
        "    output.clear()\n",
        "except: pass\n",
        "import os\n",
        "from dotenv import load_dotenv\n",
        "!cp 'drive/MyDrive/.env.gdrive' '.env'\n",
        "load_dotenv()"
      ],
      "execution_count": 2,
      "outputs": [
        {
          "output_type": "stream",
          "text": [
            "cp: cannot stat 'drive/MyDrive/.env.gdrive': No such file or directory\n"
          ],
          "name": "stdout"
        },
        {
          "output_type": "execute_result",
          "data": {
            "text/plain": [
              "True"
            ]
          },
          "metadata": {
            "tags": []
          },
          "execution_count": 2
        }
      ]
    },
    {
      "cell_type": "code",
      "metadata": {
        "id": "O4L5USzE_ddo"
      },
      "source": [
        "MODEL_NAME = 'gpt2'\n",
        "MODEL_SAVE_PATH = ''\n",
        "TOK_PATH = MODEL_SAVE_PATH + \"tok/\""
      ],
      "execution_count": 5,
      "outputs": []
    },
    {
      "cell_type": "markdown",
      "metadata": {
        "id": "B_KjnFF5-Lua"
      },
      "source": [
        "## PPL"
      ]
    },
    {
      "cell_type": "markdown",
      "metadata": {
        "id": "jbQykfyoqqW8"
      },
      "source": [
        "Pretrained tokenizer"
      ]
    },
    {
      "cell_type": "code",
      "metadata": {
        "colab": {
          "base_uri": "https://localhost:8080/",
          "height": 230,
          "referenced_widgets": [
            "e22221b3677c470a8606f264d99804b2",
            "6830ef636b2140d59ed027367e005fc1",
            "1adea81713954ddab7a86cb01d21194d",
            "970921d3b180436ba9431e2fa37eeee6",
            "c1158fdc2a724168b5cca839177524f1",
            "ac21aaf783a240998932349497a63bc8",
            "a64c58888dc74ed393859dbe5ccdb7a6",
            "4897b601055e4d899dea36ff8bc11fc3",
            "bd2e9405c2334f78aa45f189189e2dd8",
            "3e6451c2e76f4be68165a3f40152da87",
            "af17203c751d4d1388e4907658ea6b42",
            "ec53cb27ea374cf7976cb8c1da9d2059",
            "b8374040ab2a477eb23526016783f490",
            "d84f7d7ae2b34f86a759613567e925f0",
            "f26c44d1eae74c15b000c7e2ba8021f3",
            "46c21e29e56f490aaf1d7cceae34906d",
            "8c838d95f3464592beeef1d66a672566",
            "95f7ac9ebf8942059df3f3c3b37df3f5",
            "599337ff087742cab2ded2f015dd9653",
            "b7067e350166459ba01b10e28f69e1b1",
            "3f8c72d595984d6e8a3e451023ea2c46",
            "e837e928134c44e89481d7ed98d95700",
            "7729c594553c4930bb1ad7404fc2f0a7",
            "2afeabc0ba9d4f9aba7527e5d34688c8",
            "19a9ef58d1114c56a705aabb95114bc2",
            "8f43b9af586b45b1bf7f35d85e809934",
            "adae126b87064057951eb8263ccd64ea",
            "6361f5f2562a4d48be297302d0b9142e",
            "18a1c717faaf4e3a8c4e2bc75ac33d4f",
            "081b5847335b434f8076857d293aa0a2",
            "a91a852942954103b8cc0084e21d9cfb",
            "538d766c4a3f482395690c6ccd77bc6f"
          ]
        },
        "id": "4Hgfs8dMqin9",
        "outputId": "956ca3f2-7f7f-47ad-acb3-9b9f42a94f59"
      },
      "source": [
        "from transformers import AutoTokenizer\n",
        "\n",
        "tokenizer = AutoTokenizer.from_pretrained(MODEL_NAME)\n",
        "tokenizer.pad_token = tokenizer.eos_token\n",
        "tokenizer.model_max_length = 128\n",
        "# tokenizer.set_truncation_and_padding(max_length=512)\n",
        "tokenizer.encode(\" 9 I J J : : J.J J J J J \")"
      ],
      "execution_count": 6,
      "outputs": [
        {
          "output_type": "display_data",
          "data": {
            "application/vnd.jupyter.widget-view+json": {
              "model_id": "e22221b3677c470a8606f264d99804b2",
              "version_minor": 0,
              "version_major": 2
            },
            "text/plain": [
              "HBox(children=(FloatProgress(value=0.0, description='Downloading', max=665.0, style=ProgressStyle(description_…"
            ]
          },
          "metadata": {
            "tags": []
          }
        },
        {
          "output_type": "stream",
          "text": [
            "\n"
          ],
          "name": "stdout"
        },
        {
          "output_type": "display_data",
          "data": {
            "application/vnd.jupyter.widget-view+json": {
              "model_id": "bd2e9405c2334f78aa45f189189e2dd8",
              "version_minor": 0,
              "version_major": 2
            },
            "text/plain": [
              "HBox(children=(FloatProgress(value=0.0, description='Downloading', max=1042301.0, style=ProgressStyle(descript…"
            ]
          },
          "metadata": {
            "tags": []
          }
        },
        {
          "output_type": "stream",
          "text": [
            "\n"
          ],
          "name": "stdout"
        },
        {
          "output_type": "display_data",
          "data": {
            "application/vnd.jupyter.widget-view+json": {
              "model_id": "8c838d95f3464592beeef1d66a672566",
              "version_minor": 0,
              "version_major": 2
            },
            "text/plain": [
              "HBox(children=(FloatProgress(value=0.0, description='Downloading', max=456318.0, style=ProgressStyle(descripti…"
            ]
          },
          "metadata": {
            "tags": []
          }
        },
        {
          "output_type": "stream",
          "text": [
            "\n"
          ],
          "name": "stdout"
        },
        {
          "output_type": "display_data",
          "data": {
            "application/vnd.jupyter.widget-view+json": {
              "model_id": "19a9ef58d1114c56a705aabb95114bc2",
              "version_minor": 0,
              "version_major": 2
            },
            "text/plain": [
              "HBox(children=(FloatProgress(value=0.0, description='Downloading', max=1355256.0, style=ProgressStyle(descript…"
            ]
          },
          "metadata": {
            "tags": []
          }
        },
        {
          "output_type": "stream",
          "text": [
            "\n"
          ],
          "name": "stdout"
        },
        {
          "output_type": "execute_result",
          "data": {
            "text/plain": [
              "[860, 314, 449, 449, 1058, 1058, 449, 13, 41, 449, 449, 449, 449, 220]"
            ]
          },
          "metadata": {
            "tags": []
          },
          "execution_count": 6
        }
      ]
    },
    {
      "cell_type": "code",
      "metadata": {
        "id": "onfStZmV-Cvz",
        "colab": {
          "base_uri": "https://localhost:8080/"
        },
        "outputId": "ae37ccbe-a64c-4135-afc3-8fdc724f03f8"
      },
      "source": [
        "from nlp import load_dataset\n",
        "from tqdm.notebook import tqdm\n",
        "from transformers import GPT2LMHeadModel\n",
        "\n",
        "test = load_dataset('wikitext', 'wikitext-2-raw-v1', split='test')\n",
        "encodings = tokenizer('\\n\\n'.join(test['text']), return_tensors='pt')\n",
        "stride = 512"
      ],
      "execution_count": 7,
      "outputs": [
        {
          "output_type": "stream",
          "text": [
            "Token indices sequence length is longer than the specified maximum sequence length for this model (287644 > 128). Running this sequence through the model will result in indexing errors\n"
          ],
          "name": "stderr"
        }
      ]
    },
    {
      "cell_type": "code",
      "metadata": {
        "colab": {
          "base_uri": "https://localhost:8080/"
        },
        "id": "pAAT8AF2rDPf",
        "outputId": "56bbe896-8734-4964-e4df-7352ad6972d8"
      },
      "source": [
        "test.__dir__()"
      ],
      "execution_count": 9,
      "outputs": [
        {
          "output_type": "execute_result",
          "data": {
            "text/plain": [
              "['_info',\n",
              " '_split',\n",
              " '_indexes',\n",
              " '_data',\n",
              " '_data_files',\n",
              " '_format_type',\n",
              " '_format_kwargs',\n",
              " '_format_columns',\n",
              " '_output_all_columns',\n",
              " '__module__',\n",
              " '__doc__',\n",
              " '__init__',\n",
              " 'from_file',\n",
              " 'from_buffer',\n",
              " 'from_pandas',\n",
              " 'from_dict',\n",
              " 'data',\n",
              " 'cache_files',\n",
              " 'columns',\n",
              " 'nbytes',\n",
              " 'num_columns',\n",
              " 'num_rows',\n",
              " 'column_names',\n",
              " 'shape',\n",
              " 'drop',\n",
              " 'unique',\n",
              " 'dictionary_encode_column',\n",
              " 'flatten',\n",
              " 'cast_',\n",
              " 'remove_column_',\n",
              " 'rename_column_',\n",
              " '__len__',\n",
              " '__iter__',\n",
              " '__repr__',\n",
              " 'format',\n",
              " 'formated_as',\n",
              " 'set_format',\n",
              " 'reset_format',\n",
              " '_convert_outputs',\n",
              " '_unnest',\n",
              " '_nest',\n",
              " '_getitem',\n",
              " '__getitem__',\n",
              " 'cleanup_cache_files',\n",
              " '_get_cache_file_path',\n",
              " 'map',\n",
              " 'filter',\n",
              " 'select',\n",
              " 'sort',\n",
              " 'shuffle',\n",
              " 'export',\n",
              " 'train_test_split',\n",
              " 'shard',\n",
              " 'add_faiss_index',\n",
              " 'add_faiss_index_from_external_arrays',\n",
              " 'add_elasticsearch_index',\n",
              " 'info',\n",
              " 'split',\n",
              " 'builder_name',\n",
              " 'citation',\n",
              " 'config_name',\n",
              " 'dataset_size',\n",
              " 'description',\n",
              " 'download_checksums',\n",
              " 'download_size',\n",
              " 'features',\n",
              " 'homepage',\n",
              " 'license',\n",
              " 'size_in_bytes',\n",
              " 'supervised_keys',\n",
              " 'version',\n",
              " '__dict__',\n",
              " '__weakref__',\n",
              " '__hash__',\n",
              " '__str__',\n",
              " '__getattribute__',\n",
              " '__setattr__',\n",
              " '__delattr__',\n",
              " '__lt__',\n",
              " '__le__',\n",
              " '__eq__',\n",
              " '__ne__',\n",
              " '__gt__',\n",
              " '__ge__',\n",
              " '__new__',\n",
              " '__reduce_ex__',\n",
              " '__reduce__',\n",
              " '__subclasshook__',\n",
              " '__init_subclass__',\n",
              " '__format__',\n",
              " '__sizeof__',\n",
              " '__dir__',\n",
              " '__class__',\n",
              " 'is_index_initialized',\n",
              " '_check_index_is_initialized',\n",
              " 'list_indexes',\n",
              " 'get_index',\n",
              " 'save_faiss_index',\n",
              " 'load_faiss_index',\n",
              " 'drop_index',\n",
              " 'search',\n",
              " 'search_batch',\n",
              " 'get_nearest_examples',\n",
              " 'get_nearest_examples_batch']"
            ]
          },
          "metadata": {
            "tags": []
          },
          "execution_count": 9
        }
      ]
    },
    {
      "cell_type": "code",
      "metadata": {
        "id": "8A14AaK6tD2A"
      },
      "source": [
        "to_compare = [\n",
        "    MODEL_NAME,\n",
        "    MODEL_SAVE_PATH,\n",
        "]\n",
        "for root, dirs, files in os.walk(MODEL_SAVE_PATH, topdown=False):\n",
        "    for name in dirs:\n",
        "        print(name)\n",
        "        model_path = os.path.join(root, name)\n",
        "        to_compare.append(model_path)"
      ],
      "execution_count": null,
      "outputs": []
    },
    {
      "cell_type": "code",
      "metadata": {
        "id": "whQQZHOh-IQi"
      },
      "source": [
        "for model_path in to_compare:\n",
        "    model = GPT2LMHeadModel.from_pretrained(model_path)\n",
        "    max_length = model.config.n_positions\n",
        "    model.to(\"cuda\")\n",
        "\n",
        "    lls = []\n",
        "    for i in tqdm(range(0, encodings.input_ids.size(1), stride)):\n",
        "        begin_loc = max(i + stride - max_length, 0)\n",
        "        end_loc = min(i + stride, encodings.input_ids.size(1))\n",
        "        trg_len = end_loc - i    # may be different from stride on last loop\n",
        "        input_ids = encodings.input_ids[:,begin_loc:end_loc].to(\"cuda\")\n",
        "        target_ids = input_ids.clone()\n",
        "        target_ids[:,:-trg_len] = -100\n",
        "\n",
        "        with torch.no_grad():\n",
        "            outputs = model(input_ids, labels=target_ids)\n",
        "            log_likelihood = outputs[0] * trg_len\n",
        "\n",
        "        lls.append(log_likelihood)\n",
        "\n",
        "    ppl = torch.exp(torch.stack(lls).sum() / end_loc)\n",
        "    print(ppl)"
      ],
      "execution_count": null,
      "outputs": []
    },
    {
      "cell_type": "markdown",
      "metadata": {
        "id": "eHIWZM8q-PNB"
      },
      "source": [
        "## Empirical"
      ]
    },
    {
      "cell_type": "code",
      "metadata": {
        "id": "lDjgkYJS-ilw"
      },
      "source": [
        "from transformers import pipeline, set_seed\n",
        "\n",
        "generator = pipeline('text-generation', model=MODEL_SAVE_PATH + '',\n",
        "                     tokenizer=tokenizer)\n",
        "set_seed(6110)"
      ],
      "execution_count": null,
      "outputs": []
    },
    {
      "cell_type": "code",
      "metadata": {
        "id": "Ykk5DboB-sC5"
      },
      "source": [
        "generator(\"\", max_length=50, num_return_sequences=5)"
      ],
      "execution_count": null,
      "outputs": []
    },
    {
      "cell_type": "markdown",
      "metadata": {
        "id": "o39DccwZ-t2x"
      },
      "source": [
        "https://github.com/huggingface/transformers/issues/1407"
      ]
    },
    {
      "cell_type": "markdown",
      "metadata": {
        "id": "FP81ATq5-pOZ"
      },
      "source": [
        "## iGPT"
      ]
    },
    {
      "cell_type": "code",
      "metadata": {
        "id": "hABlFtSu-xsg"
      },
      "source": [
        "CONTRAST = 64\n",
        "BRIGHTNESS = 24\n",
        "def reconstruct_from(text, path, img_w=0, img_h=0):\n",
        "    lines = text.split(LINE_SPLIT_CHAR)\n",
        "    width = img_w if img_w else len( max(lines, key=len) )\n",
        "    height = img_h if img_h else len(lines)\n",
        "    pixels = []\n",
        "    for y in range(height):\n",
        "        for x in range(width):\n",
        "            pixels.append((0, 0, 0, 0))\n",
        "    for index, line in enumerate(lines):\n",
        "        line = line.split(PIXEL_SPLIT_CHAR) if PIXEL_SPLIT_CHAR  else line\n",
        "        for x in range(len(line) - 1):\n",
        "            s = line[x + 1]\n",
        "            try:\n",
        "                if s == '~': continue\n",
        "                r = g = b = 0\n",
        "                c = ord(s[0])-CHAR_CODE_SHIFT\n",
        "                b = (c & 3) * CONTRAST + BRIGHTNESS\n",
        "                c = c >> 2\n",
        "                g = (c & 3) * CONTRAST + BRIGHTNESS\n",
        "                c = c >> 2\n",
        "                r = (c & 3) * CONTRAST + BRIGHTNESS\n",
        "                i = (index*width) + x\n",
        "                pixels[i] = (r, g, b, 255)\n",
        "            except: \n",
        "                print('fuck')\n",
        "    image = Image.new('RGBA', (width, height))\n",
        "    image.putdata(pixels)\n",
        "    image.save(path)\n",
        "    return image\n",
        "# reconstruct_from(text_entries[-1], \"test.png\")"
      ],
      "execution_count": null,
      "outputs": []
    },
    {
      "cell_type": "code",
      "metadata": {
        "id": "9c4yb5rj-y3i"
      },
      "source": [
        "genner = generator(\"\", max_length=950, num_return_sequences=5)"
      ],
      "execution_count": null,
      "outputs": []
    },
    {
      "cell_type": "code",
      "metadata": {
        "id": "EZuuBCui-z6q"
      },
      "source": [
        "i = 4"
      ],
      "execution_count": null,
      "outputs": []
    },
    {
      "cell_type": "code",
      "metadata": {
        "id": "Rxq-LeAj-0z5"
      },
      "source": [
        "reconstruct_from(genner[i]['generated_text'].strip(), \"generated.png\")"
      ],
      "execution_count": null,
      "outputs": []
    },
    {
      "cell_type": "code",
      "metadata": {
        "id": "UJF52gz0-10p"
      },
      "source": [
        "reconstruct_from(genner[i]['generated_text'].strip(), \"generated.png\", IMG_WIDTH, IMG_HEIGHT)"
      ],
      "execution_count": null,
      "outputs": []
    }
  ]
}