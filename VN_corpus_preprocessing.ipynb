{
  "nbformat": 4,
  "nbformat_minor": 0,
  "metadata": {
    "colab": {
      "name": "VN-corpus-preprocessing.ipynb",
      "provenance": [],
      "collapsed_sections": [],
      "toc_visible": true,
      "include_colab_link": true
    },
    "kernelspec": {
      "display_name": "Python 3",
      "name": "python3"
    },
    "widgets": {
      "application/vnd.jupyter.widget-state+json": {
        "6d55df52eed24219b54bd70d7ea8172c": {
          "model_module": "@jupyter-widgets/controls",
          "model_name": "HBoxModel",
          "state": {
            "_view_name": "HBoxView",
            "_dom_classes": [],
            "_model_name": "HBoxModel",
            "_view_module": "@jupyter-widgets/controls",
            "_model_module_version": "1.5.0",
            "_view_count": null,
            "_view_module_version": "1.5.0",
            "box_style": "",
            "layout": "IPY_MODEL_b65b1d882fb744979c7bdbdad939aedc",
            "_model_module": "@jupyter-widgets/controls",
            "children": [
              "IPY_MODEL_d636d444150a48e68f57bed5b6fcc14a",
              "IPY_MODEL_7005baa7dd9849e9b47901481ee74a22"
            ]
          }
        },
        "b65b1d882fb744979c7bdbdad939aedc": {
          "model_module": "@jupyter-widgets/base",
          "model_name": "LayoutModel",
          "state": {
            "_view_name": "LayoutView",
            "grid_template_rows": null,
            "right": null,
            "justify_content": null,
            "_view_module": "@jupyter-widgets/base",
            "overflow": null,
            "_model_module_version": "1.2.0",
            "_view_count": null,
            "flex_flow": null,
            "width": null,
            "min_width": null,
            "border": null,
            "align_items": null,
            "bottom": null,
            "_model_module": "@jupyter-widgets/base",
            "top": null,
            "grid_column": null,
            "overflow_y": null,
            "overflow_x": null,
            "grid_auto_flow": null,
            "grid_area": null,
            "grid_template_columns": null,
            "flex": null,
            "_model_name": "LayoutModel",
            "justify_items": null,
            "grid_row": null,
            "max_height": null,
            "align_content": null,
            "visibility": null,
            "align_self": null,
            "height": null,
            "min_height": null,
            "padding": null,
            "grid_auto_rows": null,
            "grid_gap": null,
            "max_width": null,
            "order": null,
            "_view_module_version": "1.2.0",
            "grid_template_areas": null,
            "object_position": null,
            "object_fit": null,
            "grid_auto_columns": null,
            "margin": null,
            "display": null,
            "left": null
          }
        },
        "d636d444150a48e68f57bed5b6fcc14a": {
          "model_module": "@jupyter-widgets/controls",
          "model_name": "FloatProgressModel",
          "state": {
            "_view_name": "ProgressView",
            "style": "IPY_MODEL_4a85c32684af403e8a9e540e0cd80c6d",
            "_dom_classes": [],
            "description": " 46%",
            "_model_name": "FloatProgressModel",
            "bar_style": "danger",
            "max": 111,
            "_view_module": "@jupyter-widgets/controls",
            "_model_module_version": "1.5.0",
            "value": 51,
            "_view_count": null,
            "_view_module_version": "1.5.0",
            "orientation": "horizontal",
            "min": 0,
            "description_tooltip": null,
            "_model_module": "@jupyter-widgets/controls",
            "layout": "IPY_MODEL_87db38174b5d4f57940e30ea60241508"
          }
        },
        "7005baa7dd9849e9b47901481ee74a22": {
          "model_module": "@jupyter-widgets/controls",
          "model_name": "HTMLModel",
          "state": {
            "_view_name": "HTMLView",
            "style": "IPY_MODEL_572c4e59526c4724a40b6e05ee290a5d",
            "_dom_classes": [],
            "description": "",
            "_model_name": "HTMLModel",
            "placeholder": "​",
            "_view_module": "@jupyter-widgets/controls",
            "_model_module_version": "1.5.0",
            "value": " 51/111 [2:19:44&lt;3:26:02, 206.04s/it]",
            "_view_count": null,
            "_view_module_version": "1.5.0",
            "description_tooltip": null,
            "_model_module": "@jupyter-widgets/controls",
            "layout": "IPY_MODEL_8d625bb050ac47b28a93ec31b16d5ac8"
          }
        },
        "4a85c32684af403e8a9e540e0cd80c6d": {
          "model_module": "@jupyter-widgets/controls",
          "model_name": "ProgressStyleModel",
          "state": {
            "_view_name": "StyleView",
            "_model_name": "ProgressStyleModel",
            "description_width": "initial",
            "_view_module": "@jupyter-widgets/base",
            "_model_module_version": "1.5.0",
            "_view_count": null,
            "_view_module_version": "1.2.0",
            "bar_color": null,
            "_model_module": "@jupyter-widgets/controls"
          }
        },
        "87db38174b5d4f57940e30ea60241508": {
          "model_module": "@jupyter-widgets/base",
          "model_name": "LayoutModel",
          "state": {
            "_view_name": "LayoutView",
            "grid_template_rows": null,
            "right": null,
            "justify_content": null,
            "_view_module": "@jupyter-widgets/base",
            "overflow": null,
            "_model_module_version": "1.2.0",
            "_view_count": null,
            "flex_flow": null,
            "width": null,
            "min_width": null,
            "border": null,
            "align_items": null,
            "bottom": null,
            "_model_module": "@jupyter-widgets/base",
            "top": null,
            "grid_column": null,
            "overflow_y": null,
            "overflow_x": null,
            "grid_auto_flow": null,
            "grid_area": null,
            "grid_template_columns": null,
            "flex": null,
            "_model_name": "LayoutModel",
            "justify_items": null,
            "grid_row": null,
            "max_height": null,
            "align_content": null,
            "visibility": null,
            "align_self": null,
            "height": null,
            "min_height": null,
            "padding": null,
            "grid_auto_rows": null,
            "grid_gap": null,
            "max_width": null,
            "order": null,
            "_view_module_version": "1.2.0",
            "grid_template_areas": null,
            "object_position": null,
            "object_fit": null,
            "grid_auto_columns": null,
            "margin": null,
            "display": null,
            "left": null
          }
        },
        "572c4e59526c4724a40b6e05ee290a5d": {
          "model_module": "@jupyter-widgets/controls",
          "model_name": "DescriptionStyleModel",
          "state": {
            "_view_name": "StyleView",
            "_model_name": "DescriptionStyleModel",
            "description_width": "",
            "_view_module": "@jupyter-widgets/base",
            "_model_module_version": "1.5.0",
            "_view_count": null,
            "_view_module_version": "1.2.0",
            "_model_module": "@jupyter-widgets/controls"
          }
        },
        "8d625bb050ac47b28a93ec31b16d5ac8": {
          "model_module": "@jupyter-widgets/base",
          "model_name": "LayoutModel",
          "state": {
            "_view_name": "LayoutView",
            "grid_template_rows": null,
            "right": null,
            "justify_content": null,
            "_view_module": "@jupyter-widgets/base",
            "overflow": null,
            "_model_module_version": "1.2.0",
            "_view_count": null,
            "flex_flow": null,
            "width": null,
            "min_width": null,
            "border": null,
            "align_items": null,
            "bottom": null,
            "_model_module": "@jupyter-widgets/base",
            "top": null,
            "grid_column": null,
            "overflow_y": null,
            "overflow_x": null,
            "grid_auto_flow": null,
            "grid_area": null,
            "grid_template_columns": null,
            "flex": null,
            "_model_name": "LayoutModel",
            "justify_items": null,
            "grid_row": null,
            "max_height": null,
            "align_content": null,
            "visibility": null,
            "align_self": null,
            "height": null,
            "min_height": null,
            "padding": null,
            "grid_auto_rows": null,
            "grid_gap": null,
            "max_width": null,
            "order": null,
            "_view_module_version": "1.2.0",
            "grid_template_areas": null,
            "object_position": null,
            "object_fit": null,
            "grid_auto_columns": null,
            "margin": null,
            "display": null,
            "left": null
          }
        },
        "910b0ea871ad4a6bb980a340797ee5c0": {
          "model_module": "@jupyter-widgets/controls",
          "model_name": "HBoxModel",
          "state": {
            "_dom_classes": [],
            "_model_module": "@jupyter-widgets/controls",
            "_model_module_version": "1.5.0",
            "_model_name": "HBoxModel",
            "_view_count": null,
            "_view_module": "@jupyter-widgets/controls",
            "_view_module_version": "1.5.0",
            "_view_name": "HBoxView",
            "box_style": "",
            "children": [
              "IPY_MODEL_a6a41d54f7a64db497dcaec47a3b1c82",
              "IPY_MODEL_f904ad9a0cd14ef89500ebf843f068c5"
            ],
            "layout": "IPY_MODEL_571d3f47c28144128fe19d8f6d153ff9"
          }
        },
        "a6a41d54f7a64db497dcaec47a3b1c82": {
          "model_module": "@jupyter-widgets/controls",
          "model_name": "FloatProgressModel",
          "state": {
            "_dom_classes": [],
            "_model_module": "@jupyter-widgets/controls",
            "_model_module_version": "1.5.0",
            "_model_name": "FloatProgressModel",
            "_view_count": null,
            "_view_module": "@jupyter-widgets/controls",
            "_view_module_version": "1.5.0",
            "_view_name": "ProgressView",
            "bar_style": "success",
            "description": "Downloading: 100%",
            "description_tooltip": null,
            "layout": "IPY_MODEL_f7dc605b4499451e9be5643a8b5e9757",
            "max": 764,
            "min": 0,
            "orientation": "horizontal",
            "style": "IPY_MODEL_ec957f023a694398a28dcb1c4936e682",
            "value": 764
          }
        },
        "f904ad9a0cd14ef89500ebf843f068c5": {
          "model_module": "@jupyter-widgets/controls",
          "model_name": "HTMLModel",
          "state": {
            "_dom_classes": [],
            "_model_module": "@jupyter-widgets/controls",
            "_model_module_version": "1.5.0",
            "_model_name": "HTMLModel",
            "_view_count": null,
            "_view_module": "@jupyter-widgets/controls",
            "_view_module_version": "1.5.0",
            "_view_name": "HTMLView",
            "description": "",
            "description_tooltip": null,
            "layout": "IPY_MODEL_a6169bf4c9c24f9ba7e209ad78310674",
            "placeholder": "​",
            "style": "IPY_MODEL_082034ea42fa49e5a2c0518df5af86d4",
            "value": " 764/764 [01:21&lt;00:00, 9.33B/s]"
          }
        },
        "571d3f47c28144128fe19d8f6d153ff9": {
          "model_module": "@jupyter-widgets/base",
          "model_name": "LayoutModel",
          "state": {
            "_model_module": "@jupyter-widgets/base",
            "_model_module_version": "1.2.0",
            "_model_name": "LayoutModel",
            "_view_count": null,
            "_view_module": "@jupyter-widgets/base",
            "_view_module_version": "1.2.0",
            "_view_name": "LayoutView",
            "align_content": null,
            "align_items": null,
            "align_self": null,
            "border": null,
            "bottom": null,
            "display": null,
            "flex": null,
            "flex_flow": null,
            "grid_area": null,
            "grid_auto_columns": null,
            "grid_auto_flow": null,
            "grid_auto_rows": null,
            "grid_column": null,
            "grid_gap": null,
            "grid_row": null,
            "grid_template_areas": null,
            "grid_template_columns": null,
            "grid_template_rows": null,
            "height": null,
            "justify_content": null,
            "justify_items": null,
            "left": null,
            "margin": null,
            "max_height": null,
            "max_width": null,
            "min_height": null,
            "min_width": null,
            "object_fit": null,
            "object_position": null,
            "order": null,
            "overflow": null,
            "overflow_x": null,
            "overflow_y": null,
            "padding": null,
            "right": null,
            "top": null,
            "visibility": null,
            "width": null
          }
        },
        "f7dc605b4499451e9be5643a8b5e9757": {
          "model_module": "@jupyter-widgets/base",
          "model_name": "LayoutModel",
          "state": {
            "_model_module": "@jupyter-widgets/base",
            "_model_module_version": "1.2.0",
            "_model_name": "LayoutModel",
            "_view_count": null,
            "_view_module": "@jupyter-widgets/base",
            "_view_module_version": "1.2.0",
            "_view_name": "LayoutView",
            "align_content": null,
            "align_items": null,
            "align_self": null,
            "border": null,
            "bottom": null,
            "display": null,
            "flex": null,
            "flex_flow": null,
            "grid_area": null,
            "grid_auto_columns": null,
            "grid_auto_flow": null,
            "grid_auto_rows": null,
            "grid_column": null,
            "grid_gap": null,
            "grid_row": null,
            "grid_template_areas": null,
            "grid_template_columns": null,
            "grid_template_rows": null,
            "height": null,
            "justify_content": null,
            "justify_items": null,
            "left": null,
            "margin": null,
            "max_height": null,
            "max_width": null,
            "min_height": null,
            "min_width": null,
            "object_fit": null,
            "object_position": null,
            "order": null,
            "overflow": null,
            "overflow_x": null,
            "overflow_y": null,
            "padding": null,
            "right": null,
            "top": null,
            "visibility": null,
            "width": null
          }
        },
        "ec957f023a694398a28dcb1c4936e682": {
          "model_module": "@jupyter-widgets/controls",
          "model_name": "ProgressStyleModel",
          "state": {
            "_model_module": "@jupyter-widgets/controls",
            "_model_module_version": "1.5.0",
            "_model_name": "ProgressStyleModel",
            "_view_count": null,
            "_view_module": "@jupyter-widgets/base",
            "_view_module_version": "1.2.0",
            "_view_name": "StyleView",
            "bar_color": null,
            "description_width": "initial"
          }
        },
        "a6169bf4c9c24f9ba7e209ad78310674": {
          "model_module": "@jupyter-widgets/base",
          "model_name": "LayoutModel",
          "state": {
            "_model_module": "@jupyter-widgets/base",
            "_model_module_version": "1.2.0",
            "_model_name": "LayoutModel",
            "_view_count": null,
            "_view_module": "@jupyter-widgets/base",
            "_view_module_version": "1.2.0",
            "_view_name": "LayoutView",
            "align_content": null,
            "align_items": null,
            "align_self": null,
            "border": null,
            "bottom": null,
            "display": null,
            "flex": null,
            "flex_flow": null,
            "grid_area": null,
            "grid_auto_columns": null,
            "grid_auto_flow": null,
            "grid_auto_rows": null,
            "grid_column": null,
            "grid_gap": null,
            "grid_row": null,
            "grid_template_areas": null,
            "grid_template_columns": null,
            "grid_template_rows": null,
            "height": null,
            "justify_content": null,
            "justify_items": null,
            "left": null,
            "margin": null,
            "max_height": null,
            "max_width": null,
            "min_height": null,
            "min_width": null,
            "object_fit": null,
            "object_position": null,
            "order": null,
            "overflow": null,
            "overflow_x": null,
            "overflow_y": null,
            "padding": null,
            "right": null,
            "top": null,
            "visibility": null,
            "width": null
          }
        },
        "082034ea42fa49e5a2c0518df5af86d4": {
          "model_module": "@jupyter-widgets/controls",
          "model_name": "DescriptionStyleModel",
          "state": {
            "_model_module": "@jupyter-widgets/controls",
            "_model_module_version": "1.5.0",
            "_model_name": "DescriptionStyleModel",
            "_view_count": null,
            "_view_module": "@jupyter-widgets/base",
            "_view_module_version": "1.2.0",
            "_view_name": "StyleView",
            "description_width": ""
          }
        },
        "5114638448dd4c54b21e8483e0f882b9": {
          "model_module": "@jupyter-widgets/controls",
          "model_name": "HBoxModel",
          "state": {
            "_dom_classes": [],
            "_model_module": "@jupyter-widgets/controls",
            "_model_module_version": "1.5.0",
            "_model_name": "HBoxModel",
            "_view_count": null,
            "_view_module": "@jupyter-widgets/controls",
            "_view_module_version": "1.5.0",
            "_view_name": "HBoxView",
            "box_style": "",
            "children": [
              "IPY_MODEL_1f85497215f543e08bd7c257050478ae",
              "IPY_MODEL_a17df58ac2834678860e46db770a9ceb"
            ],
            "layout": "IPY_MODEL_a35342170e1247c7a0af37bbaae7abcf"
          }
        },
        "1f85497215f543e08bd7c257050478ae": {
          "model_module": "@jupyter-widgets/controls",
          "model_name": "FloatProgressModel",
          "state": {
            "_dom_classes": [],
            "_model_module": "@jupyter-widgets/controls",
            "_model_module_version": "1.5.0",
            "_model_name": "FloatProgressModel",
            "_view_count": null,
            "_view_module": "@jupyter-widgets/controls",
            "_view_module_version": "1.5.0",
            "_view_name": "ProgressView",
            "bar_style": "success",
            "description": "Downloading: 100%",
            "description_tooltip": null,
            "layout": "IPY_MODEL_ec0a90f543ad4e5c90606dd7de6172fa",
            "max": 3247202234,
            "min": 0,
            "orientation": "horizontal",
            "style": "IPY_MODEL_48163245230b42d9bad3b638e93e9c02",
            "value": 3247202234
          }
        },
        "a17df58ac2834678860e46db770a9ceb": {
          "model_module": "@jupyter-widgets/controls",
          "model_name": "HTMLModel",
          "state": {
            "_dom_classes": [],
            "_model_module": "@jupyter-widgets/controls",
            "_model_module_version": "1.5.0",
            "_model_name": "HTMLModel",
            "_view_count": null,
            "_view_module": "@jupyter-widgets/controls",
            "_view_module_version": "1.5.0",
            "_view_name": "HTMLView",
            "description": "",
            "description_tooltip": null,
            "layout": "IPY_MODEL_eb0eb8bed14b4fa28cc9fd5cbe089aa2",
            "placeholder": "​",
            "style": "IPY_MODEL_6d0933fb03d94b699a31e432ecd023c4",
            "value": " 3.25G/3.25G [01:14&lt;00:00, 43.8MB/s]"
          }
        },
        "a35342170e1247c7a0af37bbaae7abcf": {
          "model_module": "@jupyter-widgets/base",
          "model_name": "LayoutModel",
          "state": {
            "_model_module": "@jupyter-widgets/base",
            "_model_module_version": "1.2.0",
            "_model_name": "LayoutModel",
            "_view_count": null,
            "_view_module": "@jupyter-widgets/base",
            "_view_module_version": "1.2.0",
            "_view_name": "LayoutView",
            "align_content": null,
            "align_items": null,
            "align_self": null,
            "border": null,
            "bottom": null,
            "display": null,
            "flex": null,
            "flex_flow": null,
            "grid_area": null,
            "grid_auto_columns": null,
            "grid_auto_flow": null,
            "grid_auto_rows": null,
            "grid_column": null,
            "grid_gap": null,
            "grid_row": null,
            "grid_template_areas": null,
            "grid_template_columns": null,
            "grid_template_rows": null,
            "height": null,
            "justify_content": null,
            "justify_items": null,
            "left": null,
            "margin": null,
            "max_height": null,
            "max_width": null,
            "min_height": null,
            "min_width": null,
            "object_fit": null,
            "object_position": null,
            "order": null,
            "overflow": null,
            "overflow_x": null,
            "overflow_y": null,
            "padding": null,
            "right": null,
            "top": null,
            "visibility": null,
            "width": null
          }
        },
        "ec0a90f543ad4e5c90606dd7de6172fa": {
          "model_module": "@jupyter-widgets/base",
          "model_name": "LayoutModel",
          "state": {
            "_model_module": "@jupyter-widgets/base",
            "_model_module_version": "1.2.0",
            "_model_name": "LayoutModel",
            "_view_count": null,
            "_view_module": "@jupyter-widgets/base",
            "_view_module_version": "1.2.0",
            "_view_name": "LayoutView",
            "align_content": null,
            "align_items": null,
            "align_self": null,
            "border": null,
            "bottom": null,
            "display": null,
            "flex": null,
            "flex_flow": null,
            "grid_area": null,
            "grid_auto_columns": null,
            "grid_auto_flow": null,
            "grid_auto_rows": null,
            "grid_column": null,
            "grid_gap": null,
            "grid_row": null,
            "grid_template_areas": null,
            "grid_template_columns": null,
            "grid_template_rows": null,
            "height": null,
            "justify_content": null,
            "justify_items": null,
            "left": null,
            "margin": null,
            "max_height": null,
            "max_width": null,
            "min_height": null,
            "min_width": null,
            "object_fit": null,
            "object_position": null,
            "order": null,
            "overflow": null,
            "overflow_x": null,
            "overflow_y": null,
            "padding": null,
            "right": null,
            "top": null,
            "visibility": null,
            "width": null
          }
        },
        "48163245230b42d9bad3b638e93e9c02": {
          "model_module": "@jupyter-widgets/controls",
          "model_name": "ProgressStyleModel",
          "state": {
            "_model_module": "@jupyter-widgets/controls",
            "_model_module_version": "1.5.0",
            "_model_name": "ProgressStyleModel",
            "_view_count": null,
            "_view_module": "@jupyter-widgets/base",
            "_view_module_version": "1.2.0",
            "_view_name": "StyleView",
            "bar_color": null,
            "description_width": "initial"
          }
        },
        "eb0eb8bed14b4fa28cc9fd5cbe089aa2": {
          "model_module": "@jupyter-widgets/base",
          "model_name": "LayoutModel",
          "state": {
            "_model_module": "@jupyter-widgets/base",
            "_model_module_version": "1.2.0",
            "_model_name": "LayoutModel",
            "_view_count": null,
            "_view_module": "@jupyter-widgets/base",
            "_view_module_version": "1.2.0",
            "_view_name": "LayoutView",
            "align_content": null,
            "align_items": null,
            "align_self": null,
            "border": null,
            "bottom": null,
            "display": null,
            "flex": null,
            "flex_flow": null,
            "grid_area": null,
            "grid_auto_columns": null,
            "grid_auto_flow": null,
            "grid_auto_rows": null,
            "grid_column": null,
            "grid_gap": null,
            "grid_row": null,
            "grid_template_areas": null,
            "grid_template_columns": null,
            "grid_template_rows": null,
            "height": null,
            "justify_content": null,
            "justify_items": null,
            "left": null,
            "margin": null,
            "max_height": null,
            "max_width": null,
            "min_height": null,
            "min_width": null,
            "object_fit": null,
            "object_position": null,
            "order": null,
            "overflow": null,
            "overflow_x": null,
            "overflow_y": null,
            "padding": null,
            "right": null,
            "top": null,
            "visibility": null,
            "width": null
          }
        },
        "6d0933fb03d94b699a31e432ecd023c4": {
          "model_module": "@jupyter-widgets/controls",
          "model_name": "DescriptionStyleModel",
          "state": {
            "_model_module": "@jupyter-widgets/controls",
            "_model_module_version": "1.5.0",
            "_model_name": "DescriptionStyleModel",
            "_view_count": null,
            "_view_module": "@jupyter-widgets/base",
            "_view_module_version": "1.2.0",
            "_view_name": "StyleView",
            "description_width": ""
          }
        },
        "20a4e7ff9b164cf29879793c732975e8": {
          "model_module": "@jupyter-widgets/controls",
          "model_name": "HBoxModel",
          "state": {
            "_dom_classes": [],
            "_model_module": "@jupyter-widgets/controls",
            "_model_module_version": "1.5.0",
            "_model_name": "HBoxModel",
            "_view_count": null,
            "_view_module": "@jupyter-widgets/controls",
            "_view_module_version": "1.5.0",
            "_view_name": "HBoxView",
            "box_style": "",
            "children": [
              "IPY_MODEL_418da0a4f75442a1ab12f58edfcf1616",
              "IPY_MODEL_437260e0acd549e58d289cc2617cc11b"
            ],
            "layout": "IPY_MODEL_321edefadfa0424094a55cdedae8734e"
          }
        },
        "418da0a4f75442a1ab12f58edfcf1616": {
          "model_module": "@jupyter-widgets/controls",
          "model_name": "FloatProgressModel",
          "state": {
            "_dom_classes": [],
            "_model_module": "@jupyter-widgets/controls",
            "_model_module_version": "1.5.0",
            "_model_name": "FloatProgressModel",
            "_view_count": null,
            "_view_module": "@jupyter-widgets/controls",
            "_view_module_version": "1.5.0",
            "_view_name": "ProgressView",
            "bar_style": "success",
            "description": "Downloading: 100%",
            "description_tooltip": null,
            "layout": "IPY_MODEL_fc7ec2b27bf14ab8a91f0274facf7f4b",
            "max": 1042301,
            "min": 0,
            "orientation": "horizontal",
            "style": "IPY_MODEL_c8366e0f9f8c4314aa47e7b6a7614fa1",
            "value": 1042301
          }
        },
        "437260e0acd549e58d289cc2617cc11b": {
          "model_module": "@jupyter-widgets/controls",
          "model_name": "HTMLModel",
          "state": {
            "_dom_classes": [],
            "_model_module": "@jupyter-widgets/controls",
            "_model_module_version": "1.5.0",
            "_model_name": "HTMLModel",
            "_view_count": null,
            "_view_module": "@jupyter-widgets/controls",
            "_view_module_version": "1.5.0",
            "_view_name": "HTMLView",
            "description": "",
            "description_tooltip": null,
            "layout": "IPY_MODEL_68d19dd57e1d4649a7bbe3b9ce83011e",
            "placeholder": "​",
            "style": "IPY_MODEL_6d324afdc70841fea416798d0d9cec60",
            "value": " 1.04M/1.04M [00:00&lt;00:00, 3.57MB/s]"
          }
        },
        "321edefadfa0424094a55cdedae8734e": {
          "model_module": "@jupyter-widgets/base",
          "model_name": "LayoutModel",
          "state": {
            "_model_module": "@jupyter-widgets/base",
            "_model_module_version": "1.2.0",
            "_model_name": "LayoutModel",
            "_view_count": null,
            "_view_module": "@jupyter-widgets/base",
            "_view_module_version": "1.2.0",
            "_view_name": "LayoutView",
            "align_content": null,
            "align_items": null,
            "align_self": null,
            "border": null,
            "bottom": null,
            "display": null,
            "flex": null,
            "flex_flow": null,
            "grid_area": null,
            "grid_auto_columns": null,
            "grid_auto_flow": null,
            "grid_auto_rows": null,
            "grid_column": null,
            "grid_gap": null,
            "grid_row": null,
            "grid_template_areas": null,
            "grid_template_columns": null,
            "grid_template_rows": null,
            "height": null,
            "justify_content": null,
            "justify_items": null,
            "left": null,
            "margin": null,
            "max_height": null,
            "max_width": null,
            "min_height": null,
            "min_width": null,
            "object_fit": null,
            "object_position": null,
            "order": null,
            "overflow": null,
            "overflow_x": null,
            "overflow_y": null,
            "padding": null,
            "right": null,
            "top": null,
            "visibility": null,
            "width": null
          }
        },
        "fc7ec2b27bf14ab8a91f0274facf7f4b": {
          "model_module": "@jupyter-widgets/base",
          "model_name": "LayoutModel",
          "state": {
            "_model_module": "@jupyter-widgets/base",
            "_model_module_version": "1.2.0",
            "_model_name": "LayoutModel",
            "_view_count": null,
            "_view_module": "@jupyter-widgets/base",
            "_view_module_version": "1.2.0",
            "_view_name": "LayoutView",
            "align_content": null,
            "align_items": null,
            "align_self": null,
            "border": null,
            "bottom": null,
            "display": null,
            "flex": null,
            "flex_flow": null,
            "grid_area": null,
            "grid_auto_columns": null,
            "grid_auto_flow": null,
            "grid_auto_rows": null,
            "grid_column": null,
            "grid_gap": null,
            "grid_row": null,
            "grid_template_areas": null,
            "grid_template_columns": null,
            "grid_template_rows": null,
            "height": null,
            "justify_content": null,
            "justify_items": null,
            "left": null,
            "margin": null,
            "max_height": null,
            "max_width": null,
            "min_height": null,
            "min_width": null,
            "object_fit": null,
            "object_position": null,
            "order": null,
            "overflow": null,
            "overflow_x": null,
            "overflow_y": null,
            "padding": null,
            "right": null,
            "top": null,
            "visibility": null,
            "width": null
          }
        },
        "c8366e0f9f8c4314aa47e7b6a7614fa1": {
          "model_module": "@jupyter-widgets/controls",
          "model_name": "ProgressStyleModel",
          "state": {
            "_model_module": "@jupyter-widgets/controls",
            "_model_module_version": "1.5.0",
            "_model_name": "ProgressStyleModel",
            "_view_count": null,
            "_view_module": "@jupyter-widgets/base",
            "_view_module_version": "1.2.0",
            "_view_name": "StyleView",
            "bar_color": null,
            "description_width": "initial"
          }
        },
        "68d19dd57e1d4649a7bbe3b9ce83011e": {
          "model_module": "@jupyter-widgets/base",
          "model_name": "LayoutModel",
          "state": {
            "_model_module": "@jupyter-widgets/base",
            "_model_module_version": "1.2.0",
            "_model_name": "LayoutModel",
            "_view_count": null,
            "_view_module": "@jupyter-widgets/base",
            "_view_module_version": "1.2.0",
            "_view_name": "LayoutView",
            "align_content": null,
            "align_items": null,
            "align_self": null,
            "border": null,
            "bottom": null,
            "display": null,
            "flex": null,
            "flex_flow": null,
            "grid_area": null,
            "grid_auto_columns": null,
            "grid_auto_flow": null,
            "grid_auto_rows": null,
            "grid_column": null,
            "grid_gap": null,
            "grid_row": null,
            "grid_template_areas": null,
            "grid_template_columns": null,
            "grid_template_rows": null,
            "height": null,
            "justify_content": null,
            "justify_items": null,
            "left": null,
            "margin": null,
            "max_height": null,
            "max_width": null,
            "min_height": null,
            "min_width": null,
            "object_fit": null,
            "object_position": null,
            "order": null,
            "overflow": null,
            "overflow_x": null,
            "overflow_y": null,
            "padding": null,
            "right": null,
            "top": null,
            "visibility": null,
            "width": null
          }
        },
        "6d324afdc70841fea416798d0d9cec60": {
          "model_module": "@jupyter-widgets/controls",
          "model_name": "DescriptionStyleModel",
          "state": {
            "_model_module": "@jupyter-widgets/controls",
            "_model_module_version": "1.5.0",
            "_model_name": "DescriptionStyleModel",
            "_view_count": null,
            "_view_module": "@jupyter-widgets/base",
            "_view_module_version": "1.2.0",
            "_view_name": "StyleView",
            "description_width": ""
          }
        },
        "670770dcc4454552a07300a3261480f9": {
          "model_module": "@jupyter-widgets/controls",
          "model_name": "HBoxModel",
          "state": {
            "_dom_classes": [],
            "_model_module": "@jupyter-widgets/controls",
            "_model_module_version": "1.5.0",
            "_model_name": "HBoxModel",
            "_view_count": null,
            "_view_module": "@jupyter-widgets/controls",
            "_view_module_version": "1.5.0",
            "_view_name": "HBoxView",
            "box_style": "",
            "children": [
              "IPY_MODEL_fcfda215c9eb4171bcf4d0ddea5662cb",
              "IPY_MODEL_a9f05756260140818537a1c9bd30a0e2"
            ],
            "layout": "IPY_MODEL_ee0350447dbd4dbb9299a97e2733edf3"
          }
        },
        "fcfda215c9eb4171bcf4d0ddea5662cb": {
          "model_module": "@jupyter-widgets/controls",
          "model_name": "FloatProgressModel",
          "state": {
            "_dom_classes": [],
            "_model_module": "@jupyter-widgets/controls",
            "_model_module_version": "1.5.0",
            "_model_name": "FloatProgressModel",
            "_view_count": null,
            "_view_module": "@jupyter-widgets/controls",
            "_view_module_version": "1.5.0",
            "_view_name": "ProgressView",
            "bar_style": "success",
            "description": "Downloading: 100%",
            "description_tooltip": null,
            "layout": "IPY_MODEL_b12f5fb904bd418483bc3228deb7989f",
            "max": 456318,
            "min": 0,
            "orientation": "horizontal",
            "style": "IPY_MODEL_ed9e664278ed40ca9fb420721ed3eb87",
            "value": 456318
          }
        },
        "a9f05756260140818537a1c9bd30a0e2": {
          "model_module": "@jupyter-widgets/controls",
          "model_name": "HTMLModel",
          "state": {
            "_dom_classes": [],
            "_model_module": "@jupyter-widgets/controls",
            "_model_module_version": "1.5.0",
            "_model_name": "HTMLModel",
            "_view_count": null,
            "_view_module": "@jupyter-widgets/controls",
            "_view_module_version": "1.5.0",
            "_view_name": "HTMLView",
            "description": "",
            "description_tooltip": null,
            "layout": "IPY_MODEL_33990212f3b94c878d333a07ec546bc9",
            "placeholder": "​",
            "style": "IPY_MODEL_139dca62455a4051971e11f94cb4a04e",
            "value": " 456k/456k [00:00&lt;00:00, 3.01MB/s]"
          }
        },
        "ee0350447dbd4dbb9299a97e2733edf3": {
          "model_module": "@jupyter-widgets/base",
          "model_name": "LayoutModel",
          "state": {
            "_model_module": "@jupyter-widgets/base",
            "_model_module_version": "1.2.0",
            "_model_name": "LayoutModel",
            "_view_count": null,
            "_view_module": "@jupyter-widgets/base",
            "_view_module_version": "1.2.0",
            "_view_name": "LayoutView",
            "align_content": null,
            "align_items": null,
            "align_self": null,
            "border": null,
            "bottom": null,
            "display": null,
            "flex": null,
            "flex_flow": null,
            "grid_area": null,
            "grid_auto_columns": null,
            "grid_auto_flow": null,
            "grid_auto_rows": null,
            "grid_column": null,
            "grid_gap": null,
            "grid_row": null,
            "grid_template_areas": null,
            "grid_template_columns": null,
            "grid_template_rows": null,
            "height": null,
            "justify_content": null,
            "justify_items": null,
            "left": null,
            "margin": null,
            "max_height": null,
            "max_width": null,
            "min_height": null,
            "min_width": null,
            "object_fit": null,
            "object_position": null,
            "order": null,
            "overflow": null,
            "overflow_x": null,
            "overflow_y": null,
            "padding": null,
            "right": null,
            "top": null,
            "visibility": null,
            "width": null
          }
        },
        "b12f5fb904bd418483bc3228deb7989f": {
          "model_module": "@jupyter-widgets/base",
          "model_name": "LayoutModel",
          "state": {
            "_model_module": "@jupyter-widgets/base",
            "_model_module_version": "1.2.0",
            "_model_name": "LayoutModel",
            "_view_count": null,
            "_view_module": "@jupyter-widgets/base",
            "_view_module_version": "1.2.0",
            "_view_name": "LayoutView",
            "align_content": null,
            "align_items": null,
            "align_self": null,
            "border": null,
            "bottom": null,
            "display": null,
            "flex": null,
            "flex_flow": null,
            "grid_area": null,
            "grid_auto_columns": null,
            "grid_auto_flow": null,
            "grid_auto_rows": null,
            "grid_column": null,
            "grid_gap": null,
            "grid_row": null,
            "grid_template_areas": null,
            "grid_template_columns": null,
            "grid_template_rows": null,
            "height": null,
            "justify_content": null,
            "justify_items": null,
            "left": null,
            "margin": null,
            "max_height": null,
            "max_width": null,
            "min_height": null,
            "min_width": null,
            "object_fit": null,
            "object_position": null,
            "order": null,
            "overflow": null,
            "overflow_x": null,
            "overflow_y": null,
            "padding": null,
            "right": null,
            "top": null,
            "visibility": null,
            "width": null
          }
        },
        "ed9e664278ed40ca9fb420721ed3eb87": {
          "model_module": "@jupyter-widgets/controls",
          "model_name": "ProgressStyleModel",
          "state": {
            "_model_module": "@jupyter-widgets/controls",
            "_model_module_version": "1.5.0",
            "_model_name": "ProgressStyleModel",
            "_view_count": null,
            "_view_module": "@jupyter-widgets/base",
            "_view_module_version": "1.2.0",
            "_view_name": "StyleView",
            "bar_color": null,
            "description_width": "initial"
          }
        },
        "33990212f3b94c878d333a07ec546bc9": {
          "model_module": "@jupyter-widgets/base",
          "model_name": "LayoutModel",
          "state": {
            "_model_module": "@jupyter-widgets/base",
            "_model_module_version": "1.2.0",
            "_model_name": "LayoutModel",
            "_view_count": null,
            "_view_module": "@jupyter-widgets/base",
            "_view_module_version": "1.2.0",
            "_view_name": "LayoutView",
            "align_content": null,
            "align_items": null,
            "align_self": null,
            "border": null,
            "bottom": null,
            "display": null,
            "flex": null,
            "flex_flow": null,
            "grid_area": null,
            "grid_auto_columns": null,
            "grid_auto_flow": null,
            "grid_auto_rows": null,
            "grid_column": null,
            "grid_gap": null,
            "grid_row": null,
            "grid_template_areas": null,
            "grid_template_columns": null,
            "grid_template_rows": null,
            "height": null,
            "justify_content": null,
            "justify_items": null,
            "left": null,
            "margin": null,
            "max_height": null,
            "max_width": null,
            "min_height": null,
            "min_width": null,
            "object_fit": null,
            "object_position": null,
            "order": null,
            "overflow": null,
            "overflow_x": null,
            "overflow_y": null,
            "padding": null,
            "right": null,
            "top": null,
            "visibility": null,
            "width": null
          }
        },
        "139dca62455a4051971e11f94cb4a04e": {
          "model_module": "@jupyter-widgets/controls",
          "model_name": "DescriptionStyleModel",
          "state": {
            "_model_module": "@jupyter-widgets/controls",
            "_model_module_version": "1.5.0",
            "_model_name": "DescriptionStyleModel",
            "_view_count": null,
            "_view_module": "@jupyter-widgets/base",
            "_view_module_version": "1.2.0",
            "_view_name": "StyleView",
            "description_width": ""
          }
        },
        "f1c19a2768094766b5d5ff26f0cbf5e3": {
          "model_module": "@jupyter-widgets/controls",
          "model_name": "HBoxModel",
          "state": {
            "_dom_classes": [],
            "_model_module": "@jupyter-widgets/controls",
            "_model_module_version": "1.5.0",
            "_model_name": "HBoxModel",
            "_view_count": null,
            "_view_module": "@jupyter-widgets/controls",
            "_view_module_version": "1.5.0",
            "_view_name": "HBoxView",
            "box_style": "",
            "children": [
              "IPY_MODEL_68d0554c3c9e40aaa7c460a79634b106",
              "IPY_MODEL_6159fd2e9acc478eacade014c0fabf97"
            ],
            "layout": "IPY_MODEL_bb9b375314d74ae3a2ad92becc154293"
          }
        },
        "68d0554c3c9e40aaa7c460a79634b106": {
          "model_module": "@jupyter-widgets/controls",
          "model_name": "FloatProgressModel",
          "state": {
            "_dom_classes": [],
            "_model_module": "@jupyter-widgets/controls",
            "_model_module_version": "1.5.0",
            "_model_name": "FloatProgressModel",
            "_view_count": null,
            "_view_module": "@jupyter-widgets/controls",
            "_view_module_version": "1.5.0",
            "_view_name": "ProgressView",
            "bar_style": "success",
            "description": "Downloading: 100%",
            "description_tooltip": null,
            "layout": "IPY_MODEL_36bc2a5baf3944d5bd3de602c323097d",
            "max": 1355256,
            "min": 0,
            "orientation": "horizontal",
            "style": "IPY_MODEL_a0387d333bed444890118a195b9852d6",
            "value": 1355256
          }
        },
        "6159fd2e9acc478eacade014c0fabf97": {
          "model_module": "@jupyter-widgets/controls",
          "model_name": "HTMLModel",
          "state": {
            "_dom_classes": [],
            "_model_module": "@jupyter-widgets/controls",
            "_model_module_version": "1.5.0",
            "_model_name": "HTMLModel",
            "_view_count": null,
            "_view_module": "@jupyter-widgets/controls",
            "_view_module_version": "1.5.0",
            "_view_name": "HTMLView",
            "description": "",
            "description_tooltip": null,
            "layout": "IPY_MODEL_fdc2b46a61244d7c9c4cf5a612f3ca91",
            "placeholder": "​",
            "style": "IPY_MODEL_e5f229442a754c4c9b17e12a57bb554b",
            "value": " 1.36M/1.36M [00:04&lt;00:00, 284kB/s]"
          }
        },
        "bb9b375314d74ae3a2ad92becc154293": {
          "model_module": "@jupyter-widgets/base",
          "model_name": "LayoutModel",
          "state": {
            "_model_module": "@jupyter-widgets/base",
            "_model_module_version": "1.2.0",
            "_model_name": "LayoutModel",
            "_view_count": null,
            "_view_module": "@jupyter-widgets/base",
            "_view_module_version": "1.2.0",
            "_view_name": "LayoutView",
            "align_content": null,
            "align_items": null,
            "align_self": null,
            "border": null,
            "bottom": null,
            "display": null,
            "flex": null,
            "flex_flow": null,
            "grid_area": null,
            "grid_auto_columns": null,
            "grid_auto_flow": null,
            "grid_auto_rows": null,
            "grid_column": null,
            "grid_gap": null,
            "grid_row": null,
            "grid_template_areas": null,
            "grid_template_columns": null,
            "grid_template_rows": null,
            "height": null,
            "justify_content": null,
            "justify_items": null,
            "left": null,
            "margin": null,
            "max_height": null,
            "max_width": null,
            "min_height": null,
            "min_width": null,
            "object_fit": null,
            "object_position": null,
            "order": null,
            "overflow": null,
            "overflow_x": null,
            "overflow_y": null,
            "padding": null,
            "right": null,
            "top": null,
            "visibility": null,
            "width": null
          }
        },
        "36bc2a5baf3944d5bd3de602c323097d": {
          "model_module": "@jupyter-widgets/base",
          "model_name": "LayoutModel",
          "state": {
            "_model_module": "@jupyter-widgets/base",
            "_model_module_version": "1.2.0",
            "_model_name": "LayoutModel",
            "_view_count": null,
            "_view_module": "@jupyter-widgets/base",
            "_view_module_version": "1.2.0",
            "_view_name": "LayoutView",
            "align_content": null,
            "align_items": null,
            "align_self": null,
            "border": null,
            "bottom": null,
            "display": null,
            "flex": null,
            "flex_flow": null,
            "grid_area": null,
            "grid_auto_columns": null,
            "grid_auto_flow": null,
            "grid_auto_rows": null,
            "grid_column": null,
            "grid_gap": null,
            "grid_row": null,
            "grid_template_areas": null,
            "grid_template_columns": null,
            "grid_template_rows": null,
            "height": null,
            "justify_content": null,
            "justify_items": null,
            "left": null,
            "margin": null,
            "max_height": null,
            "max_width": null,
            "min_height": null,
            "min_width": null,
            "object_fit": null,
            "object_position": null,
            "order": null,
            "overflow": null,
            "overflow_x": null,
            "overflow_y": null,
            "padding": null,
            "right": null,
            "top": null,
            "visibility": null,
            "width": null
          }
        },
        "a0387d333bed444890118a195b9852d6": {
          "model_module": "@jupyter-widgets/controls",
          "model_name": "ProgressStyleModel",
          "state": {
            "_model_module": "@jupyter-widgets/controls",
            "_model_module_version": "1.5.0",
            "_model_name": "ProgressStyleModel",
            "_view_count": null,
            "_view_module": "@jupyter-widgets/base",
            "_view_module_version": "1.2.0",
            "_view_name": "StyleView",
            "bar_color": null,
            "description_width": "initial"
          }
        },
        "fdc2b46a61244d7c9c4cf5a612f3ca91": {
          "model_module": "@jupyter-widgets/base",
          "model_name": "LayoutModel",
          "state": {
            "_model_module": "@jupyter-widgets/base",
            "_model_module_version": "1.2.0",
            "_model_name": "LayoutModel",
            "_view_count": null,
            "_view_module": "@jupyter-widgets/base",
            "_view_module_version": "1.2.0",
            "_view_name": "LayoutView",
            "align_content": null,
            "align_items": null,
            "align_self": null,
            "border": null,
            "bottom": null,
            "display": null,
            "flex": null,
            "flex_flow": null,
            "grid_area": null,
            "grid_auto_columns": null,
            "grid_auto_flow": null,
            "grid_auto_rows": null,
            "grid_column": null,
            "grid_gap": null,
            "grid_row": null,
            "grid_template_areas": null,
            "grid_template_columns": null,
            "grid_template_rows": null,
            "height": null,
            "justify_content": null,
            "justify_items": null,
            "left": null,
            "margin": null,
            "max_height": null,
            "max_width": null,
            "min_height": null,
            "min_width": null,
            "object_fit": null,
            "object_position": null,
            "order": null,
            "overflow": null,
            "overflow_x": null,
            "overflow_y": null,
            "padding": null,
            "right": null,
            "top": null,
            "visibility": null,
            "width": null
          }
        },
        "e5f229442a754c4c9b17e12a57bb554b": {
          "model_module": "@jupyter-widgets/controls",
          "model_name": "DescriptionStyleModel",
          "state": {
            "_model_module": "@jupyter-widgets/controls",
            "_model_module_version": "1.5.0",
            "_model_name": "DescriptionStyleModel",
            "_view_count": null,
            "_view_module": "@jupyter-widgets/base",
            "_view_module_version": "1.2.0",
            "_view_name": "StyleView",
            "description_width": ""
          }
        }
      }
    }
  },
  "cells": [
    {
      "cell_type": "markdown",
      "metadata": {
        "id": "view-in-github",
        "colab_type": "text"
      },
      "source": [
        "<a href=\"https://colab.research.google.com/github/catPotat/rn-hg-gpt2-playground/blob/main/VN_corpus_preprocessing.ipynb\" target=\"_parent\"><img src=\"https://colab.research.google.com/assets/colab-badge.svg\" alt=\"Open In Colab\"/></a>"
      ]
    },
    {
      "cell_type": "markdown",
      "metadata": {
        "id": "zAlKPi0tc1WK"
      },
      "source": [
        "# 🏁 Initialize"
      ]
    },
    {
      "cell_type": "code",
      "metadata": {
        "colab": {
          "base_uri": "https://localhost:8080/"
        },
        "id": "Xj_ukFCksSyb",
        "outputId": "c417724a-a5fa-49f4-835b-6fd21458bd44"
      },
      "source": [
        "!pip install transformers==4.4.2\n",
        "!pip install wikiextractor\n",
        "!pip install python-dotenv\n",
        "try:\n",
        "    from google.colab import output\n",
        "    output.clear()\n",
        "    from google.colab import drive\n",
        "    drive.mount('/content/drive')\n",
        "except: pass"
      ],
      "execution_count": null,
      "outputs": [
        {
          "output_type": "stream",
          "text": [
            "Mounted at /content/drive\n"
          ],
          "name": "stdout"
        }
      ]
    },
    {
      "cell_type": "code",
      "metadata": {
        "id": "WhQgulFUTBkg"
      },
      "source": [
        "%load_ext dotenv\n",
        "%dotenv drive/MyDrive/.env.gdrive\n",
        "import os\n",
        "from tqdm.notebook import tqdm\n",
        "import torch\n",
        "import random"
      ],
      "execution_count": null,
      "outputs": []
    },
    {
      "cell_type": "markdown",
      "metadata": {
        "id": "FxnynQjN3yvO"
      },
      "source": [
        "# Common"
      ]
    },
    {
      "cell_type": "markdown",
      "metadata": {
        "id": "IVX70HlRVDZE"
      },
      "source": [
        "## Paths"
      ]
    },
    {
      "cell_type": "code",
      "metadata": {
        "id": "EeDY9G3tOxnm"
      },
      "source": [
        "MODEL_NAME = \"gpt2\"\n",
        "MODEL_SAVE_PATH = '/content/drive/MyDrive/models/VinaPT-0421/vinaPT-attempt-0405/'\n",
        "TOK_PATH = MODEL_SAVE_PATH+'tokenizer-wordseg'\n",
        "MODEL_LENGTH=1024"
      ],
      "execution_count": null,
      "outputs": []
    },
    {
      "cell_type": "markdown",
      "metadata": {
        "id": "MoKVpU9lTIh2"
      },
      "source": [
        "## Segmenter"
      ]
    },
    {
      "cell_type": "code",
      "metadata": {
        "colab": {
          "base_uri": "https://localhost:8080/"
        },
        "id": "qwNx4Fs2Qphb",
        "outputId": "30146160-948c-40a8-a58e-dad9c10dbfaf"
      },
      "source": [
        "!git clone https://github.com/vncorenlp/VnCoreNLP.git\n",
        "!pip install vncorenlp\n",
        "from vncorenlp import VnCoreNLP\n",
        "# annotator = VnCoreNLP('/content/VnCoreNLP/VnCoreNLP-1.1.1.jar', annotators='wseg', max_heap_size='-Xmx500m')\n",
        "\n",
        "def word_segment(text):\n",
        "    word_segmented_text = annotator.tokenize(text) \n",
        "    sentences = []\n",
        "    for sentence in word_segmented_text:\n",
        "        sentences.append(' '.join(sentence))\n",
        "    return ' '.join(sentences)"
      ],
      "execution_count": null,
      "outputs": [
        {
          "output_type": "stream",
          "text": [
            "Cloning into 'VnCoreNLP'...\n",
            "remote: Enumerating objects: 212, done.\u001b[K\n",
            "remote: Total 212 (delta 0), reused 0 (delta 0), pack-reused 212\u001b[K\n",
            "Receiving objects: 100% (212/212), 214.21 MiB | 41.96 MiB/s, done.\n",
            "Resolving deltas: 100% (76/76), done.\n",
            "Collecting vncorenlp\n",
            "\u001b[?25l  Downloading https://files.pythonhosted.org/packages/71/c2/96a60cf75421ecc740829fa920c617b3dd7fa6791e17554e7c6f3e7d7fca/vncorenlp-1.0.3.tar.gz (2.6MB)\n",
            "\u001b[K     |████████████████████████████████| 2.7MB 15.9MB/s \n",
            "\u001b[?25hRequirement already satisfied: requests in /usr/local/lib/python3.7/dist-packages (from vncorenlp) (2.23.0)\n",
            "Requirement already satisfied: chardet<4,>=3.0.2 in /usr/local/lib/python3.7/dist-packages (from requests->vncorenlp) (3.0.4)\n",
            "Requirement already satisfied: certifi>=2017.4.17 in /usr/local/lib/python3.7/dist-packages (from requests->vncorenlp) (2020.12.5)\n",
            "Requirement already satisfied: urllib3!=1.25.0,!=1.25.1,<1.26,>=1.21.1 in /usr/local/lib/python3.7/dist-packages (from requests->vncorenlp) (1.24.3)\n",
            "Requirement already satisfied: idna<3,>=2.5 in /usr/local/lib/python3.7/dist-packages (from requests->vncorenlp) (2.10)\n",
            "Building wheels for collected packages: vncorenlp\n",
            "  Building wheel for vncorenlp (setup.py) ... \u001b[?25l\u001b[?25hdone\n",
            "  Created wheel for vncorenlp: filename=vncorenlp-1.0.3-cp37-none-any.whl size=2645936 sha256=710df8705065f307d4f1f16c19a8100fb1e3bb133f6dd96c969291c67e71b887\n",
            "  Stored in directory: /root/.cache/pip/wheels/09/54/8b/043667de6091d06a381d7745f44174504a9a4a56ecc9380c54\n",
            "Successfully built vncorenlp\n",
            "Installing collected packages: vncorenlp\n",
            "Successfully installed vncorenlp-1.0.3\n"
          ],
          "name": "stdout"
        }
      ]
    },
    {
      "cell_type": "markdown",
      "metadata": {
        "id": "0dgFIh0MEXmY"
      },
      "source": [
        "## 🪓 Tokenizer"
      ]
    },
    {
      "cell_type": "markdown",
      "metadata": {
        "id": "LjgestrwaxCY"
      },
      "source": [
        "### Train"
      ]
    },
    {
      "cell_type": "code",
      "metadata": {
        "id": "fF8CcuvIdhBG"
      },
      "source": [
        "root, dirs, files = next(os.walk('/content/drive/MyDrive/datasets/vietnamese-corpus/vnNewsCorpus-vnCoreNlp-treated', topdown=False))\n",
        "files = list( map(lambda x: os.path.join(root, x), files) )\n",
        "files.append('/content/drive/MyDrive/datasets/vietnamese-corpus/viWikitext-VnCoreNlp-treated/9110120.txt')\n",
        "files"
      ],
      "execution_count": null,
      "outputs": []
    },
    {
      "cell_type": "code",
      "metadata": {
        "id": "nOvCyEeL7Jmv"
      },
      "source": [
        "from tokenizers import ByteLevelBPETokenizer\n",
        "\n",
        "tok_trainer = ByteLevelBPETokenizer()\n",
        "tok_trainer.train(\n",
        "    files=files,\n",
        "    vocab_size=50257,\n",
        "    min_frequency=10,\n",
        "    special_tokens=[\n",
        "        '<|endoftext|>',\n",
        "    ]\n",
        ")\n",
        "!mkdir -p 'tok/'\n",
        "tok_trainer.save_model('tok/', \"igptkinda\")\n",
        "!mkdir -p $TOK_PATH\n",
        "!cp 'tok/igptkinda-vocab.json' $TOK_PATH/vocab.json\n",
        "!cp 'tok/igptkinda-merges.txt' $TOK_PATH/merges.txt"
      ],
      "execution_count": null,
      "outputs": []
    },
    {
      "cell_type": "markdown",
      "metadata": {
        "id": "A_ZzQNP9_-ht"
      },
      "source": [
        "### Pre trained"
      ]
    },
    {
      "cell_type": "code",
      "metadata": {
        "colab": {
          "base_uri": "https://localhost:8080/"
        },
        "id": "3EzKeVelH4y3",
        "outputId": "7896d03d-4106-4f13-d776-8613221ef8fa"
      },
      "source": [
        "from transformers import GPT2Tokenizer, GPT2TokenizerFast, AutoTokenizer\n",
        "tokenizer = GPT2TokenizerFast.from_pretrained(TOK_PATH, model_max_length=MODEL_LENGTH)\n",
        "tokenizer.pad_token = tokenizer.eos_token\n",
        "tokenizer.model_max_length"
      ],
      "execution_count": null,
      "outputs": [
        {
          "output_type": "execute_result",
          "data": {
            "text/plain": [
              "1024"
            ]
          },
          "metadata": {
            "tags": []
          },
          "execution_count": 4
        }
      ]
    },
    {
      "cell_type": "markdown",
      "metadata": {
        "id": "JkVXFDrcQdEp"
      },
      "source": [
        "# 📰 vn news corpus\n",
        "\n",
        "https://github.com/binhvq/news-corpus\n",
        "\n",
        "https://github.com/vncorenlp/VnCoreNLP"
      ]
    },
    {
      "cell_type": "markdown",
      "metadata": {
        "id": "gSheSymBQEMq"
      },
      "source": [
        "### Overview"
      ]
    },
    {
      "cell_type": "code",
      "metadata": {
        "colab": {
          "base_uri": "https://localhost:8080/"
        },
        "id": "JXLjipOLQDu6",
        "outputId": "fbc1e68c-7003-4fb3-8daa-4d68f4a71f6b"
      },
      "source": [
        "i = 0\n",
        "with open('/content/drive/MyDrive/datasets/vietnamese-corpus/corpus-full.txt', 'r', encoding=\"utf8\") as f:\n",
        "    for line in f:\n",
        "        i+=1\n",
        "i"
      ],
      "execution_count": null,
      "outputs": [
        {
          "output_type": "execute_result",
          "data": {
            "text/plain": [
              "111274300"
            ]
          },
          "metadata": {
            "tags": []
          },
          "execution_count": 5
        }
      ]
    },
    {
      "cell_type": "markdown",
      "metadata": {
        "id": "DRmbRxSj33Yi"
      },
      "source": [
        "## Segment"
      ]
    },
    {
      "cell_type": "code",
      "metadata": {
        "id": "mEZi7EK2vEqg"
      },
      "source": [
        "annotator = VnCoreNLP('/content/VnCoreNLP/VnCoreNLP-1.1.1.jar', annotators='wseg', max_heap_size='-Xmx500m')\n",
        "\n",
        "dump = \"\"\n",
        "i = 0\n",
        "with open('/content/drive/MyDrive/datasets/vietnamese-corpus/corpus-full.txt', 'r', encoding=\"utf8\") as f:\n",
        "    # for line in tqdm(f, total=111274300):\n",
        "    for line in f:\n",
        "        i += 1\n",
        "        if i <= 24_000_000:\n",
        "            continue\n",
        "        dump += word_segment(line) + '\\n'\n",
        "        if i % 1_000_000 == 0:\n",
        "            with open(f'/content/drive/MyDrive/datasets/vietnamese-corpus/vnNewsCorpus-vnCoreNlp-treated/{i}.txt', 'w+', encoding=\"utf8\") as f:\n",
        "                f.write(dump)\n",
        "            dump = \"\"\n",
        "            print(i)\n",
        "with open(f'/content/drive/MyDrive/datasets/vietnamese-corpus/vnNewsCorpus-vnCoreNlp-treated/{i}.txt', 'w+', encoding=\"utf8\") as f:\n",
        "    f.write(dump)\n",
        "del dump\n",
        "print(i)"
      ],
      "execution_count": null,
      "outputs": []
    },
    {
      "cell_type": "markdown",
      "metadata": {
        "id": "u6mXV-lWTS9m"
      },
      "source": [
        "### Check for completion"
      ]
    },
    {
      "cell_type": "code",
      "metadata": {
        "id": "Ca568OoceZsK"
      },
      "source": [
        "total = [ (x+1)*811003 for x in range(200) ]\n",
        "total"
      ],
      "execution_count": null,
      "outputs": []
    },
    {
      "cell_type": "code",
      "metadata": {
        "id": "KGQQ6bDyd85g"
      },
      "source": [
        "from tqdm.notebook import tqdm\n",
        "ls = []\n",
        "i = 0\n",
        "corpus_path = '/content/drive/MyDrive/datasets/vietnamese-corpus/'\n",
        "for root, dirs, files in os.walk(corpus_path, topdown=False):\n",
        "    for j, name in enumerate(files):\n",
        "        cpoint = name.split('.')[0]\n",
        "        if not cpoint.isnumeric():\n",
        "            continue\n",
        "        ls.append( cpoint )\n",
        "        i += 1"
      ],
      "execution_count": null,
      "outputs": []
    },
    {
      "cell_type": "code",
      "metadata": {
        "colab": {
          "base_uri": "https://localhost:8080/"
        },
        "id": "i4W59muvyxSi",
        "outputId": "61dabe67-84af-46c5-e7cb-286f1a554f48"
      },
      "source": [
        "unfinished = []\n",
        "for item in total:\n",
        "    if str(item) not in ls:\n",
        "        unfinished.append(item)\n",
        "unfinished"
      ],
      "execution_count": null,
      "outputs": [
        {
          "output_type": "execute_result",
          "data": {
            "text/plain": [
              "[63258234]"
            ]
          },
          "metadata": {
            "tags": []
          },
          "execution_count": 152
        }
      ]
    },
    {
      "cell_type": "code",
      "metadata": {
        "id": "FchKVhkRf0wP"
      },
      "source": [
        "ls"
      ],
      "execution_count": null,
      "outputs": []
    },
    {
      "cell_type": "markdown",
      "metadata": {
        "id": "lZWZm-i3VP-j"
      },
      "source": [
        "## Trimmer"
      ]
    },
    {
      "cell_type": "code",
      "metadata": {
        "id": "gpMebv7jVRhk"
      },
      "source": [
        "import psutil\n",
        "import gc\n",
        "RAM = psutil.virtual_memory().total\n",
        "dump = \"\"\n",
        "i = 0\n",
        "with open(os.path.join(CORPUS_PATH, 'corpus-full-0.2.txt'), 'r', encoding=\"utf8\") as f:\n",
        "    # for line in tqdm(f, total=162200680):\n",
        "    for line in f:\n",
        "        l = len( line.split() )\n",
        "        if l == 7:\n",
        "            # continue\n",
        "            print(line)\n",
        "        # dump += line\n",
        "        # i += 1\n",
        "        # if i%5_000_000==0 and psutil.virtual_memory().available / RAM > 0.8:\n",
        "        #     print(i)\n",
        "        #     with open(f'/content/drive/MyDrive/datasets/vietnamese-corpus/raw-trimmed/line{i}.txt', 'w+', encoding=\"utf8\") as f:\n",
        "        #         f.write(dump)\n",
        "        #     dump = \"\"\n",
        "        #     gc.collect()"
      ],
      "execution_count": null,
      "outputs": []
    },
    {
      "cell_type": "markdown",
      "metadata": {
        "id": "BZ1ErG69azpz"
      },
      "source": [
        "## Pre-tokenize"
      ]
    },
    {
      "cell_type": "code",
      "metadata": {
        "id": "RChJKsdRa1Zg",
        "colab": {
          "base_uri": "https://localhost:8080/",
          "height": 440,
          "referenced_widgets": [
            "6d55df52eed24219b54bd70d7ea8172c",
            "b65b1d882fb744979c7bdbdad939aedc",
            "d636d444150a48e68f57bed5b6fcc14a",
            "7005baa7dd9849e9b47901481ee74a22",
            "4a85c32684af403e8a9e540e0cd80c6d",
            "87db38174b5d4f57940e30ea60241508",
            "572c4e59526c4724a40b6e05ee290a5d",
            "8d625bb050ac47b28a93ec31b16d5ac8"
          ]
        },
        "outputId": "fc815ff2-8506-4643-a1fa-88a86c33b193"
      },
      "source": [
        "import random\n",
        "root, dirs, files = next(os.walk('/content/drive/MyDrive/datasets/vietnamese-corpus/vnNewsCorpus-vnCoreNlp-treated', topdown=False))\n",
        "files = list( map(lambda x: os.path.join(root, x), files) )\n",
        "ip_ids_line = \"\"\n",
        "for i, path in tqdm( enumerate(files, start=1), total = len(files) ):\n",
        "    if i < 0: continue\n",
        "    to_tokenize = \"\"\n",
        "    with open(path, 'r', encoding=\"utf8\") as f:\n",
        "        for line in f:\n",
        "            l = len( line.split() )\n",
        "            if l <= 7:\n",
        "                continue\n",
        "                print(line)\n",
        "            # continue\n",
        "            if l > 300:\n",
        "                ip_ids = tokenizer(line, truncation=True, padding=False)['input_ids']\n",
        "                ip_ids_line += ' '.join( map(lambda x: str(x), ip_ids) ) + '\\n'\n",
        "                # if random.random() < 0.001:\n",
        "                #     print( f\"1line{len(ip_ids)}\" )\n",
        "                continue\n",
        "            if len( to_tokenize.split() ) < 300:\n",
        "                to_tokenize += line\n",
        "                continue\n",
        "            to_tokenize += line\n",
        "            ip_ids = tokenizer(to_tokenize, truncation=True, padding=False)['input_ids']\n",
        "            # if len(ip_ids) == 1024:\n",
        "            #     print( \"a\" )\n",
        "            # if random.random() < 0.01:\n",
        "            #     print( f\"manyline{len(ip_ids)}\" )\n",
        "                # print(to_tokenize)\n",
        "            to_tokenize = \"\"\n",
        "            ip_ids_line += ' '.join( map(lambda x: str(x), ip_ids) ) + '\\n'\n",
        "        if i % 10 == 0:\n",
        "            if to_tokenize:\n",
        "                ip_ids = tokenizer(to_tokenize, truncation=True, padding=False)['input_ids']\n",
        "                ip_ids_line += ' '.join( map(lambda x: str(x), ip_ids) ) + '\\n'\n",
        "            with open(f'/content/drive/MyDrive/datasets/vietnamese-corpus/pretokenized-0405/{i}.txt', 'w+') as out:\n",
        "                out.write(ip_ids_line)\n",
        "            ip_ids_line = \"\"\n",
        "with open(f'/content/drive/MyDrive/datasets/vietnamese-corpus/pretokenized-0405/{i}.txt', 'w+') as out:\n",
        "    out.write(ip_ids_line)"
      ],
      "execution_count": null,
      "outputs": [
        {
          "output_type": "display_data",
          "data": {
            "application/vnd.jupyter.widget-view+json": {
              "model_id": "6d55df52eed24219b54bd70d7ea8172c",
              "version_minor": 0,
              "version_major": 2
            },
            "text/plain": [
              "HBox(children=(FloatProgress(value=0.0, max=111.0), HTML(value='')))"
            ]
          },
          "metadata": {
            "tags": []
          }
        },
        {
          "output_type": "error",
          "ename": "KeyboardInterrupt",
          "evalue": "ignored",
          "traceback": [
            "\u001b[0;31m---------------------------------------------------------------------------\u001b[0m",
            "\u001b[0;31mKeyboardInterrupt\u001b[0m                         Traceback (most recent call last)",
            "\u001b[0;32m<ipython-input-18-bb929b4f9f41>\u001b[0m in \u001b[0;36m<module>\u001b[0;34m()\u001b[0m\n\u001b[1;32m     23\u001b[0m                 \u001b[0;32mcontinue\u001b[0m\u001b[0;34m\u001b[0m\u001b[0;34m\u001b[0m\u001b[0m\n\u001b[1;32m     24\u001b[0m             \u001b[0mto_tokenize\u001b[0m \u001b[0;34m+=\u001b[0m \u001b[0mline\u001b[0m\u001b[0;34m\u001b[0m\u001b[0;34m\u001b[0m\u001b[0m\n\u001b[0;32m---> 25\u001b[0;31m             \u001b[0mip_ids\u001b[0m \u001b[0;34m=\u001b[0m \u001b[0mtokenizer\u001b[0m\u001b[0;34m(\u001b[0m\u001b[0mto_tokenize\u001b[0m\u001b[0;34m,\u001b[0m \u001b[0mtruncation\u001b[0m\u001b[0;34m=\u001b[0m\u001b[0;32mTrue\u001b[0m\u001b[0;34m,\u001b[0m \u001b[0mpadding\u001b[0m\u001b[0;34m=\u001b[0m\u001b[0;32mFalse\u001b[0m\u001b[0;34m)\u001b[0m\u001b[0;34m[\u001b[0m\u001b[0;34m'input_ids'\u001b[0m\u001b[0;34m]\u001b[0m\u001b[0;34m\u001b[0m\u001b[0;34m\u001b[0m\u001b[0m\n\u001b[0m\u001b[1;32m     26\u001b[0m             \u001b[0;31m# if len(ip_ids) == 1024:\u001b[0m\u001b[0;34m\u001b[0m\u001b[0;34m\u001b[0m\u001b[0;34m\u001b[0m\u001b[0m\n\u001b[1;32m     27\u001b[0m             \u001b[0;31m#     print( \"a\" )\u001b[0m\u001b[0;34m\u001b[0m\u001b[0;34m\u001b[0m\u001b[0;34m\u001b[0m\u001b[0m\n",
            "\u001b[0;32m/usr/local/lib/python3.7/dist-packages/transformers/tokenization_utils_base.py\u001b[0m in \u001b[0;36m__call__\u001b[0;34m(self, text, text_pair, add_special_tokens, padding, truncation, max_length, stride, is_split_into_words, pad_to_multiple_of, return_tensors, return_token_type_ids, return_attention_mask, return_overflowing_tokens, return_special_tokens_mask, return_offsets_mapping, return_length, verbose, **kwargs)\u001b[0m\n\u001b[1;32m   2285\u001b[0m                 \u001b[0mreturn_length\u001b[0m\u001b[0;34m=\u001b[0m\u001b[0mreturn_length\u001b[0m\u001b[0;34m,\u001b[0m\u001b[0;34m\u001b[0m\u001b[0;34m\u001b[0m\u001b[0m\n\u001b[1;32m   2286\u001b[0m                 \u001b[0mverbose\u001b[0m\u001b[0;34m=\u001b[0m\u001b[0mverbose\u001b[0m\u001b[0;34m,\u001b[0m\u001b[0;34m\u001b[0m\u001b[0;34m\u001b[0m\u001b[0m\n\u001b[0;32m-> 2287\u001b[0;31m                 \u001b[0;34m**\u001b[0m\u001b[0mkwargs\u001b[0m\u001b[0;34m,\u001b[0m\u001b[0;34m\u001b[0m\u001b[0;34m\u001b[0m\u001b[0m\n\u001b[0m\u001b[1;32m   2288\u001b[0m             )\n\u001b[1;32m   2289\u001b[0m \u001b[0;34m\u001b[0m\u001b[0m\n",
            "\u001b[0;32m/usr/local/lib/python3.7/dist-packages/transformers/tokenization_utils_base.py\u001b[0m in \u001b[0;36mencode_plus\u001b[0;34m(self, text, text_pair, add_special_tokens, padding, truncation, max_length, stride, is_split_into_words, pad_to_multiple_of, return_tensors, return_token_type_ids, return_attention_mask, return_overflowing_tokens, return_special_tokens_mask, return_offsets_mapping, return_length, verbose, **kwargs)\u001b[0m\n\u001b[1;32m   2355\u001b[0m             \u001b[0mreturn_length\u001b[0m\u001b[0;34m=\u001b[0m\u001b[0mreturn_length\u001b[0m\u001b[0;34m,\u001b[0m\u001b[0;34m\u001b[0m\u001b[0;34m\u001b[0m\u001b[0m\n\u001b[1;32m   2356\u001b[0m             \u001b[0mverbose\u001b[0m\u001b[0;34m=\u001b[0m\u001b[0mverbose\u001b[0m\u001b[0;34m,\u001b[0m\u001b[0;34m\u001b[0m\u001b[0;34m\u001b[0m\u001b[0m\n\u001b[0;32m-> 2357\u001b[0;31m             \u001b[0;34m**\u001b[0m\u001b[0mkwargs\u001b[0m\u001b[0;34m,\u001b[0m\u001b[0;34m\u001b[0m\u001b[0;34m\u001b[0m\u001b[0m\n\u001b[0m\u001b[1;32m   2358\u001b[0m         )\n\u001b[1;32m   2359\u001b[0m \u001b[0;34m\u001b[0m\u001b[0m\n",
            "\u001b[0;32m/usr/local/lib/python3.7/dist-packages/transformers/models/gpt2/tokenization_gpt2_fast.py\u001b[0m in \u001b[0;36m_encode_plus\u001b[0;34m(self, *args, **kwargs)\u001b[0m\n\u001b[1;32m    171\u001b[0m         )\n\u001b[1;32m    172\u001b[0m \u001b[0;34m\u001b[0m\u001b[0m\n\u001b[0;32m--> 173\u001b[0;31m         \u001b[0;32mreturn\u001b[0m \u001b[0msuper\u001b[0m\u001b[0;34m(\u001b[0m\u001b[0;34m)\u001b[0m\u001b[0;34m.\u001b[0m\u001b[0m_encode_plus\u001b[0m\u001b[0;34m(\u001b[0m\u001b[0;34m*\u001b[0m\u001b[0margs\u001b[0m\u001b[0;34m,\u001b[0m \u001b[0;34m**\u001b[0m\u001b[0mkwargs\u001b[0m\u001b[0;34m)\u001b[0m\u001b[0;34m\u001b[0m\u001b[0;34m\u001b[0m\u001b[0m\n\u001b[0m\u001b[1;32m    174\u001b[0m \u001b[0;34m\u001b[0m\u001b[0m\n\u001b[1;32m    175\u001b[0m     \u001b[0;32mdef\u001b[0m \u001b[0msave_vocabulary\u001b[0m\u001b[0;34m(\u001b[0m\u001b[0mself\u001b[0m\u001b[0;34m,\u001b[0m \u001b[0msave_directory\u001b[0m\u001b[0;34m:\u001b[0m \u001b[0mstr\u001b[0m\u001b[0;34m,\u001b[0m \u001b[0mfilename_prefix\u001b[0m\u001b[0;34m:\u001b[0m \u001b[0mOptional\u001b[0m\u001b[0;34m[\u001b[0m\u001b[0mstr\u001b[0m\u001b[0;34m]\u001b[0m \u001b[0;34m=\u001b[0m \u001b[0;32mNone\u001b[0m\u001b[0;34m)\u001b[0m \u001b[0;34m->\u001b[0m \u001b[0mTuple\u001b[0m\u001b[0;34m[\u001b[0m\u001b[0mstr\u001b[0m\u001b[0;34m]\u001b[0m\u001b[0;34m:\u001b[0m\u001b[0;34m\u001b[0m\u001b[0;34m\u001b[0m\u001b[0m\n",
            "\u001b[0;32m/usr/local/lib/python3.7/dist-packages/transformers/tokenization_utils_fast.py\u001b[0m in \u001b[0;36m_encode_plus\u001b[0;34m(self, text, text_pair, add_special_tokens, padding_strategy, truncation_strategy, max_length, stride, is_split_into_words, pad_to_multiple_of, return_tensors, return_token_type_ids, return_attention_mask, return_overflowing_tokens, return_special_tokens_mask, return_offsets_mapping, return_length, verbose, **kwargs)\u001b[0m\n\u001b[1;32m    466\u001b[0m             \u001b[0mreturn_length\u001b[0m\u001b[0;34m=\u001b[0m\u001b[0mreturn_length\u001b[0m\u001b[0;34m,\u001b[0m\u001b[0;34m\u001b[0m\u001b[0;34m\u001b[0m\u001b[0m\n\u001b[1;32m    467\u001b[0m             \u001b[0mverbose\u001b[0m\u001b[0;34m=\u001b[0m\u001b[0mverbose\u001b[0m\u001b[0;34m,\u001b[0m\u001b[0;34m\u001b[0m\u001b[0;34m\u001b[0m\u001b[0m\n\u001b[0;32m--> 468\u001b[0;31m             \u001b[0;34m**\u001b[0m\u001b[0mkwargs\u001b[0m\u001b[0;34m,\u001b[0m\u001b[0;34m\u001b[0m\u001b[0;34m\u001b[0m\u001b[0m\n\u001b[0m\u001b[1;32m    469\u001b[0m         )\n\u001b[1;32m    470\u001b[0m \u001b[0;34m\u001b[0m\u001b[0m\n",
            "\u001b[0;32m/usr/local/lib/python3.7/dist-packages/transformers/models/gpt2/tokenization_gpt2_fast.py\u001b[0m in \u001b[0;36m_batch_encode_plus\u001b[0;34m(self, *args, **kwargs)\u001b[0m\n\u001b[1;32m    161\u001b[0m         )\n\u001b[1;32m    162\u001b[0m \u001b[0;34m\u001b[0m\u001b[0m\n\u001b[0;32m--> 163\u001b[0;31m         \u001b[0;32mreturn\u001b[0m \u001b[0msuper\u001b[0m\u001b[0;34m(\u001b[0m\u001b[0;34m)\u001b[0m\u001b[0;34m.\u001b[0m\u001b[0m_batch_encode_plus\u001b[0m\u001b[0;34m(\u001b[0m\u001b[0;34m*\u001b[0m\u001b[0margs\u001b[0m\u001b[0;34m,\u001b[0m \u001b[0;34m**\u001b[0m\u001b[0mkwargs\u001b[0m\u001b[0;34m)\u001b[0m\u001b[0;34m\u001b[0m\u001b[0;34m\u001b[0m\u001b[0m\n\u001b[0m\u001b[1;32m    164\u001b[0m \u001b[0;34m\u001b[0m\u001b[0m\n\u001b[1;32m    165\u001b[0m     \u001b[0;32mdef\u001b[0m \u001b[0m_encode_plus\u001b[0m\u001b[0;34m(\u001b[0m\u001b[0mself\u001b[0m\u001b[0;34m,\u001b[0m \u001b[0;34m*\u001b[0m\u001b[0margs\u001b[0m\u001b[0;34m,\u001b[0m \u001b[0;34m**\u001b[0m\u001b[0mkwargs\u001b[0m\u001b[0;34m)\u001b[0m \u001b[0;34m->\u001b[0m \u001b[0mBatchEncoding\u001b[0m\u001b[0;34m:\u001b[0m\u001b[0;34m\u001b[0m\u001b[0;34m\u001b[0m\u001b[0m\n",
            "\u001b[0;32m/usr/local/lib/python3.7/dist-packages/transformers/tokenization_utils_fast.py\u001b[0m in \u001b[0;36m_batch_encode_plus\u001b[0;34m(self, batch_text_or_text_pairs, add_special_tokens, padding_strategy, truncation_strategy, max_length, stride, is_split_into_words, pad_to_multiple_of, return_tensors, return_token_type_ids, return_attention_mask, return_overflowing_tokens, return_special_tokens_mask, return_offsets_mapping, return_length, verbose)\u001b[0m\n\u001b[1;32m    379\u001b[0m             \u001b[0mbatch_text_or_text_pairs\u001b[0m\u001b[0;34m,\u001b[0m\u001b[0;34m\u001b[0m\u001b[0;34m\u001b[0m\u001b[0m\n\u001b[1;32m    380\u001b[0m             \u001b[0madd_special_tokens\u001b[0m\u001b[0;34m=\u001b[0m\u001b[0madd_special_tokens\u001b[0m\u001b[0;34m,\u001b[0m\u001b[0;34m\u001b[0m\u001b[0;34m\u001b[0m\u001b[0m\n\u001b[0;32m--> 381\u001b[0;31m             \u001b[0mis_pretokenized\u001b[0m\u001b[0;34m=\u001b[0m\u001b[0mis_split_into_words\u001b[0m\u001b[0;34m,\u001b[0m\u001b[0;34m\u001b[0m\u001b[0;34m\u001b[0m\u001b[0m\n\u001b[0m\u001b[1;32m    382\u001b[0m         )\n\u001b[1;32m    383\u001b[0m \u001b[0;34m\u001b[0m\u001b[0m\n",
            "\u001b[0;31mKeyboardInterrupt\u001b[0m: "
          ]
        }
      ]
    },
    {
      "cell_type": "markdown",
      "metadata": {
        "id": "wqDP8fxq4Hlm"
      },
      "source": [
        "# 🌐 viWikitext"
      ]
    },
    {
      "cell_type": "code",
      "metadata": {
        "id": "tDypVaYCbDea"
      },
      "source": [
        "!python -m wikiextractor.WikiExtractor /content/drive/MyDrive/datasets/vietnamese-corpus/viwiki-20210401-pages-meta-current.xml"
      ],
      "execution_count": null,
      "outputs": []
    },
    {
      "cell_type": "markdown",
      "metadata": {
        "id": "wxnmsWT3SIbG"
      },
      "source": [
        "### Segment"
      ]
    },
    {
      "cell_type": "code",
      "metadata": {
        "id": "gCWp3wZLkXsb"
      },
      "source": [
        "import html\n",
        "\n",
        "annotator = VnCoreNLP('/content/VnCoreNLP/VnCoreNLP-1.1.1.jar', annotators='wseg', max_heap_size='-Xmx500m')\n",
        "\n",
        "dump = \"\"\n",
        "i = 0\n",
        "for root, dirs, files in os.walk('/content/text', topdown=False):\n",
        "    print(root)\n",
        "    for name in tqdm( files ):\n",
        "        with open(os.path.join(root, name), 'r', encoding=\"utf8\") as f:\n",
        "            \n",
        "            to_tokenize = \"\"\n",
        "            for line in f:\n",
        "                if len( line.split() ) <= 7:\n",
        "                    continue\n",
        "                    print(line)\n",
        "                # continue\n",
        "                if len( line.split() ) > 300:\n",
        "                    ip_ids = tokenizer(line, truncation=True, padding=False)['input_ids']\n",
        "                    ip_ids_line += ' '.join( map(lambda x: str(x), ip_ids) ) + '\\n'\n",
        "                    # print( len(ip_ids) )\n",
        "                    # if len(ip_ids) == 1024:\n",
        "                    #     print( \"a\" )\n",
        "                    continue\n",
        "                if len( to_tokenize.split() ) < 300:\n",
        "                    to_tokenize += line\n",
        "                    continue\n",
        "                to_tokenize += line\n",
        "                ip_ids = tokenizer(to_tokenize, truncation=True, padding=False)['input_ids']\n",
        "                # print( len(ip_ids) )\n",
        "                # if len(ip_ids) == 1024:\n",
        "                #     print( \"a\" )\n",
        "                # print( to_tokenize )\n",
        "                to_tokenize = \"\"\n",
        "                ip_ids_line += ' '.join( map(lambda x: str(x), ip_ids) ) + '\\n'\n",
        "            if i % 20 == 0:\n",
        "                with open(os.path.join(CORPUS_PATH, 'pre-tokenized', f'{i}.txt'), 'w+') as out:\n",
        "                    out.write(ip_ids_line)\n",
        "                ip_ids_line = \"\"\n",
        "\n",
        "\n",
        "            for line in f:\n",
        "                i += 1\n",
        "                line = html.unescape(line)\n",
        "                line = line.strip()\n",
        "                if not line:\n",
        "                    continue\n",
        "                if line.startswith('<'):\n",
        "                    dump += line + '\\n'\n",
        "                else:\n",
        "                    dump += word_segment(line) + '\\n'\n",
        "with open(f'/content/drive/MyDrive/datasets/vietnamese-corpus/viWikitext-VnCoreNlp-treated/{i}.txt', 'w+', encoding=\"utf8\") as f:\n",
        "    f.write(dump)\n",
        "del dump\n",
        "print(i)"
      ],
      "execution_count": null,
      "outputs": []
    },
    {
      "cell_type": "markdown",
      "metadata": {
        "id": "-lsvwJhgAozs"
      },
      "source": [
        "### Pre-tokenize"
      ]
    },
    {
      "cell_type": "code",
      "metadata": {
        "id": "l3F0FwJbt11V",
        "colab": {
          "base_uri": "https://localhost:8080/"
        },
        "outputId": "e0bf22c1-402c-4a52-c74d-6d107857823c"
      },
      "source": [
        "import time, random\n",
        "\n",
        "ip_ids_line1 = \"\"\n",
        "ip_ids_line2 = \"\"\n",
        "ip_ids_line3 = \"\"\n",
        "\n",
        "skip_title = False\n",
        "longest_len = 0\n",
        "SLIDE_SIZE = 500\n",
        "SLIDE_STRIDE = 400\n",
        "article = \"0 \"\n",
        "to_tokenize = \"\"\n",
        "to_tokenize2 = \"\"\n",
        "with open(\"/content/drive/MyDrive/datasets/vietnamese-corpus/viWikitext-VnCoreNlp-treated/9110120.txt\", 'r', encoding=\"utf8\") as f:\n",
        "    for i, line in enumerate(f):\n",
        "        if skip_title:\n",
        "            skip_title = False\n",
        "            continue\n",
        "        if line.startswith(\"<doc\"):\n",
        "            skip_title = True\n",
        "            continue\n",
        "        elif line.startswith(\"</doc\"):\n",
        "            splitted = article.split()\n",
        "            l = len(splitted)\n",
        "            '''\n",
        "            if l > 10 and l<= 45:\n",
        "                # if random.random() < 0.001:\n",
        "                #     print(article)\n",
        "                to_tokenize2 += article.strip()+'\\n'\n",
        "                l2 = len(to_tokenize2.split())\n",
        "                if l2 > 500:\n",
        "                    ip_ids = tokenizer(to_tokenize2, truncation=True, padding=False)['input_ids']\n",
        "                    ip_ids_line1 += ' '.join( map(lambda x: str(x), ip_ids) ) + '\\n'\n",
        "                    to_tokenize2 = \"\"\n",
        "                    if random.random() < 0.0001:\n",
        "                        print(len(ip_ids))\n",
        "            \n",
        "            if l > 45 and l-1 <= SLIDE_SIZE:\n",
        "                to_tokenize += article.strip()+'\\n'\n",
        "                l2 = len(to_tokenize.split())\n",
        "                if l2 > 300:\n",
        "                    ip_ids = tokenizer(to_tokenize, truncation=True, padding=False)['input_ids']\n",
        "                    ip_ids_line2 += ' '.join( map(lambda x: str(x), ip_ids) ) + '\\n'\n",
        "                    to_tokenize = \"\"\n",
        "                    if random.random() < 0.0001:\n",
        "                        print(len(ip_ids))\n",
        "            '''\n",
        "            if l-1 > SLIDE_SIZE:\n",
        "                pos = 0\n",
        "                sliding = True\n",
        "                while True:\n",
        "                    window = splitted[pos:pos+SLIDE_SIZE]\n",
        "                    ip_ids = tokenizer(' '.join(window), truncation=True, padding=False)['input_ids']\n",
        "                    # print(' '.join(window))\n",
        "                    # time.sleep(.1)\n",
        "                    ip_ids_line3 += ' '.join( map(lambda x: str(x), ip_ids) ) + '\\n'\n",
        "                    if not sliding: break\n",
        "                    pos += SLIDE_STRIDE\n",
        "                    if pos+SLIDE_SIZE > l-1:\n",
        "                        pos = l-1-SLIDE_SIZE\n",
        "                        sliding = False\n",
        "                    if random.random() < 0.001:\n",
        "                        print(len(ip_ids))\n",
        "            \n",
        "            article = \"\"\n",
        "        elif line.startswith('<'):\n",
        "            continue\n",
        "        else:\n",
        "            if len(line.split()) < 7:\n",
        "                continue\n",
        "            article += line\n",
        "\n",
        "# with open('/content/drive/MyDrive/datasets/vietnamese-corpus/pretokenized-0405/wikitext10-45.txt', 'w+') as out:\n",
        "#     out.write(ip_ids_line1)\n",
        "# with open('/content/drive/MyDrive/datasets/vietnamese-corpus/pretokenized-0405/wikitext46-300.txt', 'w+') as out:\n",
        "#     out.write(ip_ids_line2)\n",
        "with open('/content/drive/MyDrive/datasets/vietnamese-corpus/pretokenized-0405/wikitext301v2.txt', 'w+') as out:\n",
        "    out.write(ip_ids_line3)"
      ],
      "execution_count": null,
      "outputs": [
        {
          "output_type": "stream",
          "text": [
            "858\n",
            "778\n",
            "922\n",
            "762\n",
            "799\n",
            "771\n",
            "920\n",
            "798\n",
            "709\n",
            "814\n",
            "749\n",
            "814\n",
            "822\n",
            "913\n",
            "902\n",
            "726\n",
            "730\n",
            "760\n",
            "838\n",
            "780\n",
            "872\n",
            "825\n",
            "846\n",
            "736\n",
            "831\n",
            "951\n",
            "858\n",
            "804\n",
            "898\n",
            "730\n",
            "826\n",
            "760\n",
            "776\n",
            "811\n",
            "783\n",
            "800\n",
            "789\n",
            "790\n",
            "802\n",
            "725\n",
            "786\n",
            "755\n",
            "789\n",
            "824\n",
            "733\n",
            "755\n",
            "693\n",
            "792\n",
            "743\n",
            "753\n",
            "819\n",
            "881\n",
            "745\n",
            "703\n",
            "707\n",
            "777\n",
            "759\n",
            "686\n",
            "807\n",
            "797\n",
            "830\n",
            "894\n",
            "817\n",
            "918\n",
            "873\n",
            "776\n",
            "780\n",
            "839\n",
            "894\n",
            "805\n",
            "813\n",
            "795\n",
            "774\n",
            "834\n",
            "733\n",
            "862\n",
            "800\n",
            "695\n",
            "785\n",
            "750\n",
            "797\n",
            "813\n",
            "754\n",
            "702\n",
            "833\n",
            "746\n",
            "693\n",
            "914\n",
            "1024\n",
            "764\n",
            "684\n",
            "828\n",
            "759\n",
            "865\n",
            "875\n",
            "770\n",
            "752\n",
            "1003\n",
            "776\n",
            "868\n",
            "744\n",
            "870\n",
            "785\n",
            "850\n",
            "840\n",
            "900\n",
            "759\n",
            "841\n",
            "875\n",
            "806\n",
            "734\n",
            "834\n",
            "770\n",
            "892\n",
            "822\n",
            "840\n",
            "740\n",
            "763\n",
            "864\n",
            "796\n",
            "728\n",
            "923\n",
            "899\n",
            "763\n",
            "832\n"
          ],
          "name": "stdout"
        }
      ]
    },
    {
      "cell_type": "code",
      "metadata": {
        "id": "cn2pSe5htmsN"
      },
      "source": [
        "with open(os.path.join('/content/drive/MyDrive/datasets/vietnamese-corpus/pre-tokenized', 'wikitext301.txt'), 'r') as out:\n",
        "    for line in out:\n",
        "        len_ = len(line.strip().split())\n",
        "        if random.random() < 0.01:\n",
        "            print(len_)\n",
        "        # if len_ >= 1024:\n",
        "        #     print(len_)"
      ],
      "execution_count": null,
      "outputs": []
    },
    {
      "cell_type": "markdown",
      "metadata": {
        "id": "3-NUmgUIVi5d"
      },
      "source": [
        "## Visualize"
      ]
    },
    {
      "cell_type": "code",
      "metadata": {
        "id": "SSTJF6R3sdlu"
      },
      "source": [
        "RANGE = 200\n",
        "entry_len = {x: 0 for x in range(RANGE+1)}\n",
        "\n",
        "skip_title = False\n",
        "longest_len = 0\n",
        "with open(\"/content/drive/MyDrive/datasets/vietnamese-corpus/viWikitext-VnCoreNlp-treated/9110120.txt\", 'r', encoding=\"utf8\") as f:\n",
        "    article = \"\"\n",
        "    for i, line in enumerate(f):\n",
        "        if skip_title:\n",
        "            skip_title = False\n",
        "            continue\n",
        "        if line.startswith(\"<doc\"):\n",
        "            skip_title = True\n",
        "            continue\n",
        "        elif line.startswith(\"</doc\"):\n",
        "            l = len(article.split())\n",
        "            entry_len[l if l<=RANGE else RANGE] += 1\n",
        "            if l > 10 and l < 20 and l!=0 and article.endswith(':\\n'):\n",
        "                print(article)\n",
        "                # break\n",
        "            article = \"\"\n",
        "        else:\n",
        "            article += line\n",
        "\n",
        "        # if l > longest_len:\n",
        "        #     longest_len = l\n",
        "        #     print(f'index: {i}')\n",
        "        #     print(f'len: {l}')\n",
        "        #     print(line)\n",
        "\n",
        "\n",
        "import matplotlib.pyplot as plt\n",
        "plt.bar(range(len(entry_len)), list(entry_len.values()))\n",
        "plt.show()"
      ],
      "execution_count": null,
      "outputs": []
    },
    {
      "cell_type": "markdown",
      "metadata": {
        "id": "3OzNkDhUAXTs"
      },
      "source": [
        "# test"
      ]
    },
    {
      "cell_type": "code",
      "metadata": {
        "colab": {
          "base_uri": "https://localhost:8080/",
          "height": 316,
          "referenced_widgets": [
            "910b0ea871ad4a6bb980a340797ee5c0",
            "a6a41d54f7a64db497dcaec47a3b1c82",
            "f904ad9a0cd14ef89500ebf843f068c5",
            "571d3f47c28144128fe19d8f6d153ff9",
            "f7dc605b4499451e9be5643a8b5e9757",
            "ec957f023a694398a28dcb1c4936e682",
            "a6169bf4c9c24f9ba7e209ad78310674",
            "082034ea42fa49e5a2c0518df5af86d4",
            "5114638448dd4c54b21e8483e0f882b9",
            "1f85497215f543e08bd7c257050478ae",
            "a17df58ac2834678860e46db770a9ceb",
            "a35342170e1247c7a0af37bbaae7abcf",
            "ec0a90f543ad4e5c90606dd7de6172fa",
            "48163245230b42d9bad3b638e93e9c02",
            "eb0eb8bed14b4fa28cc9fd5cbe089aa2",
            "6d0933fb03d94b699a31e432ecd023c4",
            "20a4e7ff9b164cf29879793c732975e8",
            "418da0a4f75442a1ab12f58edfcf1616",
            "437260e0acd549e58d289cc2617cc11b",
            "321edefadfa0424094a55cdedae8734e",
            "fc7ec2b27bf14ab8a91f0274facf7f4b",
            "c8366e0f9f8c4314aa47e7b6a7614fa1",
            "68d19dd57e1d4649a7bbe3b9ce83011e",
            "6d324afdc70841fea416798d0d9cec60",
            "670770dcc4454552a07300a3261480f9",
            "fcfda215c9eb4171bcf4d0ddea5662cb",
            "a9f05756260140818537a1c9bd30a0e2",
            "ee0350447dbd4dbb9299a97e2733edf3",
            "b12f5fb904bd418483bc3228deb7989f",
            "ed9e664278ed40ca9fb420721ed3eb87",
            "33990212f3b94c878d333a07ec546bc9",
            "139dca62455a4051971e11f94cb4a04e",
            "f1c19a2768094766b5d5ff26f0cbf5e3",
            "68d0554c3c9e40aaa7c460a79634b106",
            "6159fd2e9acc478eacade014c0fabf97",
            "bb9b375314d74ae3a2ad92becc154293",
            "36bc2a5baf3944d5bd3de602c323097d",
            "a0387d333bed444890118a195b9852d6",
            "fdc2b46a61244d7c9c4cf5a612f3ca91",
            "e5f229442a754c4c9b17e12a57bb554b"
          ]
        },
        "id": "G5TQOfNuzdqX",
        "outputId": "c8ec8657-46bd-44f8-9111-a422f05d1434"
      },
      "source": [
        "from transformers import pipeline, set_seed\n",
        "\n",
        "generator = pipeline(\n",
        "    'text-generation',\n",
        "    model=\\\n",
        "#         os.path.join(CHECKPOINT_PATH, 'checkpoint-80000'),\n",
        "        # model,\n",
        "        'gpt2-large',\n",
        "    tokenizer=\\\n",
        "#         tokenizer\n",
        "        'gpt2-large'\n",
        ")\n",
        "# set_seed(6110)"
      ],
      "execution_count": null,
      "outputs": [
        {
          "output_type": "display_data",
          "data": {
            "application/vnd.jupyter.widget-view+json": {
              "model_id": "910b0ea871ad4a6bb980a340797ee5c0",
              "version_major": 2,
              "version_minor": 0
            },
            "text/plain": [
              "HBox(children=(FloatProgress(value=0.0, description='Downloading', max=764.0, style=ProgressStyle(description_…"
            ]
          },
          "metadata": {
            "tags": []
          }
        },
        {
          "output_type": "stream",
          "text": [
            "\n"
          ],
          "name": "stdout"
        },
        {
          "output_type": "display_data",
          "data": {
            "application/vnd.jupyter.widget-view+json": {
              "model_id": "5114638448dd4c54b21e8483e0f882b9",
              "version_major": 2,
              "version_minor": 0
            },
            "text/plain": [
              "HBox(children=(FloatProgress(value=0.0, description='Downloading', max=3247202234.0, style=ProgressStyle(descr…"
            ]
          },
          "metadata": {
            "tags": []
          }
        },
        {
          "output_type": "stream",
          "text": [
            "\n"
          ],
          "name": "stdout"
        },
        {
          "output_type": "stream",
          "text": [
            "Some weights of GPT2Model were not initialized from the model checkpoint at gpt2-large and are newly initialized: ['h.0.attn.masked_bias', 'h.1.attn.masked_bias', 'h.2.attn.masked_bias', 'h.3.attn.masked_bias', 'h.4.attn.masked_bias', 'h.5.attn.masked_bias', 'h.6.attn.masked_bias', 'h.7.attn.masked_bias', 'h.8.attn.masked_bias', 'h.9.attn.masked_bias', 'h.10.attn.masked_bias', 'h.11.attn.masked_bias', 'h.12.attn.masked_bias', 'h.13.attn.masked_bias', 'h.14.attn.masked_bias', 'h.15.attn.masked_bias', 'h.16.attn.masked_bias', 'h.17.attn.masked_bias', 'h.18.attn.masked_bias', 'h.19.attn.masked_bias', 'h.20.attn.masked_bias', 'h.21.attn.masked_bias', 'h.22.attn.masked_bias', 'h.23.attn.masked_bias', 'h.24.attn.masked_bias', 'h.25.attn.masked_bias', 'h.26.attn.masked_bias', 'h.27.attn.masked_bias', 'h.28.attn.masked_bias', 'h.29.attn.masked_bias', 'h.30.attn.masked_bias', 'h.31.attn.masked_bias', 'h.32.attn.masked_bias', 'h.33.attn.masked_bias', 'h.34.attn.masked_bias', 'h.35.attn.masked_bias']\n",
            "You should probably TRAIN this model on a down-stream task to be able to use it for predictions and inference.\n"
          ],
          "name": "stderr"
        },
        {
          "output_type": "display_data",
          "data": {
            "application/vnd.jupyter.widget-view+json": {
              "model_id": "20a4e7ff9b164cf29879793c732975e8",
              "version_major": 2,
              "version_minor": 0
            },
            "text/plain": [
              "HBox(children=(FloatProgress(value=0.0, description='Downloading', max=1042301.0, style=ProgressStyle(descript…"
            ]
          },
          "metadata": {
            "tags": []
          }
        },
        {
          "output_type": "stream",
          "text": [
            "\n"
          ],
          "name": "stdout"
        },
        {
          "output_type": "display_data",
          "data": {
            "application/vnd.jupyter.widget-view+json": {
              "model_id": "670770dcc4454552a07300a3261480f9",
              "version_major": 2,
              "version_minor": 0
            },
            "text/plain": [
              "HBox(children=(FloatProgress(value=0.0, description='Downloading', max=456318.0, style=ProgressStyle(descripti…"
            ]
          },
          "metadata": {
            "tags": []
          }
        },
        {
          "output_type": "stream",
          "text": [
            "\n"
          ],
          "name": "stdout"
        },
        {
          "output_type": "display_data",
          "data": {
            "application/vnd.jupyter.widget-view+json": {
              "model_id": "f1c19a2768094766b5d5ff26f0cbf5e3",
              "version_major": 2,
              "version_minor": 0
            },
            "text/plain": [
              "HBox(children=(FloatProgress(value=0.0, description='Downloading', max=1355256.0, style=ProgressStyle(descript…"
            ]
          },
          "metadata": {
            "tags": []
          }
        },
        {
          "output_type": "stream",
          "text": [
            "\n"
          ],
          "name": "stdout"
        }
      ]
    },
    {
      "cell_type": "code",
      "metadata": {
        "colab": {
          "base_uri": "https://localhost:8080/",
          "height": 340
        },
        "id": "lXSTLnyMzhXt",
        "outputId": "375f13bd-a13f-4778-ce1c-d3768250bc97"
      },
      "source": [
        "result = generator(\"\", max_length=1028, num_return_sequences=3)\n",
        "result"
      ],
      "execution_count": null,
      "outputs": [
        {
          "output_type": "stream",
          "text": [
            "Setting `pad_token_id` to `eos_token_id`:50256 for open-end generation.\n"
          ],
          "name": "stderr"
        },
        {
          "output_type": "error",
          "ename": "IndexError",
          "evalue": "ignored",
          "traceback": [
            "\u001b[0;31m---------------------------------------------------------------------------\u001b[0m",
            "\u001b[0;31mIndexError\u001b[0m                                Traceback (most recent call last)",
            "\u001b[0;32m<ipython-input-59-6555e96c3e24>\u001b[0m in \u001b[0;36m<module>\u001b[0;34m()\u001b[0m\n\u001b[0;32m----> 1\u001b[0;31m \u001b[0mresult\u001b[0m \u001b[0;34m=\u001b[0m \u001b[0mgenerator\u001b[0m\u001b[0;34m(\u001b[0m\u001b[0;34m\"\"\u001b[0m\u001b[0;34m,\u001b[0m \u001b[0mmax_length\u001b[0m\u001b[0;34m=\u001b[0m\u001b[0;36m1028\u001b[0m\u001b[0;34m,\u001b[0m \u001b[0mnum_return_sequences\u001b[0m\u001b[0;34m=\u001b[0m\u001b[0;36m3\u001b[0m\u001b[0;34m)\u001b[0m\u001b[0;34m\u001b[0m\u001b[0;34m\u001b[0m\u001b[0m\n\u001b[0m\u001b[1;32m      2\u001b[0m \u001b[0mresult\u001b[0m\u001b[0;34m\u001b[0m\u001b[0;34m\u001b[0m\u001b[0m\n",
            "\u001b[0;32m/usr/local/lib/python3.7/dist-packages/transformers/pipelines/text_generation.py\u001b[0m in \u001b[0;36m__call__\u001b[0;34m(self, text_inputs, return_tensors, return_text, return_full_text, clean_up_tokenization_spaces, prefix, **generate_kwargs)\u001b[0m\n\u001b[1;32m    145\u001b[0m                 ), \"Batch generation is currently not supported. See https://github.com/huggingface/transformers/issues/3021 for more information.\"\n\u001b[1;32m    146\u001b[0m \u001b[0;34m\u001b[0m\u001b[0m\n\u001b[0;32m--> 147\u001b[0;31m                 \u001b[0moutput_sequences\u001b[0m \u001b[0;34m=\u001b[0m \u001b[0mself\u001b[0m\u001b[0;34m.\u001b[0m\u001b[0mmodel\u001b[0m\u001b[0;34m.\u001b[0m\u001b[0mgenerate\u001b[0m\u001b[0;34m(\u001b[0m\u001b[0minput_ids\u001b[0m\u001b[0;34m=\u001b[0m\u001b[0minput_ids\u001b[0m\u001b[0;34m,\u001b[0m \u001b[0;34m**\u001b[0m\u001b[0mgenerate_kwargs\u001b[0m\u001b[0;34m)\u001b[0m  \u001b[0;31m# BS x SL\u001b[0m\u001b[0;34m\u001b[0m\u001b[0;34m\u001b[0m\u001b[0m\n\u001b[0m\u001b[1;32m    148\u001b[0m \u001b[0;34m\u001b[0m\u001b[0m\n\u001b[1;32m    149\u001b[0m             \u001b[0mresult\u001b[0m \u001b[0;34m=\u001b[0m \u001b[0;34m[\u001b[0m\u001b[0;34m]\u001b[0m\u001b[0;34m\u001b[0m\u001b[0;34m\u001b[0m\u001b[0m\n",
            "\u001b[0;32m/usr/local/lib/python3.7/dist-packages/torch/autograd/grad_mode.py\u001b[0m in \u001b[0;36mdecorate_context\u001b[0;34m(*args, **kwargs)\u001b[0m\n\u001b[1;32m     25\u001b[0m         \u001b[0;32mdef\u001b[0m \u001b[0mdecorate_context\u001b[0m\u001b[0;34m(\u001b[0m\u001b[0;34m*\u001b[0m\u001b[0margs\u001b[0m\u001b[0;34m,\u001b[0m \u001b[0;34m**\u001b[0m\u001b[0mkwargs\u001b[0m\u001b[0;34m)\u001b[0m\u001b[0;34m:\u001b[0m\u001b[0;34m\u001b[0m\u001b[0;34m\u001b[0m\u001b[0m\n\u001b[1;32m     26\u001b[0m             \u001b[0;32mwith\u001b[0m \u001b[0mself\u001b[0m\u001b[0;34m.\u001b[0m\u001b[0m__class__\u001b[0m\u001b[0;34m(\u001b[0m\u001b[0;34m)\u001b[0m\u001b[0;34m:\u001b[0m\u001b[0;34m\u001b[0m\u001b[0;34m\u001b[0m\u001b[0m\n\u001b[0;32m---> 27\u001b[0;31m                 \u001b[0;32mreturn\u001b[0m \u001b[0mfunc\u001b[0m\u001b[0;34m(\u001b[0m\u001b[0;34m*\u001b[0m\u001b[0margs\u001b[0m\u001b[0;34m,\u001b[0m \u001b[0;34m**\u001b[0m\u001b[0mkwargs\u001b[0m\u001b[0;34m)\u001b[0m\u001b[0;34m\u001b[0m\u001b[0;34m\u001b[0m\u001b[0m\n\u001b[0m\u001b[1;32m     28\u001b[0m         \u001b[0;32mreturn\u001b[0m \u001b[0mcast\u001b[0m\u001b[0;34m(\u001b[0m\u001b[0mF\u001b[0m\u001b[0;34m,\u001b[0m \u001b[0mdecorate_context\u001b[0m\u001b[0;34m)\u001b[0m\u001b[0;34m\u001b[0m\u001b[0;34m\u001b[0m\u001b[0m\n\u001b[1;32m     29\u001b[0m \u001b[0;34m\u001b[0m\u001b[0m\n",
            "\u001b[0;32m/usr/local/lib/python3.7/dist-packages/transformers/generation_utils.py\u001b[0m in \u001b[0;36mgenerate\u001b[0;34m(self, input_ids, max_length, min_length, do_sample, early_stopping, num_beams, temperature, top_k, top_p, repetition_penalty, bad_words_ids, bos_token_id, pad_token_id, eos_token_id, length_penalty, no_repeat_ngram_size, encoder_no_repeat_ngram_size, num_return_sequences, max_time, decoder_start_token_id, use_cache, num_beam_groups, diversity_penalty, prefix_allowed_tokens_fn, output_attentions, output_hidden_states, output_scores, return_dict_in_generate, forced_bos_token_id, forced_eos_token_id, **model_kwargs)\u001b[0m\n\u001b[1;32m   1017\u001b[0m                 \u001b[0moutput_scores\u001b[0m\u001b[0;34m=\u001b[0m\u001b[0moutput_scores\u001b[0m\u001b[0;34m,\u001b[0m\u001b[0;34m\u001b[0m\u001b[0;34m\u001b[0m\u001b[0m\n\u001b[1;32m   1018\u001b[0m                 \u001b[0mreturn_dict_in_generate\u001b[0m\u001b[0;34m=\u001b[0m\u001b[0mreturn_dict_in_generate\u001b[0m\u001b[0;34m,\u001b[0m\u001b[0;34m\u001b[0m\u001b[0;34m\u001b[0m\u001b[0m\n\u001b[0;32m-> 1019\u001b[0;31m                 \u001b[0;34m**\u001b[0m\u001b[0mmodel_kwargs\u001b[0m\u001b[0;34m,\u001b[0m\u001b[0;34m\u001b[0m\u001b[0;34m\u001b[0m\u001b[0m\n\u001b[0m\u001b[1;32m   1020\u001b[0m             )\n\u001b[1;32m   1021\u001b[0m \u001b[0;34m\u001b[0m\u001b[0m\n",
            "\u001b[0;32m/usr/local/lib/python3.7/dist-packages/transformers/generation_utils.py\u001b[0m in \u001b[0;36msample\u001b[0;34m(self, input_ids, logits_processor, stopping_criteria, logits_warper, max_length, pad_token_id, eos_token_id, output_attentions, output_hidden_states, output_scores, return_dict_in_generate, **model_kwargs)\u001b[0m\n\u001b[1;32m   1484\u001b[0m                 \u001b[0mreturn_dict\u001b[0m\u001b[0;34m=\u001b[0m\u001b[0;32mTrue\u001b[0m\u001b[0;34m,\u001b[0m\u001b[0;34m\u001b[0m\u001b[0;34m\u001b[0m\u001b[0m\n\u001b[1;32m   1485\u001b[0m                 \u001b[0moutput_attentions\u001b[0m\u001b[0;34m=\u001b[0m\u001b[0moutput_attentions\u001b[0m\u001b[0;34m,\u001b[0m\u001b[0;34m\u001b[0m\u001b[0;34m\u001b[0m\u001b[0m\n\u001b[0;32m-> 1486\u001b[0;31m                 \u001b[0moutput_hidden_states\u001b[0m\u001b[0;34m=\u001b[0m\u001b[0moutput_hidden_states\u001b[0m\u001b[0;34m,\u001b[0m\u001b[0;34m\u001b[0m\u001b[0;34m\u001b[0m\u001b[0m\n\u001b[0m\u001b[1;32m   1487\u001b[0m             )\n\u001b[1;32m   1488\u001b[0m             \u001b[0mnext_token_logits\u001b[0m \u001b[0;34m=\u001b[0m \u001b[0moutputs\u001b[0m\u001b[0;34m.\u001b[0m\u001b[0mlogits\u001b[0m\u001b[0;34m[\u001b[0m\u001b[0;34m:\u001b[0m\u001b[0;34m,\u001b[0m \u001b[0;34m-\u001b[0m\u001b[0;36m1\u001b[0m\u001b[0;34m,\u001b[0m \u001b[0;34m:\u001b[0m\u001b[0;34m]\u001b[0m\u001b[0;34m\u001b[0m\u001b[0;34m\u001b[0m\u001b[0m\n",
            "\u001b[0;32m/usr/local/lib/python3.7/dist-packages/torch/nn/modules/module.py\u001b[0m in \u001b[0;36m_call_impl\u001b[0;34m(self, *input, **kwargs)\u001b[0m\n\u001b[1;32m    887\u001b[0m             \u001b[0mresult\u001b[0m \u001b[0;34m=\u001b[0m \u001b[0mself\u001b[0m\u001b[0;34m.\u001b[0m\u001b[0m_slow_forward\u001b[0m\u001b[0;34m(\u001b[0m\u001b[0;34m*\u001b[0m\u001b[0minput\u001b[0m\u001b[0;34m,\u001b[0m \u001b[0;34m**\u001b[0m\u001b[0mkwargs\u001b[0m\u001b[0;34m)\u001b[0m\u001b[0;34m\u001b[0m\u001b[0;34m\u001b[0m\u001b[0m\n\u001b[1;32m    888\u001b[0m         \u001b[0;32melse\u001b[0m\u001b[0;34m:\u001b[0m\u001b[0;34m\u001b[0m\u001b[0;34m\u001b[0m\u001b[0m\n\u001b[0;32m--> 889\u001b[0;31m             \u001b[0mresult\u001b[0m \u001b[0;34m=\u001b[0m \u001b[0mself\u001b[0m\u001b[0;34m.\u001b[0m\u001b[0mforward\u001b[0m\u001b[0;34m(\u001b[0m\u001b[0;34m*\u001b[0m\u001b[0minput\u001b[0m\u001b[0;34m,\u001b[0m \u001b[0;34m**\u001b[0m\u001b[0mkwargs\u001b[0m\u001b[0;34m)\u001b[0m\u001b[0;34m\u001b[0m\u001b[0;34m\u001b[0m\u001b[0m\n\u001b[0m\u001b[1;32m    890\u001b[0m         for hook in itertools.chain(\n\u001b[1;32m    891\u001b[0m                 \u001b[0m_global_forward_hooks\u001b[0m\u001b[0;34m.\u001b[0m\u001b[0mvalues\u001b[0m\u001b[0;34m(\u001b[0m\u001b[0;34m)\u001b[0m\u001b[0;34m,\u001b[0m\u001b[0;34m\u001b[0m\u001b[0;34m\u001b[0m\u001b[0m\n",
            "\u001b[0;32m/usr/local/lib/python3.7/dist-packages/transformers/models/gpt2/modeling_gpt2.py\u001b[0m in \u001b[0;36mforward\u001b[0;34m(self, input_ids, past_key_values, attention_mask, token_type_ids, position_ids, head_mask, inputs_embeds, encoder_hidden_states, encoder_attention_mask, labels, use_cache, output_attentions, output_hidden_states, return_dict)\u001b[0m\n\u001b[1;32m    915\u001b[0m             \u001b[0moutput_attentions\u001b[0m\u001b[0;34m=\u001b[0m\u001b[0moutput_attentions\u001b[0m\u001b[0;34m,\u001b[0m\u001b[0;34m\u001b[0m\u001b[0;34m\u001b[0m\u001b[0m\n\u001b[1;32m    916\u001b[0m             \u001b[0moutput_hidden_states\u001b[0m\u001b[0;34m=\u001b[0m\u001b[0moutput_hidden_states\u001b[0m\u001b[0;34m,\u001b[0m\u001b[0;34m\u001b[0m\u001b[0;34m\u001b[0m\u001b[0m\n\u001b[0;32m--> 917\u001b[0;31m             \u001b[0mreturn_dict\u001b[0m\u001b[0;34m=\u001b[0m\u001b[0mreturn_dict\u001b[0m\u001b[0;34m,\u001b[0m\u001b[0;34m\u001b[0m\u001b[0;34m\u001b[0m\u001b[0m\n\u001b[0m\u001b[1;32m    918\u001b[0m         )\n\u001b[1;32m    919\u001b[0m         \u001b[0mhidden_states\u001b[0m \u001b[0;34m=\u001b[0m \u001b[0mtransformer_outputs\u001b[0m\u001b[0;34m[\u001b[0m\u001b[0;36m0\u001b[0m\u001b[0;34m]\u001b[0m\u001b[0;34m\u001b[0m\u001b[0;34m\u001b[0m\u001b[0m\n",
            "\u001b[0;32m/usr/local/lib/python3.7/dist-packages/torch/nn/modules/module.py\u001b[0m in \u001b[0;36m_call_impl\u001b[0;34m(self, *input, **kwargs)\u001b[0m\n\u001b[1;32m    887\u001b[0m             \u001b[0mresult\u001b[0m \u001b[0;34m=\u001b[0m \u001b[0mself\u001b[0m\u001b[0;34m.\u001b[0m\u001b[0m_slow_forward\u001b[0m\u001b[0;34m(\u001b[0m\u001b[0;34m*\u001b[0m\u001b[0minput\u001b[0m\u001b[0;34m,\u001b[0m \u001b[0;34m**\u001b[0m\u001b[0mkwargs\u001b[0m\u001b[0;34m)\u001b[0m\u001b[0;34m\u001b[0m\u001b[0;34m\u001b[0m\u001b[0m\n\u001b[1;32m    888\u001b[0m         \u001b[0;32melse\u001b[0m\u001b[0;34m:\u001b[0m\u001b[0;34m\u001b[0m\u001b[0;34m\u001b[0m\u001b[0m\n\u001b[0;32m--> 889\u001b[0;31m             \u001b[0mresult\u001b[0m \u001b[0;34m=\u001b[0m \u001b[0mself\u001b[0m\u001b[0;34m.\u001b[0m\u001b[0mforward\u001b[0m\u001b[0;34m(\u001b[0m\u001b[0;34m*\u001b[0m\u001b[0minput\u001b[0m\u001b[0;34m,\u001b[0m \u001b[0;34m**\u001b[0m\u001b[0mkwargs\u001b[0m\u001b[0;34m)\u001b[0m\u001b[0;34m\u001b[0m\u001b[0;34m\u001b[0m\u001b[0m\n\u001b[0m\u001b[1;32m    890\u001b[0m         for hook in itertools.chain(\n\u001b[1;32m    891\u001b[0m                 \u001b[0m_global_forward_hooks\u001b[0m\u001b[0;34m.\u001b[0m\u001b[0mvalues\u001b[0m\u001b[0;34m(\u001b[0m\u001b[0;34m)\u001b[0m\u001b[0;34m,\u001b[0m\u001b[0;34m\u001b[0m\u001b[0;34m\u001b[0m\u001b[0m\n",
            "\u001b[0;32m/usr/local/lib/python3.7/dist-packages/transformers/models/gpt2/modeling_gpt2.py\u001b[0m in \u001b[0;36mforward\u001b[0;34m(self, input_ids, past_key_values, attention_mask, token_type_ids, position_ids, head_mask, inputs_embeds, encoder_hidden_states, encoder_attention_mask, use_cache, output_attentions, output_hidden_states, return_dict)\u001b[0m\n\u001b[1;32m    693\u001b[0m         \u001b[0;32mif\u001b[0m \u001b[0minputs_embeds\u001b[0m \u001b[0;32mis\u001b[0m \u001b[0;32mNone\u001b[0m\u001b[0;34m:\u001b[0m\u001b[0;34m\u001b[0m\u001b[0;34m\u001b[0m\u001b[0m\n\u001b[1;32m    694\u001b[0m             \u001b[0minputs_embeds\u001b[0m \u001b[0;34m=\u001b[0m \u001b[0mself\u001b[0m\u001b[0;34m.\u001b[0m\u001b[0mwte\u001b[0m\u001b[0;34m(\u001b[0m\u001b[0minput_ids\u001b[0m\u001b[0;34m)\u001b[0m\u001b[0;34m\u001b[0m\u001b[0;34m\u001b[0m\u001b[0m\n\u001b[0;32m--> 695\u001b[0;31m         \u001b[0mposition_embeds\u001b[0m \u001b[0;34m=\u001b[0m \u001b[0mself\u001b[0m\u001b[0;34m.\u001b[0m\u001b[0mwpe\u001b[0m\u001b[0;34m(\u001b[0m\u001b[0mposition_ids\u001b[0m\u001b[0;34m)\u001b[0m\u001b[0;34m\u001b[0m\u001b[0;34m\u001b[0m\u001b[0m\n\u001b[0m\u001b[1;32m    696\u001b[0m         \u001b[0mhidden_states\u001b[0m \u001b[0;34m=\u001b[0m \u001b[0minputs_embeds\u001b[0m \u001b[0;34m+\u001b[0m \u001b[0mposition_embeds\u001b[0m\u001b[0;34m\u001b[0m\u001b[0;34m\u001b[0m\u001b[0m\n\u001b[1;32m    697\u001b[0m \u001b[0;34m\u001b[0m\u001b[0m\n",
            "\u001b[0;32m/usr/local/lib/python3.7/dist-packages/torch/nn/modules/module.py\u001b[0m in \u001b[0;36m_call_impl\u001b[0;34m(self, *input, **kwargs)\u001b[0m\n\u001b[1;32m    887\u001b[0m             \u001b[0mresult\u001b[0m \u001b[0;34m=\u001b[0m \u001b[0mself\u001b[0m\u001b[0;34m.\u001b[0m\u001b[0m_slow_forward\u001b[0m\u001b[0;34m(\u001b[0m\u001b[0;34m*\u001b[0m\u001b[0minput\u001b[0m\u001b[0;34m,\u001b[0m \u001b[0;34m**\u001b[0m\u001b[0mkwargs\u001b[0m\u001b[0;34m)\u001b[0m\u001b[0;34m\u001b[0m\u001b[0;34m\u001b[0m\u001b[0m\n\u001b[1;32m    888\u001b[0m         \u001b[0;32melse\u001b[0m\u001b[0;34m:\u001b[0m\u001b[0;34m\u001b[0m\u001b[0;34m\u001b[0m\u001b[0m\n\u001b[0;32m--> 889\u001b[0;31m             \u001b[0mresult\u001b[0m \u001b[0;34m=\u001b[0m \u001b[0mself\u001b[0m\u001b[0;34m.\u001b[0m\u001b[0mforward\u001b[0m\u001b[0;34m(\u001b[0m\u001b[0;34m*\u001b[0m\u001b[0minput\u001b[0m\u001b[0;34m,\u001b[0m \u001b[0;34m**\u001b[0m\u001b[0mkwargs\u001b[0m\u001b[0;34m)\u001b[0m\u001b[0;34m\u001b[0m\u001b[0;34m\u001b[0m\u001b[0m\n\u001b[0m\u001b[1;32m    890\u001b[0m         for hook in itertools.chain(\n\u001b[1;32m    891\u001b[0m                 \u001b[0m_global_forward_hooks\u001b[0m\u001b[0;34m.\u001b[0m\u001b[0mvalues\u001b[0m\u001b[0;34m(\u001b[0m\u001b[0;34m)\u001b[0m\u001b[0;34m,\u001b[0m\u001b[0;34m\u001b[0m\u001b[0;34m\u001b[0m\u001b[0m\n",
            "\u001b[0;32m/usr/local/lib/python3.7/dist-packages/torch/nn/modules/sparse.py\u001b[0m in \u001b[0;36mforward\u001b[0;34m(self, input)\u001b[0m\n\u001b[1;32m    156\u001b[0m         return F.embedding(\n\u001b[1;32m    157\u001b[0m             \u001b[0minput\u001b[0m\u001b[0;34m,\u001b[0m \u001b[0mself\u001b[0m\u001b[0;34m.\u001b[0m\u001b[0mweight\u001b[0m\u001b[0;34m,\u001b[0m \u001b[0mself\u001b[0m\u001b[0;34m.\u001b[0m\u001b[0mpadding_idx\u001b[0m\u001b[0;34m,\u001b[0m \u001b[0mself\u001b[0m\u001b[0;34m.\u001b[0m\u001b[0mmax_norm\u001b[0m\u001b[0;34m,\u001b[0m\u001b[0;34m\u001b[0m\u001b[0;34m\u001b[0m\u001b[0m\n\u001b[0;32m--> 158\u001b[0;31m             self.norm_type, self.scale_grad_by_freq, self.sparse)\n\u001b[0m\u001b[1;32m    159\u001b[0m \u001b[0;34m\u001b[0m\u001b[0m\n\u001b[1;32m    160\u001b[0m     \u001b[0;32mdef\u001b[0m \u001b[0mextra_repr\u001b[0m\u001b[0;34m(\u001b[0m\u001b[0mself\u001b[0m\u001b[0;34m)\u001b[0m \u001b[0;34m->\u001b[0m \u001b[0mstr\u001b[0m\u001b[0;34m:\u001b[0m\u001b[0;34m\u001b[0m\u001b[0;34m\u001b[0m\u001b[0m\n",
            "\u001b[0;32m/usr/local/lib/python3.7/dist-packages/torch/nn/functional.py\u001b[0m in \u001b[0;36membedding\u001b[0;34m(input, weight, padding_idx, max_norm, norm_type, scale_grad_by_freq, sparse)\u001b[0m\n\u001b[1;32m   1914\u001b[0m         \u001b[0;31m# remove once script supports set_grad_enabled\u001b[0m\u001b[0;34m\u001b[0m\u001b[0;34m\u001b[0m\u001b[0;34m\u001b[0m\u001b[0m\n\u001b[1;32m   1915\u001b[0m         \u001b[0m_no_grad_embedding_renorm_\u001b[0m\u001b[0;34m(\u001b[0m\u001b[0mweight\u001b[0m\u001b[0;34m,\u001b[0m \u001b[0minput\u001b[0m\u001b[0;34m,\u001b[0m \u001b[0mmax_norm\u001b[0m\u001b[0;34m,\u001b[0m \u001b[0mnorm_type\u001b[0m\u001b[0;34m)\u001b[0m\u001b[0;34m\u001b[0m\u001b[0;34m\u001b[0m\u001b[0m\n\u001b[0;32m-> 1916\u001b[0;31m     \u001b[0;32mreturn\u001b[0m \u001b[0mtorch\u001b[0m\u001b[0;34m.\u001b[0m\u001b[0membedding\u001b[0m\u001b[0;34m(\u001b[0m\u001b[0mweight\u001b[0m\u001b[0;34m,\u001b[0m \u001b[0minput\u001b[0m\u001b[0;34m,\u001b[0m \u001b[0mpadding_idx\u001b[0m\u001b[0;34m,\u001b[0m \u001b[0mscale_grad_by_freq\u001b[0m\u001b[0;34m,\u001b[0m \u001b[0msparse\u001b[0m\u001b[0;34m)\u001b[0m\u001b[0;34m\u001b[0m\u001b[0;34m\u001b[0m\u001b[0m\n\u001b[0m\u001b[1;32m   1917\u001b[0m \u001b[0;34m\u001b[0m\u001b[0m\n\u001b[1;32m   1918\u001b[0m \u001b[0;34m\u001b[0m\u001b[0m\n",
            "\u001b[0;31mIndexError\u001b[0m: index out of range in self"
          ]
        }
      ]
    },
    {
      "cell_type": "code",
      "metadata": {
        "colab": {
          "base_uri": "https://localhost:8080/"
        },
        "id": "8qNiezb-znmm",
        "outputId": "754faeca-c075-4e96-b3b0-6297d1604905"
      },
      "source": [
        "result = generator(\"\", max_length=512, num_return_sequences=3)\n",
        "result"
      ],
      "execution_count": null,
      "outputs": [
        {
          "output_type": "stream",
          "text": [
            "Setting `pad_token_id` to `eos_token_id`:50256 for open-end generation.\n"
          ],
          "name": "stderr"
        },
        {
          "output_type": "execute_result",
          "data": {
            "text/plain": [
              "[{'generated_text': 'The Federal Open Market Committee announced its decision to keep its existing program of bond buying active as it considers the composition of its asset purchase portfolio.\\n\\nThe decision to maintain a balance sheet purchases appears well-timed given market conditions, with higher short and long term yields than recent levels, the announcement noted at its policy meeting held Tuesday evening in Washington, D.C.\\n\\n\"We look forward to continuing to build on today\\'s progress and continuing our effort to advance our goal of maximum employment and underemployment,\" said Minneapolis Fed President Narayana Kocherlakota.\\n\\nA two-year portfolio of $75-billion of Treasury securities with a goal of achieving a multiyear low fed funds rate below the 2 percent target will remain under review, the bank\\'s statement noted. The Bank of Canada and the European Central Bank have announced similar asset purchases.\\n\\n\"Today\\'s announcement does not mean they will be done,\" Kocherlakota said, noting that the bank\\'s policy-making monetary policy makers are free to withdraw their intervention at any time. \"This is still their decision to make and it will stay under review.\"\\n\\n\"We have continued to engage with markets, including a broad range of financial and non-financial corporations, to assess the direction that we will need to take in order to achieve our dual objectives of maximum employment and underemployment,\" the bank said. \"I am confident that we have been listening to those input and will continue to move towards our dual goals with great speed. I will not be distracted, however, by whether some of our policies are working.\"\\n\\nIn February, the Federal Open Market Committee indicated its intent to keep its bond-purchasing program on-track as it looked toward a two-year rate target less than inflation. The action followed a January meeting when the central bank unveiled a new asset portfolio that includes Treasury and mortgage investments to maintain asset purchases after its benchmark overnight borrowing rate had ticked up from a near-zero federal funds rate target.\\n\\n\"The FOMC is well aware that the federal funds rate target, while well appreciated by the private sector, had no real impact on core PCE inflation expectations,\" said Minneapolis Fed President Neel Kashkari. \"It will be our job as FOMC staff to identify potential additional instruments to ease our policy stance to lower inflation but without a significant loss of the credibility of the federal funds rate target.\"\\n\\nAs it looks toward another higher rate'},\n",
              " {'generated_text': 'In the past couple days, the news about Donald Trump has come pouring in. It has been quite a shocker, but one that may have some major ramifications in how the people view this country. After all, who else can pull that sort of stunts as shamelessly as Trump?\\n\\nTrump\\'s first 100 days as the 45th president began Sunday, when he issued his first executive order and signed 12 executive orders in three days, making good on his promise to build a wall on the southern border, deport all 11 million \"criminal aliens\" and ban all Muslims from entering the U.S. He began by calling out Washington D.C., and his first act in office was to order to begin the implementation of the first version of his plan to build his wall.\\n\\nBut Trump\\'s antics don\\'t end there. He has already taken the first steps toward the second revision of his Muslim ban. President Trump directed the Department of Homeland Security and the Department of Defense to start the construction of the most comprehensive Muslim travel ban in U.S. history, just days after signing his first executive order.\\n\\nTrump also put the US military on notice that he will be putting an end to the ban on gay troops being allowed to serve openly in the military. As soon as Trump takes office, he says his military will \"restore strength and readiness,\" and \"end discrimination against our LGBTQ troops.\"\\n\\nTrump\\'s new executive orders have done just that. Trump signed 12 executive orders in three days, two of which were orders on energy, the environment, and immigration. The second executive order on the same subject was less controversial, but still important, since it was a complete reversal from his first executive order. Trump rescinded his directive on banning transgender individuals and said he plans to overturn the Department of Defense\\'s directive to keep transgender individuals from serving in the military.\\n\\nThat was not the only order Trump signed during his first 100 days. On Tuesday, Trump issued an executive order that will help to reduce emissions that will help the U.S. become \"more energy independent.\" The executive order is expected to put a spotlight on the clean energy sector, and could change the direction of energy development in the U.S.\\n\\nAnother executive order was the continuation and expansion of the Bush Administration\\'s program to build a Keystone Pipeline. Trump ordered the continuation of the program at a time when construction has ceased on the pipeline over objections from Republicans in Congress and oil companies.\\n\\nTrump\\'s energy executive orders may be very positive news'},\n",
              " {'generated_text': 'A high school senior from West Bloomfield named Daryle Walker was killed Sunday when she was struck by a car while trying to cross the street.\\n\\nWalton County Coroner David Lindquist said Walker, of 824 West Michigan Ave. in Bloomfield, was a senior at Lakeview High School.\\n\\nOn Sunday, Walker was attempting to cross the street at the junction of W. Linder Avenue and Lakeview High School Road at about 7 a.m. when an off-duty officer working the case of a traffic accident on Linder Avenue decided to cross it instead of following the pedestrian.\\n\\nThe collision occurred as Walker was crossing the street in a crosswalk, Lindquist said.\\n\\nWalker, who lived at the home, was pronounced dead at the scene after being taken to the hospital.\\n\\nWalton County Undersheriff Tom Johnson said the off-duty officer who crossed at that location was not identified, did not have prior contact with Walker or believe he might have been acting inappropriately at the time of the accident.\\n\\nJohnson said the officer is facing internal disciplinary actions.\\n\\nLakeview High School Principal Michael DeAngelis said the school was \"heartbroken.\"\\n\\n\"Our hearts are broken today,\" he said Sunday. \"Everybody is grieving these losses.\"\\n\\nDeAngelis said the student who died was a student who had attended high school there for an entire year as a valedictorian. Last May, she was named as valedictorian in the class of 20 students.\\n\\n\"We lose an outstanding student, a talented girl who was well-liked and popular by the entire campus,\" his statement said. \"It is tragic to us, but at the end of the day, she was a part of our Lakeview community and her absence is all we can really ask.\"\\n\\nDeAngelis said Walker had a very special relationship with her classmates.\\n\\n\"Our entire family is devastated, I don\\'t know how to put it into words,\" he said.\\n\\nStudents also posted tributes to Walker on social media in the wake of the accident.\\n\\n\"She touched so many lives and we love you Daryle Walker,\" wrote student Jacob Williams-Krause about Walker.\\n\\n\"You truly made us so happy, from the moment we met you and even today,\" wrote student Ryan D\\'Arazzo.\\n\\nDeAngelis said the teacher who tried to help Walker was not going to face any'}]"
            ]
          },
          "metadata": {
            "tags": []
          },
          "execution_count": 60
        }
      ]
    },
    {
      "cell_type": "code",
      "metadata": {
        "colab": {
          "base_uri": "https://localhost:8080/"
        },
        "id": "2iEwllEv53nZ",
        "outputId": "c2e2f3a9-6046-471c-c300-a2bf9d40591e"
      },
      "source": [
        "print( result[1]['generated_text'] )"
      ],
      "execution_count": null,
      "outputs": [
        {
          "output_type": "stream",
          "text": [
            "In the past couple days, the news about Donald Trump has come pouring in. It has been quite a shocker, but one that may have some major ramifications in how the people view this country. After all, who else can pull that sort of stunts as shamelessly as Trump?\n",
            "\n",
            "Trump's first 100 days as the 45th president began Sunday, when he issued his first executive order and signed 12 executive orders in three days, making good on his promise to build a wall on the southern border, deport all 11 million \"criminal aliens\" and ban all Muslims from entering the U.S. He began by calling out Washington D.C., and his first act in office was to order to begin the implementation of the first version of his plan to build his wall.\n",
            "\n",
            "But Trump's antics don't end there. He has already taken the first steps toward the second revision of his Muslim ban. President Trump directed the Department of Homeland Security and the Department of Defense to start the construction of the most comprehensive Muslim travel ban in U.S. history, just days after signing his first executive order.\n",
            "\n",
            "Trump also put the US military on notice that he will be putting an end to the ban on gay troops being allowed to serve openly in the military. As soon as Trump takes office, he says his military will \"restore strength and readiness,\" and \"end discrimination against our LGBTQ troops.\"\n",
            "\n",
            "Trump's new executive orders have done just that. Trump signed 12 executive orders in three days, two of which were orders on energy, the environment, and immigration. The second executive order on the same subject was less controversial, but still important, since it was a complete reversal from his first executive order. Trump rescinded his directive on banning transgender individuals and said he plans to overturn the Department of Defense's directive to keep transgender individuals from serving in the military.\n",
            "\n",
            "That was not the only order Trump signed during his first 100 days. On Tuesday, Trump issued an executive order that will help to reduce emissions that will help the U.S. become \"more energy independent.\" The executive order is expected to put a spotlight on the clean energy sector, and could change the direction of energy development in the U.S.\n",
            "\n",
            "Another executive order was the continuation and expansion of the Bush Administration's program to build a Keystone Pipeline. Trump ordered the continuation of the program at a time when construction has ceased on the pipeline over objections from Republicans in Congress and oil companies.\n",
            "\n",
            "Trump's energy executive orders may be very positive news\n"
          ],
          "name": "stdout"
        }
      ]
    }
  ]
}